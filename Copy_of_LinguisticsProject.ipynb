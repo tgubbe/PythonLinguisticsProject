{
  "nbformat": 4,
  "nbformat_minor": 0,
  "metadata": {
    "colab": {
      "provenance": [],
      "include_colab_link": true
    },
    "kernelspec": {
      "name": "python3",
      "display_name": "Python 3"
    }
  },
  "cells": [
    {
      "cell_type": "markdown",
      "metadata": {
        "id": "view-in-github",
        "colab_type": "text"
      },
      "source": [
        "<a href=\"https://colab.research.google.com/github/tgubbe/PythonLinguisticsProject/blob/main/Copy_of_LinguisticsProject.ipynb\" target=\"_parent\"><img src=\"https://colab.research.google.com/assets/colab-badge.svg\" alt=\"Open In Colab\"/></a>"
      ]
    },
    {
      "cell_type": "markdown",
      "source": [
        "# **Readability of the Works of Charles Dickens and Nathaniel Hawthorne**\n",
        "\n",
        "### **by: Travis Gubbe**"
      ],
      "metadata": {
        "id": "eJFCl0WkhGRZ"
      }
    },
    {
      "cell_type": "markdown",
      "source": [
        "Below is the code for my college Linguistics Project investigating the readibility of the works of authors Charles Dickens and Nathaniel Hawthorne.\n",
        "\n",
        "For more information, I have saved my paper detailing my findings in the PythonLinguisticsProject repository."
      ],
      "metadata": {
        "id": "Ta2KDKlIhk10"
      }
    },
    {
      "cell_type": "code",
      "metadata": {
        "id": "4c555s_BELI4",
        "outputId": "d1616984-1dc6-4691-e0df-504854958196",
        "colab": {
          "base_uri": "https://localhost:8080/",
          "height": 140
        }
      },
      "source": [
        "!unzip  /content/Hawthorne/hawthorne.zip"
      ],
      "execution_count": null,
      "outputs": [
        {
          "output_type": "stream",
          "text": [
            "Archive:  /content/Hawthorne/hawthorne.zip\n",
            "  inflating: hawthorne/AWonderBook.txt  \n",
            "  inflating: hawthorne/DoctorGrimshawesSecret.txt  \n",
            "  inflating: hawthorne/HouseoftheSevenGables.txt  \n",
            "  inflating: hawthorne/TheBlithedaleRomance.txt  \n",
            "  inflating: hawthorne/TheScarletLetter.txt  \n",
            "  inflating: hawthorne/TwiceToldTales.txt  \n"
          ],
          "name": "stdout"
        }
      ]
    },
    {
      "cell_type": "code",
      "metadata": {
        "id": "niPd1VfFshNw",
        "outputId": "52e27435-4c48-4519-edd7-1abac3038c5a",
        "colab": {
          "base_uri": "https://localhost:8080/",
          "height": 123
        }
      },
      "source": [
        "!unzip  /content/Charles_Dickens/charles_dickens.zip"
      ],
      "execution_count": null,
      "outputs": [
        {
          "output_type": "stream",
          "text": [
            "Archive:  /content/Charles_Dickens/charles_dickens.zip\n",
            "  inflating: charles_dickens/AChristmasCarol.txt  \n",
            "  inflating: charles_dickens/ATaleofTwoCities.txt  \n",
            "  inflating: charles_dickens/BleakHouse.txt  \n",
            "  inflating: charles_dickens/DavidCopperfield.txt  \n",
            "  inflating: charles_dickens/OliverTwist.txt  \n"
          ],
          "name": "stdout"
        }
      ]
    },
    {
      "cell_type": "code",
      "metadata": {
        "id": "nGDLFvPnvQfw",
        "outputId": "013b5ad5-1721-4a91-db58-a9013f3a139c",
        "colab": {
          "base_uri": "https://localhost:8080/",
          "height": 70
        }
      },
      "source": [
        "import nltk\n",
        "import re\n",
        "from toolz import *\n",
        "nltk.download('book',quiet=True)\n",
        "nltk.download('punkt')"
      ],
      "execution_count": null,
      "outputs": [
        {
          "output_type": "stream",
          "text": [
            "[nltk_data] Downloading package punkt to /root/nltk_data...\n",
            "[nltk_data]   Package punkt is already up-to-date!\n"
          ],
          "name": "stdout"
        },
        {
          "output_type": "execute_result",
          "data": {
            "text/plain": [
              "True"
            ]
          },
          "metadata": {
            "tags": []
          },
          "execution_count": 3
        }
      ]
    },
    {
      "cell_type": "markdown",
      "source": [
        "## **Exploratory Analysis**"
      ],
      "metadata": {
        "id": "P_5ee3GYhxmQ"
      }
    },
    {
      "cell_type": "code",
      "metadata": {
        "id": "dcynCnfpAbd6"
      },
      "source": [
        "dickens = nltk.corpus.reader.plaintext.PlaintextCorpusReader('charles_dickens', r'.*\\.txt')\n",
        "hawthorne = nltk.corpus.reader.plaintext.PlaintextCorpusReader('hawthorne', r'.*\\.txt')"
      ],
      "execution_count": null,
      "outputs": []
    },
    {
      "cell_type": "code",
      "metadata": {
        "id": "vGk6zEnF4VmJ"
      },
      "source": [
        "dickens_words = [w.lower() for w in dickens.words() if w.isalpha() or w.endswith(\"'s\") or w.endswith(\"n't\")]\n",
        "hawthorne_words = [w.lower() for w in hawthorne.words() if w.isalpha() or w.endswith(\"'s\") or w.endswith(\"n't\")]"
      ],
      "execution_count": null,
      "outputs": []
    },
    {
      "cell_type": "code",
      "metadata": {
        "id": "DpCEKP5m5HfN",
        "outputId": "34bda832-8b1c-4e3c-db51-63a017786e1e",
        "colab": {
          "base_uri": "https://localhost:8080/",
          "height": 123
        }
      },
      "source": [
        "print(\"The length of the Dickens words:\", len(dickens_words))\n",
        "print(\"The amount of Dickens sentences:\", len(dickens.sents()))\n",
        "print(\"The average amount of Dickens sentences:\", 1054943/58736)\n",
        "print(\"The length of the Hawthorne words:\", len(hawthorne_words))\n",
        "print(\"The amount of Hawthorne sentences:\", len(hawthorne.sents()))\n",
        "print(\"The average amount of Hawthorne sentences:\", 613556/25398)"
      ],
      "execution_count": null,
      "outputs": [
        {
          "output_type": "stream",
          "text": [
            "The length of the Dickens words: 1054943\n",
            "The amount of Dickens sentences: 58736\n",
            "The average amount of Dickens sentences: 17.960756605829474\n",
            "The length of the Hawthorne words: 613556\n",
            "The amount of Hawthorne sentences: 25398\n",
            "The average amount of Hawthorne sentences: 24.15765020867785\n"
          ],
          "name": "stdout"
        }
      ]
    },
    {
      "cell_type": "code",
      "metadata": {
        "id": "xnM8r2ar5kYe",
        "outputId": "16025f77-9357-4b17-9b63-3f8cdf7b95b2",
        "colab": {
          "base_uri": "https://localhost:8080/",
          "height": 291
        }
      },
      "source": [
        "freq = nltk.FreqDist(dickens_words)\n",
        "freq.plot(20)"
      ],
      "execution_count": null,
      "outputs": [
        {
          "output_type": "display_data",
          "data": {
            "image/png": "[encoded data removed]",
            "text/plain": [
              "<Figure size 432x288 with 1 Axes>"
            ]
          },
          "metadata": {
            "tags": []
          }
        }
      ]
    },
    {
      "cell_type": "code",
      "metadata": {
        "id": "ZEMtotWPjk_q"
      },
      "source": [
        "bleak = [w.lower() for w in dickens.words('BleakHouse.txt') if w.isalpha() \n",
        "or w.endswith(\"'s\") or w.endswith(\"n't\") or w.endswith(\"'ll\") or w.endswith(\"'ve\")]\n",
        "carol = [w.lower() for w in dickens.words('AChristmasCarol.txt') if w.isalpha() \n",
        "or w.endswith(\"'s\") or w.endswith(\"n't\") or w.endswith(\"'ll\") or w.endswith(\"'ve\")]\n",
        "cities = [w.lower() for w in dickens.words('ATaleofTwoCities.txt') if w.isalpha() \n",
        "or w.endswith(\"'s\") or w.endswith(\"n't\") or w.endswith(\"'ll\") or w.endswith(\"'ve\")]\n",
        "copper = [w.lower() for w in dickens.words('DavidCopperfield.txt') if w.isalpha() \n",
        "or w.endswith(\"'s\") or w.endswith(\"n't\") or w.endswith(\"'ll\") or w.endswith(\"'ve\")]\n",
        "twist = [w.lower() for w in dickens.words('OliverTwist.txt') if w.isalpha() \n",
        "or w.endswith(\"'s\") or w.endswith(\"n't\") or w.endswith(\"'ll\") or w.endswith(\"'ve\")]"
      ],
      "execution_count": null,
      "outputs": []
    },
    {
      "cell_type": "code",
      "metadata": {
        "id": "-YywFefyW8yB",
        "colab": {
          "base_uri": "https://localhost:8080/",
          "height": 281
        },
        "outputId": "b2bf4548-75b5-4ded-b788-6bf34f1da8bd"
      },
      "source": [
        "print(\"The length of Bleak House words:\", len(bleak))\n",
        "print(\"The amount of Bleak House sentences:\", len(dickens.sents(\"BleakHouse.txt\")))\n",
        "print(\"The average amount of Bleak House sentences:\", 361999/20499)\n",
        "\n",
        "print(\"The length of A Christmas Carol words:\", len(carol))\n",
        "print(\"The amount of A Christmas Carol sentences:\", len(dickens.sents(\"AChristmasCarol.txt\")))\n",
        "print(\"The average amount of A Christmas Carol sentences:\", 29256/1952)\n",
        "\n",
        "print(\"The length of A Tale of Two Cities words:\", len(cities))\n",
        "print(\"The amount of A Tale of Two Cities sentences:\", len(dickens.sents(\"ATaleofTwoCities.txt\")))\n",
        "print(\"The average amount of A Tale of Two Cities sentences:\", 138165/7776)\n",
        "\n",
        "print(\"The length of David Copperfield words:\", len(copper))\n",
        "print(\"The amount of David Copperfield sentences:\", len(dickens.sents(\"DavidCopperfield.txt\")))\n",
        "print(\"The average amount of David Copperfield sentences:\", 363215/19355)\n",
        "\n",
        "print(\"The length of Oliver Twist words:\", len(twist))\n",
        "print(\"The amount of Oliver Twist sentences:\", len(dickens.sents(\"OliverTwist.txt\")))\n",
        "print(\"The average amount of Oliver Twist sentences:\", 162308/9154)"
      ],
      "execution_count": null,
      "outputs": [
        {
          "output_type": "stream",
          "text": [
            "The length of Bleak House words: 361999\n",
            "The amount of Bleak House sentences: 20499\n",
            "The average amount of Bleak House sentences: 17.659349236548124\n",
            "The length of A Christmas Carol words: 29256\n",
            "The amount of A Christmas Carol sentences: 1952\n",
            "The average amount of A Christmas Carol sentences: 14.987704918032787\n",
            "The length of A Tale of Two Cities words: 138165\n",
            "The amount of A Tale of Two Cities sentences: 7776\n",
            "The average amount of A Tale of Two Cities sentences: 17.768132716049383\n",
            "The length of David Copperfield words: 363215\n",
            "The amount of David Copperfield sentences: 19355\n",
            "The average amount of David Copperfield sentences: 18.765951950400414\n",
            "The length of Oliver Twist words: 162308\n",
            "The amount of Oliver Twist sentences: 9154\n",
            "The average amount of Oliver Twist sentences: 17.730828053310027\n"
          ],
          "name": "stdout"
        }
      ]
    },
    {
      "cell_type": "code",
      "metadata": {
        "id": "Cu_ncc2H2JB0"
      },
      "source": [
        "blithe = [w.lower() for w in hawthorne.words('TheBlithedaleRomance.txt') if w.isalpha() \n",
        "or w.endswith(\"'s\") or w.endswith(\"n't\") or w.endswith(\"'ll\") or w.endswith(\"'ve\")]\n",
        "doctor = [w.lower() for w in hawthorne.words('DoctorGrimshawesSecret.txt') if w.isalpha() \n",
        "or w.endswith(\"'s\") or w.endswith(\"n't\") or w.endswith(\"'ll\") or w.endswith(\"'ve\")]\n",
        "house = [w.lower() for w in hawthorne.words('HouseoftheSevenGables.txt') if w.isalpha() \n",
        "or w.endswith(\"'s\") or w.endswith(\"n't\") or w.endswith(\"'ll\") or w.endswith(\"'ve\")]\n",
        "letter = [w.lower() for w in hawthorne.words('TheScarletLetter.txt') if w.isalpha() \n",
        "or w.endswith(\"'s\") or w.endswith(\"n't\") or w.endswith(\"'ll\") or w.endswith(\"'ve\")]\n",
        "tales = [w.lower() for w in hawthorne.words('TwiceToldTales.txt') if w.isalpha() \n",
        "or w.endswith(\"'s\") or w.endswith(\"n't\") or w.endswith(\"'ll\") or w.endswith(\"'ve\")]\n",
        "wonder = [w.lower() for w in hawthorne.words('AWonderBook.txt') if w.isalpha() \n",
        "or w.endswith(\"'s\") or w.endswith(\"n't\") or w.endswith(\"'ll\") or w.endswith(\"'ve\")]"
      ],
      "execution_count": null,
      "outputs": []
    },
    {
      "cell_type": "code",
      "metadata": {
        "id": "z_HpS0tlYRnu",
        "colab": {
          "base_uri": "https://localhost:8080/",
          "height": 334
        },
        "outputId": "bf24d221-3c6d-49a5-c784-a040b9354d39"
      },
      "source": [
        "print(\"The length of The Blithedale Romance words:\", len(blithe))\n",
        "print(\"The amount of The Blithedale Romance sentences:\", len(hawthorne.sents(\"TheBlithedaleRomance.txt\")))\n",
        "print(\"The average amount of The Blithedale Romance sentences:\", 77194/3575)\n",
        "\n",
        "print(\"The length of Doctor Grimshawe's words:\", len(doctor))\n",
        "print(\"The amount of Doctor Grimshawe's sentences:\", len(hawthorne.sents(\"DoctorGrimshawesSecret.txt\")))\n",
        "print(\"The average amount of Doctor Grimshawe's sentences:\", 92797/3232)\n",
        "\n",
        "print(\"The length of House of the Seven Gables words:\", len(cities))\n",
        "print(\"The amount of House of the Seven Gables sentences:\", len(hawthorne.sents(\"HouseoftheSevenGables.txt\")))\n",
        "print(\"The average amount of House of the Seven Gables sentences:\", 138165/4555)\n",
        "\n",
        "print(\"The length of The Scarlet Letter words:\", len(letter))\n",
        "print(\"The amount of The Scarlet Letter sentences:\", len(hawthorne.sents(\"TheScarletLetter.txt\")))\n",
        "print(\"The average amount of The Scarlet Letter sentences:\", 69811/2623)\n",
        "\n",
        "print(\"The length of Twice Told Tales words:\", len(tales))\n",
        "print(\"The amount of Twice Told Tales sentences:\", len(hawthorne.sents(\"TwiceToldTales.txt\")))\n",
        "print(\"The average amount of Twice Told Tales sentences:\", 148912/6071)\n",
        "\n",
        "print(\"The length of A Wonder Book words:\", len(wonder))\n",
        "print(\"The amount of A Wonder Book sentences:\", len(hawthorne.sents(\"AWonderBook.txt\")))\n",
        "print(\"The average amount of A Wonder Book sentences:\", 118817/5342)\n"
      ],
      "execution_count": null,
      "outputs": [
        {
          "output_type": "stream",
          "text": [
            "The length of The Blithedale Romance words: 77194\n",
            "The amount of The Blithedale Romance sentences: 3575\n",
            "The average amount of The Blithedale Romance sentences: 21.592727272727274\n",
            "The length of Doctor Grimshawe's words: 92797\n",
            "The amount of Doctor Grimshawe's sentences: 3232\n",
            "The average amount of Doctor Grimshawe's sentences: 28.71194306930693\n",
            "The length of House of the Seven Gables words: 138165\n",
            "The amount of House of the Seven Gables sentences: 4555\n",
            "The average amount of House of the Seven Gables sentences: 30.332601536772778\n",
            "The length of The Scarlet Letter words: 69811\n",
            "The amount of The Scarlet Letter sentences: 2623\n",
            "The average amount of The Scarlet Letter sentences: 26.614944719786504\n",
            "The length of Twice Told Tales words: 148912\n",
            "The amount of Twice Told Tales sentences: 6071\n",
            "The average amount of Twice Told Tales sentences: 24.528413770383793\n",
            "The length of A Wonder Book words: 118817\n",
            "The amount of A Wonder Book sentences: 5342\n",
            "The average amount of A Wonder Book sentences: 22.242044178210406\n"
          ],
          "name": "stdout"
        }
      ]
    },
    {
      "cell_type": "code",
      "metadata": {
        "id": "JBEj28yZoCLJ",
        "outputId": "9e531f5e-ce6b-45c8-bf0c-232ec914bf4a",
        "colab": {
          "base_uri": "https://localhost:8080/",
          "height": 309
        }
      },
      "source": [
        "freq_carol = nltk.FreqDist(carol)\n",
        "freq_carol.plot(20)"
      ],
      "execution_count": null,
      "outputs": [
        {
          "output_type": "display_data",
          "data": {
            "image/png": "[encoded data removed]",
            "text/plain": [
              "<Figure size 432x288 with 1 Axes>"
            ]
          },
          "metadata": {
            "tags": []
          }
        }
      ]
    },
    {
      "cell_type": "code",
      "metadata": {
        "id": "L57XRjCSosT5",
        "outputId": "db0532ff-8a53-47bd-95ab-8ec6861d2328",
        "colab": {
          "base_uri": "https://localhost:8080/",
          "height": 291
        }
      },
      "source": [
        "freq_cities = nltk.FreqDist(cities)\n",
        "freq_cities.plot(20)"
      ],
      "execution_count": null,
      "outputs": [
        {
          "output_type": "display_data",
          "data": {
            "image/png": "[encoded data removed]",
            "text/plain": [
              "<Figure size 432x288 with 1 Axes>"
            ]
          },
          "metadata": {
            "tags": []
          }
        }
      ]
    },
    {
      "cell_type": "code",
      "metadata": {
        "id": "eZ3lzGVjo3Wf",
        "outputId": "d91bdcba-0a60-452a-d14c-f2705f55e955",
        "colab": {
          "base_uri": "https://localhost:8080/",
          "height": 291
        }
      },
      "source": [
        "freq_copper = nltk.FreqDist(copper)\n",
        "freq_copper.plot(20)"
      ],
      "execution_count": null,
      "outputs": [
        {
          "output_type": "display_data",
          "data": {
            "image/png": "[encoded data removed]",
            "text/plain": [
              "<Figure size 432x288 with 1 Axes>"
            ]
          },
          "metadata": {
            "tags": []
          }
        }
      ]
    },
    {
      "cell_type": "code",
      "metadata": {
        "id": "11ltTqT5o96b",
        "outputId": "b5310759-71cd-424a-eeba-a89708862363",
        "colab": {
          "base_uri": "https://localhost:8080/",
          "height": 293
        }
      },
      "source": [
        "freq_twist = nltk.FreqDist(twist)\n",
        "freq_twist.plot(20)"
      ],
      "execution_count": null,
      "outputs": [
        {
          "output_type": "display_data",
          "data": {
            "image/png": "[encoded data removed]",
            "text/plain": [
              "<Figure size 432x288 with 1 Axes>"
            ]
          },
          "metadata": {
            "tags": []
          }
        }
      ]
    },
    {
      "cell_type": "markdown",
      "metadata": {
        "id": "aoCkTNewroIj"
      },
      "source": [
        "Fileids for Dickens corpus"
      ]
    },
    {
      "cell_type": "code",
      "metadata": {
        "id": "Z2u26asLYGMr",
        "outputId": "9d7230a8-4c58-4b71-d9c0-dfe1a00f894d",
        "colab": {
          "base_uri": "https://localhost:8080/",
          "height": 105
        }
      },
      "source": [
        "dickens.fileids()"
      ],
      "execution_count": null,
      "outputs": [
        {
          "output_type": "execute_result",
          "data": {
            "text/plain": [
              "['AChristmasCarol.txt',\n",
              " 'ATaleofTwoCities.txt',\n",
              " 'BleakHouse.txt',\n",
              " 'DavidCopperfield.txt',\n",
              " 'OliverTwist.txt']"
            ]
          },
          "metadata": {
            "tags": []
          },
          "execution_count": 11
        }
      ]
    },
    {
      "cell_type": "code",
      "metadata": {
        "id": "9dhEWNFMEn01",
        "outputId": "17faeefb-e51f-438b-9c66-896303b4a6ec",
        "colab": {
          "base_uri": "https://localhost:8080/",
          "height": 123
        }
      },
      "source": [
        "hawthorne.fileids()"
      ],
      "execution_count": null,
      "outputs": [
        {
          "output_type": "execute_result",
          "data": {
            "text/plain": [
              "['AWonderBook.txt',\n",
              " 'DoctorGrimshawesSecret.txt',\n",
              " 'HouseoftheSevenGables.txt',\n",
              " 'TheBlithedaleRomance.txt',\n",
              " 'TheScarletLetter.txt',\n",
              " 'TwiceToldTales.txt']"
            ]
          },
          "metadata": {
            "tags": []
          },
          "execution_count": 12
        }
      ]
    },
    {
      "cell_type": "code",
      "metadata": {
        "id": "ZJSRjSGJlNgR",
        "outputId": "d84be1bc-b816-435f-f94d-6a4b42726a73",
        "colab": {
          "base_uri": "https://localhost:8080/",
          "height": 246
        }
      },
      "source": [
        "print('Length of Dickens texts:')\n",
        "print(len(bleak))\n",
        "print(len(carol))\n",
        "print(len(cities))\n",
        "print(len(copper))\n",
        "print(len(twist))\n",
        "print('Length of Hawthorne texts:')\n",
        "print(len(blithe))\n",
        "print(len(doctor))\n",
        "print(len(house))\n",
        "print(len(letter))\n",
        "print(len(tales))\n",
        "print(len(wonder))"
      ],
      "execution_count": null,
      "outputs": [
        {
          "output_type": "stream",
          "text": [
            "Length of Dickens texts:\n",
            "361999\n",
            "29256\n",
            "138165\n",
            "363215\n",
            "162308\n",
            "Length of Hawthorne texts:\n",
            "77194\n",
            "92797\n",
            "106025\n",
            "69811\n",
            "148912\n",
            "118817\n"
          ],
          "name": "stdout"
        }
      ]
    },
    {
      "cell_type": "markdown",
      "metadata": {
        "id": "nCSgs3jyUAX4"
      },
      "source": [
        "## **CFD Plot of Word length frequency in the Dickens Texts**"
      ]
    },
    {
      "cell_type": "code",
      "metadata": {
        "id": "cP7RSh34l87X",
        "outputId": "ad6540b4-565e-46b1-a8c1-8ea3b13f9248",
        "colab": {
          "base_uri": "https://localhost:8080/",
          "height": 282
        }
      },
      "source": [
        "#Word length frequency for first 30,000 words in text\n",
        "cfd_dickens = nltk.ConditionalFreqDist(\n",
        "         (book, len(word))\n",
        "         for book in dickens.fileids()\n",
        "         for word in dickens.words(book)[:29250]\n",
        "\n",
        ")\n",
        "\n",
        "cfd_dickens.plot()"
      ],
      "execution_count": null,
      "outputs": [
        {
          "output_type": "display_data",
          "data": {
            "image/png": "[encoded data removed]",
            "text/plain": [
              "<Figure size 432x288 with 1 Axes>"
            ]
          },
          "metadata": {
            "tags": []
          }
        }
      ]
    },
    {
      "cell_type": "code",
      "metadata": {
        "id": "2eASi8GlM90E",
        "outputId": "b0dc040e-b650-45dd-8b00-8b0eec8a76b3",
        "colab": {
          "base_uri": "https://localhost:8080/",
          "height": 282
        }
      },
      "source": [
        "#Word length frequency for Dickens texts with at least 100,000 words\n",
        "dickens_100 = ['BleakHouse.txt', 'ATaleofTwoCities.txt', 'DavidCopperfield.txt', 'OliverTwist.txt']\n",
        "cfd_dickens_full = nltk.ConditionalFreqDist(\n",
        "        (book, len(word))\n",
        "        for book in dickens_100\n",
        "        for word in dickens.words(book)\n",
        ")\n",
        "cfd_dickens_full.plot()"
      ],
      "execution_count": null,
      "outputs": [
        {
          "output_type": "display_data",
          "data": {
            "image/png": "[encoded data removed]",
            "text/plain": [
              "<Figure size 432x288 with 1 Axes>"
            ]
          },
          "metadata": {
            "tags": []
          }
        }
      ]
    },
    {
      "cell_type": "markdown",
      "metadata": {
        "id": "Oi7BYtwtDp9F"
      },
      "source": [
        "CFD Plot of Word length frequency in the Hawthorne Texts"
      ]
    },
    {
      "cell_type": "code",
      "metadata": {
        "id": "KlRT0fLBDsq0",
        "outputId": "3a3973e6-0a0c-4eaa-ab77-83dd375c5f1e",
        "colab": {
          "base_uri": "https://localhost:8080/",
          "height": 282
        }
      },
      "source": [
        "#Word length frequency for first 30,000 words in text\n",
        "cfd_hawthorne = nltk.ConditionalFreqDist(\n",
        "        (book, len(word))\n",
        "        for book in hawthorne.fileids()\n",
        "        for word in hawthorne.words(book)[:30000]\n",
        ")\n",
        "cfd_hawthorne.plot()"
      ],
      "execution_count": null,
      "outputs": [
        {
          "output_type": "display_data",
          "data": {
            "image/png": "[encoded data removed]",
            "text/plain": [
              "<Figure size 432x288 with 1 Axes>"
            ]
          },
          "metadata": {
            "tags": []
          }
        }
      ]
    },
    {
      "cell_type": "code",
      "metadata": {
        "id": "NwQwq5rWL3VR",
        "outputId": "29eb92f9-da54-4a72-b178-f4dcc04583f7",
        "colab": {
          "base_uri": "https://localhost:8080/",
          "height": 284
        }
      },
      "source": [
        "#Word length frequency for Hawthorne texts with at least 100,000 words\n",
        "hawthorne_100 = ['HouseoftheSevenGables.txt', 'TwiceToldTales.txt', 'AWonderBook.txt']\n",
        "cfd_hawthorne_full = nltk.ConditionalFreqDist(\n",
        "        (book, len(word))\n",
        "        for book in hawthorne_100\n",
        "        for word in hawthorne.words(book)\n",
        ")\n",
        "cfd_hawthorne_full.plot()"
      ],
      "execution_count": null,
      "outputs": [
        {
          "output_type": "display_data",
          "data": {
            "image/png": "[encoded data removed]",
            "text/plain": [
              "<Figure size 432x288 with 1 Axes>"
            ]
          },
          "metadata": {
            "tags": []
          }
        }
      ]
    },
    {
      "cell_type": "markdown",
      "metadata": {
        "id": "Vq1USZze0zJ4"
      },
      "source": [
        "## **Automated Readability Index (ARI)**\n"
      ]
    },
    {
      "cell_type": "markdown",
      "metadata": {
        "id": "jXMqeQzRm8Ea"
      },
      "source": [
        "ARI for all of the Dickens texts"
      ]
    },
    {
      "cell_type": "code",
      "metadata": {
        "id": "PIoSMglgl6uJ"
      },
      "source": [
        "def ari_dickens(fileid):\n",
        "  sents = len(dickens.sents(fileid))\n",
        "  words = len([w for w in dickens.words(fileid) if w.isalpha()])\n",
        "  chars = sum([len(w) for w in dickens.words(fileid) if w.isalpha()])\n",
        "  return 4.71*(chars/words) + 0.5*(words/sents) - 21.43"
      ],
      "execution_count": null,
      "outputs": []
    },
    {
      "cell_type": "code",
      "metadata": {
        "id": "s5CLjfxAmo4N",
        "outputId": "5235dd3c-13e8-426e-f645-f3e4b32223db",
        "colab": {
          "base_uri": "https://localhost:8080/",
          "height": 105
        }
      },
      "source": [
        "for fileid in dickens.fileids():\n",
        "  print(f'{fileid:18} {ari_dickens(fileid):5.2f}')"
      ],
      "execution_count": null,
      "outputs": [
        {
          "output_type": "stream",
          "text": [
            "AChristmasCarol.txt  5.62\n",
            "ATaleofTwoCities.txt  7.34\n",
            "BleakHouse.txt      6.85\n",
            "DavidCopperfield.txt  7.08\n",
            "OliverTwist.txt     7.37\n"
          ],
          "name": "stdout"
        }
      ]
    },
    {
      "cell_type": "markdown",
      "metadata": {
        "id": "8kv0L1YJI3zX"
      },
      "source": [
        "ARI for the Hawthorne texts"
      ]
    },
    {
      "cell_type": "code",
      "metadata": {
        "id": "bVB10GubGUUA"
      },
      "source": [
        "def ari_hawthorne(fileid):\n",
        "  sents = len(hawthorne.sents(fileid))\n",
        "  words = len([w for w in hawthorne.words(fileid) if w.isalpha()])\n",
        "  chars = sum([len(w) for w in hawthorne.words(fileid) if w.isalpha()])\n",
        "  return 4.71*(chars/words) + 0.5*(words/sents) - 21.43"
      ],
      "execution_count": null,
      "outputs": []
    },
    {
      "cell_type": "code",
      "metadata": {
        "id": "2Eeval16Gc1h",
        "outputId": "0564aac1-6d01-4371-94dc-cd088fe6c9ee",
        "colab": {
          "base_uri": "https://localhost:8080/",
          "height": 123
        }
      },
      "source": [
        "for fileid in hawthorne.fileids():\n",
        "  print(f'{fileid:18} {ari_hawthorne(fileid):5.2f}')"
      ],
      "execution_count": null,
      "outputs": [
        {
          "output_type": "stream",
          "text": [
            "AWonderBook.txt     9.76\n",
            "DoctorGrimshawesSecret.txt 13.66\n",
            "HouseoftheSevenGables.txt 11.34\n",
            "TheBlithedaleRomance.txt 10.16\n",
            "TheScarletLetter.txt 12.98\n",
            "TwiceToldTales.txt 11.83\n"
          ],
          "name": "stdout"
        }
      ]
    },
    {
      "cell_type": "markdown",
      "metadata": {
        "id": "lFHgxqyO6IZA"
      },
      "source": [
        "## **CL (Coleman-Liau Index)**"
      ]
    },
    {
      "cell_type": "markdown",
      "metadata": {
        "id": "a8HyPfZjI7qW"
      },
      "source": [
        "CL for the Dickens texts"
      ]
    },
    {
      "cell_type": "code",
      "metadata": {
        "id": "IHX4qXqi6OZ8"
      },
      "source": [
        "def cl_dickens(fileid):\n",
        "  sents = len(dickens.sents(fileid))\n",
        "  words = len([w for w in dickens.words(fileid) if w.isalpha()])\n",
        "  chars = sum([len(w) for w in dickens.words(fileid) if w.isalpha()])\n",
        "  return 0.0588*(chars/words*100) - 0.296*(sents/words*100) - 15.8"
      ],
      "execution_count": null,
      "outputs": []
    },
    {
      "cell_type": "code",
      "metadata": {
        "id": "g4LZGGBM6aGF",
        "outputId": "7157532d-5619-4577-cff8-5ecc2e74d47e",
        "colab": {
          "base_uri": "https://localhost:8080/",
          "height": 105
        }
      },
      "source": [
        "for fileid in dickens.fileids():\n",
        "  print(f'{fileid:18} {cl_dickens(fileid):5.2f}')"
      ],
      "execution_count": null,
      "outputs": [
        {
          "output_type": "stream",
          "text": [
            "AChristmasCarol.txt  6.64\n",
            "ATaleofTwoCities.txt  7.36\n",
            "BleakHouse.txt      6.80\n",
            "DavidCopperfield.txt  6.50\n",
            "OliverTwist.txt     7.41\n"
          ],
          "name": "stdout"
        }
      ]
    },
    {
      "cell_type": "code",
      "metadata": {
        "id": "-dvNupeh7E_f"
      },
      "source": [
        "def cl_hawthorne(fileid):\n",
        "  sents = len(hawthorne.sents(fileid))\n",
        "  words = len([w for w in hawthorne.words(fileid) if w.isalpha()])\n",
        "  chars = sum([len(w) for w in hawthorne.words(fileid) if w.isalpha()])\n",
        "  return 0.0588*(chars/words*100) - 0.296*(sents/words*100) - 15.8"
      ],
      "execution_count": null,
      "outputs": []
    },
    {
      "cell_type": "code",
      "metadata": {
        "id": "juihq43t7NXR",
        "outputId": "e53175ef-9eba-489d-ea47-22330b2371c7",
        "colab": {
          "base_uri": "https://localhost:8080/",
          "height": 123
        }
      },
      "source": [
        "for fileid in hawthorne.fileids():\n",
        "  print(f'{fileid:18} {cl_hawthorne(fileid):5.2f}')"
      ],
      "execution_count": null,
      "outputs": [
        {
          "output_type": "stream",
          "text": [
            "AWonderBook.txt     7.93\n",
            "DoctorGrimshawesSecret.txt  9.06\n",
            "HouseoftheSevenGables.txt  9.30\n",
            "TheBlithedaleRomance.txt  8.79\n",
            "TheScarletLetter.txt  9.43\n",
            "TwiceToldTales.txt  9.21\n"
          ],
          "name": "stdout"
        }
      ]
    },
    {
      "cell_type": "markdown",
      "metadata": {
        "id": "Bf1Oqv1UKn3P"
      },
      "source": [
        "ARI-CL Plot for Dickens"
      ]
    },
    {
      "cell_type": "code",
      "metadata": {
        "id": "h3GQyCDX7wWS"
      },
      "source": [
        "from matplotlib import pyplot"
      ],
      "execution_count": null,
      "outputs": []
    },
    {
      "cell_type": "code",
      "metadata": {
        "id": "bVjgedIN8iyO"
      },
      "source": [
        "x_dickens = [ari_dickens(fileid) for fileid in dickens.fileids()]\n",
        "y_dickens = [cl_dickens(fileid) for fileid in dickens.fileids()]"
      ],
      "execution_count": null,
      "outputs": []
    },
    {
      "cell_type": "code",
      "metadata": {
        "id": "H6kXNNEd8vYp",
        "outputId": "f4bb1b09-e426-481a-b480-d55062e9fb9c",
        "colab": {
          "base_uri": "https://localhost:8080/",
          "height": 313
        }
      },
      "source": [
        "pyplot.scatter(x_dickens,y_dickens)\n",
        "pyplot.xlabel('Automated Readability Index')\n",
        "pyplot.ylabel('Coleman-Liau Index')\n",
        "pyplot.title('Comparing Readability Metrics for Dickens Texts')"
      ],
      "execution_count": null,
      "outputs": [
        {
          "output_type": "execute_result",
          "data": {
            "text/plain": [
              "Text(0.5, 1.0, 'Comparing Readability Metrics for Dickens Texts')"
            ]
          },
          "metadata": {
            "tags": []
          },
          "execution_count": 43
        },
        {
          "output_type": "display_data",
          "data": {
            "image/png": "[encoded data removed]",
            "text/plain": [
              "<Figure size 432x288 with 1 Axes>"
            ]
          },
          "metadata": {
            "tags": []
          }
        }
      ]
    },
    {
      "cell_type": "markdown",
      "metadata": {
        "id": "jUQrkrY2KtC6"
      },
      "source": [
        "ARI-CL Plot for Hawthorne"
      ]
    },
    {
      "cell_type": "code",
      "metadata": {
        "id": "ddivKa678DCu"
      },
      "source": [
        "x_hawthorne = [ari_hawthorne(fileid) for fileid in hawthorne.fileids()]\n",
        "y_hawthorne = [cl_hawthorne(fileid) for fileid in hawthorne.fileids()]"
      ],
      "execution_count": null,
      "outputs": []
    },
    {
      "cell_type": "code",
      "metadata": {
        "id": "C1_tkSdn8PFj",
        "outputId": "75f04de6-7ad3-44f9-968f-96cacbdd909a",
        "colab": {
          "base_uri": "https://localhost:8080/",
          "height": 313
        }
      },
      "source": [
        "pyplot.scatter(x_hawthorne,y_hawthorne)\n",
        "pyplot.xlabel('Automated Readability Index')\n",
        "pyplot.ylabel('Coleman-Liau Index')\n",
        "pyplot.title('Comparing Readability Metrics for Hawthorne Texts')"
      ],
      "execution_count": null,
      "outputs": [
        {
          "output_type": "execute_result",
          "data": {
            "text/plain": [
              "Text(0.5, 1.0, 'Comparing Readability Metrics for Hawthorne Texts')"
            ]
          },
          "metadata": {
            "tags": []
          },
          "execution_count": 45
        },
        {
          "output_type": "display_data",
          "data": {
            "image/png": "[encoded data removed]",
            "text/plain": [
              "<Figure size 432x288 with 1 Axes>"
            ]
          },
          "metadata": {
            "tags": []
          }
        }
      ]
    },
    {
      "cell_type": "markdown",
      "metadata": {
        "id": "-TAyC6HIWewf"
      },
      "source": [
        "## **FK (Flesh-Kincaid)**"
      ]
    },
    {
      "cell_type": "code",
      "metadata": {
        "id": "AlymZvZeWqUB"
      },
      "source": [
        "import nltk\n",
        "\n",
        "cmudict = nltk.corpus.cmudict.dict()\n",
        "\n",
        "def stress(pron):\n",
        "  return [char for phone in pron for char in phone if char.isdigit()]\n",
        "\n",
        "def w_syllables(word):\n",
        "  word = word.lower()\n",
        "  if word in cmudict:\n",
        "    return len(stress(cmudict[word][0]))\n",
        "  else:\n",
        "    s = len(re.findall(r'[aeiou]+', word))\n",
        "    if re.search(r'[aeiou][^aeioulr]+e$', word):\n",
        "      s = s - 1\n",
        "    return s"
      ],
      "execution_count": null,
      "outputs": []
    },
    {
      "cell_type": "markdown",
      "metadata": {
        "id": "cqjEuHzmWovy"
      },
      "source": [
        "FK for Dickens"
      ]
    },
    {
      "cell_type": "code",
      "metadata": {
        "id": "h4TrXLvSX_On"
      },
      "source": [
        "def fk_dickens(fileid):\n",
        "  sents = len(dickens.sents(fileid))\n",
        "  words = len([w for w in dickens.words(fileid) if w.isalpha()])\n",
        "  sylls = sum([w_syllables(w) for w in dickens.words(fileid) if w.isalpha()])\n",
        "  return 0.39*(words/sents) + 11.8*(sylls/words) - 15.59"
      ],
      "execution_count": null,
      "outputs": []
    },
    {
      "cell_type": "code",
      "metadata": {
        "id": "Bmm8B-m1YLBn",
        "outputId": "0af016fa-e470-4a5b-d216-49cf3a1d6dc6",
        "colab": {
          "base_uri": "https://localhost:8080/",
          "height": 105
        }
      },
      "source": [
        "for fileid in dickens.fileids():\n",
        "  print(f'{fileid:18} {fk_dickens(fileid):5.2f}')"
      ],
      "execution_count": null,
      "outputs": [
        {
          "output_type": "stream",
          "text": [
            "AChristmasCarol.txt  5.67\n",
            "ATaleofTwoCities.txt  7.45\n",
            "BleakHouse.txt      7.41\n",
            "DavidCopperfield.txt  7.65\n",
            "OliverTwist.txt     7.49\n"
          ],
          "name": "stdout"
        }
      ]
    },
    {
      "cell_type": "markdown",
      "metadata": {
        "id": "Qusa5HDcY1c4"
      },
      "source": [
        "FK for Hawthorne"
      ]
    },
    {
      "cell_type": "code",
      "metadata": {
        "id": "DS0ep7jAYvXJ"
      },
      "source": [
        "def fk_hawthorne(fileid):\n",
        "  sents = len(hawthorne.sents(fileid))\n",
        "  words = len([w for w in hawthorne.words(fileid) if w.isalpha()])\n",
        "  sylls = sum([w_syllables(w) for w in hawthorne.words(fileid) if w.isalpha()])\n",
        "  return 0.39*(words/sents) + 11.8*(sylls/words) - 15.59"
      ],
      "execution_count": null,
      "outputs": []
    },
    {
      "cell_type": "code",
      "metadata": {
        "id": "Lclgq9aPZAR6",
        "outputId": "8ba10a96-a993-47d4-b756-bc0dad08faf6",
        "colab": {
          "base_uri": "https://localhost:8080/",
          "height": 123
        }
      },
      "source": [
        "for fileid in hawthorne.fileids():\n",
        "  print(f'{fileid:18} {fk_hawthorne(fileid):5.2f}')"
      ],
      "execution_count": null,
      "outputs": [
        {
          "output_type": "stream",
          "text": [
            "AWonderBook.txt     9.09\n",
            "DoctorGrimshawesSecret.txt 12.37\n",
            "HouseoftheSevenGables.txt 10.65\n",
            "TheBlithedaleRomance.txt 10.01\n",
            "TheScarletLetter.txt 11.82\n",
            "TwiceToldTales.txt 10.73\n"
          ],
          "name": "stdout"
        }
      ]
    },
    {
      "cell_type": "markdown",
      "metadata": {
        "id": "48puMlDwKyZq"
      },
      "source": [
        "Comparison of ARI, CL, and FK for Dickens and Hawthorne texts"
      ]
    },
    {
      "cell_type": "code",
      "metadata": {
        "id": "5R_pOavwZNPc",
        "outputId": "7070f16a-3f64-4688-a5db-efdc398474f5",
        "colab": {
          "base_uri": "https://localhost:8080/",
          "height": 228
        }
      },
      "source": [
        "print(f'{\"\":18} {\"ARI\":>5} {\"CL\":>5} {\"FK\":>5}')\n",
        "for fileid in dickens.fileids():\n",
        "  print(f'{fileid:18} {ari_dickens(fileid):5.2f} {cl_dickens(fileid):5.2f} {fk_dickens(fileid):5.2f}')\n",
        "for fileid in hawthorne.fileids():\n",
        "  print(f'{fileid:18} {ari_hawthorne(fileid):5.2f} {cl_hawthorne(fileid):5.2f} {fk_hawthorne(fileid):5.2f}')"
      ],
      "execution_count": null,
      "outputs": [
        {
          "output_type": "stream",
          "text": [
            "                     ARI    CL    FK\n",
            "AChristmasCarol.txt  5.62  6.64  5.67\n",
            "ATaleofTwoCities.txt  7.34  7.36  7.45\n",
            "BleakHouse.txt      6.85  6.80  7.41\n",
            "DavidCopperfield.txt  7.08  6.50  7.65\n",
            "OliverTwist.txt     7.37  7.41  7.49\n",
            "AWonderBook.txt     9.76  7.93  9.09\n",
            "DoctorGrimshawesSecret.txt 13.66  9.06 12.37\n",
            "HouseoftheSevenGables.txt 11.34  9.30 10.65\n",
            "TheBlithedaleRomance.txt 10.16  8.79 10.01\n",
            "TheScarletLetter.txt 12.98  9.43 11.82\n",
            "TwiceToldTales.txt 11.83  9.21 10.73\n"
          ],
          "name": "stdout"
        }
      ]
    },
    {
      "cell_type": "markdown",
      "metadata": {
        "id": "Sweuf8gz6MPF"
      },
      "source": [
        "## **Type Token Ratio**"
      ]
    },
    {
      "cell_type": "markdown",
      "metadata": {
        "id": "wp75UuVknwv6"
      },
      "source": [
        "MSTTR for the Dickens texts"
      ]
    },
    {
      "cell_type": "code",
      "metadata": {
        "id": "hDl-k4Q2Xr65"
      },
      "source": [
        "from math import log2"
      ],
      "execution_count": null,
      "outputs": []
    },
    {
      "cell_type": "code",
      "metadata": {
        "id": "Bpg2G6ucnzNV"
      },
      "source": [
        "def msttr_dickens(fileid):\n",
        "  toks = list(dickens.words(fileid))\n",
        "  norm = [t.lower() for t in toks if t.isalpha() or t.endswith(\"'s\") or t.endswith(\"n't\")]\n",
        "  ttr = [len(set(s)) / len(s) for s in partition(2000,norm)]\n",
        "  return sum(ttr) / len(ttr)"
      ],
      "execution_count": null,
      "outputs": []
    },
    {
      "cell_type": "code",
      "metadata": {
        "id": "-QEym2gkn7xU",
        "outputId": "e81bcf2c-43f3-4cad-8719-d4f4ff914d0e",
        "colab": {
          "base_uri": "https://localhost:8080/",
          "height": 105
        }
      },
      "source": [
        "for fileid in dickens.fileids():\n",
        "  print(f'{fileid:20} {msttr_dickens(fileid):5.3f}')"
      ],
      "execution_count": null,
      "outputs": [
        {
          "output_type": "stream",
          "text": [
            "AChristmasCarol.txt  0.353\n",
            "ATaleofTwoCities.txt 0.342\n",
            "BleakHouse.txt       0.335\n",
            "DavidCopperfield.txt 0.331\n",
            "OliverTwist.txt      0.360\n"
          ],
          "name": "stdout"
        }
      ]
    },
    {
      "cell_type": "markdown",
      "metadata": {
        "id": "U71_-X6BnrT7"
      },
      "source": [
        "MSTTR for the Hawthorne texts"
      ]
    },
    {
      "cell_type": "code",
      "metadata": {
        "id": "ETLGOeJBznht"
      },
      "source": [
        "def msttr_hawthorne(fileid):\n",
        "  toks = list(hawthorne.words(fileid))\n",
        "  norm = [t.lower() for t in toks if t.isalpha() or t.endswith(\"'s\") or t.endswith(\"n't\")]\n",
        "  ttr = [len(set(s)) / len(s) for s in partition(2000,norm)]\n",
        "  return sum(ttr) / len(ttr)"
      ],
      "execution_count": null,
      "outputs": []
    },
    {
      "cell_type": "code",
      "metadata": {
        "id": "DaEcJS3bz0zx",
        "outputId": "932c3a3a-35db-4ffa-e7a3-742e1c7cb7de",
        "colab": {
          "base_uri": "https://localhost:8080/",
          "height": 123
        }
      },
      "source": [
        "for fileid in hawthorne.fileids():\n",
        "  print(f'{fileid:20} {msttr_hawthorne(fileid):5.3f}')"
      ],
      "execution_count": null,
      "outputs": [
        {
          "output_type": "stream",
          "text": [
            "AWonderBook.txt      0.347\n",
            "DoctorGrimshawesSecret.txt 0.363\n",
            "HouseoftheSevenGables.txt 0.400\n",
            "TheBlithedaleRomance.txt 0.397\n",
            "TheScarletLetter.txt 0.389\n",
            "TwiceToldTales.txt   0.407\n"
          ],
          "name": "stdout"
        }
      ]
    },
    {
      "cell_type": "markdown",
      "metadata": {
        "id": "28Yf5Tvk1U4K"
      },
      "source": [
        "## **Bigrams**"
      ]
    },
    {
      "cell_type": "code",
      "metadata": {
        "id": "qsIrt6g81Ws7",
        "outputId": "97471244-c299-4ab8-ae64-fb1e92adb97a",
        "colab": {
          "base_uri": "https://localhost:8080/",
          "height": 193
        }
      },
      "source": [
        "%precision 3\n",
        "carol_bank = [w.lower() for w in dickens.words('AChristmasCarol.txt') if w.isalpha()]\n",
        "nltk.bigrams(carol_bank)\n",
        "carol_bigrams = nltk.FreqDist(nltk.bigrams(carol_bank))\n",
        "carol_unigrams = nltk.FreqDist(carol_bank)\n",
        "carol_pmi = nltk.FreqDist()\n",
        "for w1,w2 in carol_bigrams:\n",
        "  if carol_bigrams[(w1,w2)] > 10:\n",
        "    carol_pmi[(w1,w2)] = log2((carol_bigrams[(w1,w2)]*carol_unigrams.N())/(carol_unigrams[w1]*carol_unigrams[w2]))\n",
        "carol_pmi.most_common(10)"
      ],
      "execution_count": null,
      "outputs": [
        {
          "output_type": "execute_result",
          "data": {
            "text/plain": [
              "[(('tiny', 'tim'), 10.126),\n",
              " (('young', 'cratchits'), 9.734),\n",
              " (('ha', 'ha'), 9.667),\n",
              " (('mrs', 'cratchit'), 9.017),\n",
              " (('don', 't'), 8.068),\n",
              " (('n', 't'), 8.068),\n",
              " (('merry', 'christmas'), 7.757),\n",
              " (('my', 'dear'), 7.690),\n",
              " (('s', 'niece'), 6.719),\n",
              " (('must', 'have'), 6.392)]"
            ]
          },
          "metadata": {
            "tags": []
          },
          "execution_count": 37
        }
      ]
    },
    {
      "cell_type": "code",
      "metadata": {
        "id": "IKnSTxFG2eDD",
        "outputId": "618a7427-b3f3-4994-9f6f-d70e4b83e16b",
        "colab": {
          "base_uri": "https://localhost:8080/",
          "height": 193
        }
      },
      "source": [
        "cities_bank = [w.lower() for w in dickens.words('ATaleofTwoCities.txt') if w.isalpha()]\n",
        "nltk.bigrams(cities_bank)\n",
        "cities_bigrams = nltk.FreqDist(nltk.bigrams(cities_bank))\n",
        "cities_unigrams = nltk.FreqDist(cities_bank)\n",
        "\n",
        "cities_pmi = nltk.FreqDist()\n",
        "for w1,w2 in cities_bigrams:\n",
        "  if cities_bigrams[(w1,w2)] > 10:\n",
        "    cities_pmi[(w1,w2)] = log2((cities_bigrams[(w1,w2)]*cities_unigrams.N())/(cities_unigrams[w1]*cities_unigrams[w2]))\n",
        "\n",
        "cities_pmi.most_common(10)"
      ],
      "execution_count": null,
      "outputs": [
        {
          "output_type": "execute_result",
          "data": {
            "text/plain": [
              "[(('plane', 'tree'), 12.906),\n",
              " (('honest', 'tradesman'), 12.367),\n",
              " (('north', 'tower'), 12.278),\n",
              " (('wood', 'sawyer'), 12.012),\n",
              " (('temple', 'bar'), 11.629),\n",
              " (('la', 'force'), 11.481),\n",
              " (('attorney', 'general'), 11.376),\n",
              " (('blue', 'cap'), 11.257),\n",
              " (('thousand', 'seven'), 11.191),\n",
              " (('saint', 'antoine'), 11.161)]"
            ]
          },
          "metadata": {
            "tags": []
          },
          "execution_count": 29
        }
      ]
    },
    {
      "cell_type": "code",
      "metadata": {
        "id": "lpXPzqRB2bIm",
        "outputId": "32d4a6d2-91f5-4399-b966-4652a599d9e7",
        "colab": {
          "base_uri": "https://localhost:8080/",
          "height": 193
        }
      },
      "source": [
        "copper_bank = [w.lower() for w in dickens.words('DavidCopperfield.txt') if w.isalpha()]\n",
        "nltk.bigrams(copper_bank)\n",
        "copper_bigrams = nltk.FreqDist(nltk.bigrams(copper_bank))\n",
        "copper_unigrams = nltk.FreqDist(copper_bank)\n",
        "\n",
        "copper_pmi = nltk.FreqDist()\n",
        "for w1,w2 in copper_bigrams:\n",
        "  if copper_bigrams[(w1,w2)] > 10:\n",
        "    copper_pmi[(w1,w2)] = log2((copper_bigrams[(w1,w2)]*copper_unigrams.N())/(copper_unigrams[w1]*copper_unigrams[w2]))\n",
        "%precision 3\n",
        "copper_pmi.most_common(10)"
      ],
      "execution_count": null,
      "outputs": [
        {
          "output_type": "execute_result",
          "data": {
            "text/plain": [
              "[(('captain', 'hopkins'), 13.827),\n",
              " (('king', 'charles'), 13.827),\n",
              " (('dan', 'l'), 13.341),\n",
              " (('shirt', 'collar'), 12.847),\n",
              " (('jack', 'maldon'), 12.325),\n",
              " (('ha', 'ha'), 12.219),\n",
              " (('wooden', 'leg'), 12.181),\n",
              " (('chimney', 'piece'), 12.155),\n",
              " (('brother', 'francis'), 12.015),\n",
              " (('doctors', 'commons'), 11.947)]"
            ]
          },
          "metadata": {
            "tags": []
          },
          "execution_count": 39
        }
      ]
    },
    {
      "cell_type": "code",
      "metadata": {
        "id": "yXMueBosukil",
        "outputId": "48d70743-d0a0-4fd1-b870-9c7926441e4b",
        "colab": {
          "base_uri": "https://localhost:8080/",
          "height": 193
        }
      },
      "source": [
        "%precision 3\n",
        "nick_bank = [w.lower() for w in dickens.words('NicholasNickleby.txt') if w.isalpha()]\n",
        "nltk.bigrams(nick_bank)\n",
        "nick_bigrams = nltk.FreqDist(nltk.bigrams(nick_bank))\n",
        "nick_unigrams = nltk.FreqDist(nick_bank)\n",
        "nick_pmi = nltk.FreqDist()\n",
        "for w1,w2 in nick_bigrams:\n",
        "  if nick_bigrams[(w1,w2)] > 10:\n",
        "    nick_pmi[(w1,w2)] = log2((nick_bigrams[(w1,w2)]*nick_unigrams.N())/(nick_unigrams[w1]*nick_unigrams[w2]))\n",
        "nick_pmi.most_common(10)"
      ],
      "execution_count": null,
      "outputs": [
        {
          "output_type": "execute_result",
          "data": {
            "text/plain": [
              "[(('matthew', 'pupker'), 14.868),\n",
              " (('greta', 'bridge'), 14.743),\n",
              " (('von', 'koeldwethout'), 13.799),\n",
              " (('ho', 'ho'), 12.627),\n",
              " (('dotheboys', 'hall'), 12.434),\n",
              " (('henrietta', 'petowker'), 12.080),\n",
              " (('golden', 'square'), 12.051),\n",
              " (('messrs', 'pyke'), 11.804),\n",
              " (('frederick', 'verisopht'), 11.501),\n",
              " (('o', 'clock'), 11.285)]"
            ]
          },
          "metadata": {
            "tags": []
          },
          "execution_count": 40
        }
      ]
    },
    {
      "cell_type": "code",
      "metadata": {
        "id": "o2Tm_RoQ2bo7",
        "outputId": "ce7765e7-5079-44ee-f414-d851fa58aab0",
        "colab": {
          "base_uri": "https://localhost:8080/",
          "height": 193
        }
      },
      "source": [
        "twist_bank = [w.lower() for w in dickens.words('OliverTwist.txt') if w.isalpha()]\n",
        "nltk.bigrams(twist_bank)\n",
        "twist_bigrams = nltk.FreqDist(nltk.bigrams(twist_bank))\n",
        "twist_unigrams = nltk.FreqDist(twist_bank)\n",
        "\n",
        "twist_pmi = nltk.FreqDist()\n",
        "for w1,w2 in twist_bigrams:\n",
        "  if twist_bigrams[(w1,w2)] > 10:\n",
        "    twist_pmi[(w1,w2)] = log2((twist_bigrams[(w1,w2)]*twist_unigrams.N())/(twist_unigrams[w1]*twist_unigrams[w2]))\n",
        "%precision 3\n",
        "twist_pmi.most_common(10)"
      ],
      "execution_count": null,
      "outputs": [
        {
          "output_type": "execute_result",
          "data": {
            "text/plain": [
              "[(('o', 'clock'), 12.101),\n",
              " (('cocked', 'hat'), 11.090),\n",
              " (('toby', 'crackit'), 10.630),\n",
              " (('white', 'waistcoat'), 10.502),\n",
              " (('stop', 'thief'), 10.357),\n",
              " (('ha', 'ha'), 10.117),\n",
              " (('ma', 'am'), 9.622),\n",
              " (('charley', 'bates'), 9.549),\n",
              " (('master', 'bates'), 9.540),\n",
              " (('mrs', 'mann'), 9.234)]"
            ]
          },
          "metadata": {
            "tags": []
          },
          "execution_count": 41
        }
      ]
    },
    {
      "cell_type": "markdown",
      "metadata": {
        "id": "j7LawwUp0kOe"
      },
      "source": [
        "## **Bar Plots**"
      ]
    },
    {
      "cell_type": "code",
      "metadata": {
        "id": "ZAjBwmV21v4X"
      },
      "source": [
        "dickens_tagged = nltk.corpus.TaggedCorpusReader('charles_dickens', r'.*\\.txt')\n",
        "hawthorne_tagged = nltk.corpus.TaggedCorpusReader('hawthorne', r'.*\\.txt')\n"
      ],
      "execution_count": null,
      "outputs": []
    },
    {
      "cell_type": "code",
      "metadata": {
        "id": "otZQPq5r044p"
      },
      "source": [
        "from numpy import arange\n",
        "from matplotlib import pyplot\n",
        "\n",
        "colors = 'rgbcmyk'\n",
        "\n",
        "def bar_chart(book, word, counts):\n",
        "    \"Plot a bar chart showing counts for each word by category\"\n",
        "    ind = arange(len(word))\n",
        "    width = 1 / (len(book) + 1)\n",
        "    bar_groups = []\n",
        "    for c in range(len(book)):\n",
        "        bars = pyplot.bar(ind+c*width, counts[book[c]], width,\n",
        "                         color=colors[c % len(colors)])\n",
        "        bar_groups.append(bars)\n",
        "    pyplot.xticks(ind+width, word)\n",
        "    pyplot.legend([b[0] for b in bar_groups], book, loc='upper left')\n",
        "    pyplot.ylabel('Frequency')\n",
        "    pyplot.title('Frequency of Five Modal Contractions by Book')\n",
        "    pyplot.show()"
      ],
      "execution_count": null,
      "outputs": []
    },
    {
      "cell_type": "markdown",
      "metadata": {
        "id": "lM5X575wTQGo"
      },
      "source": [
        "Bar Plots for Dickens Texts"
      ]
    },
    {
      "cell_type": "code",
      "metadata": {
        "id": "9uUNZ9-L1LZu",
        "outputId": "985db9b8-d004-4bc5-8b47-c973421e8d2c",
        "colab": {
          "base_uri": "https://localhost:8080/",
          "height": 281
        }
      },
      "source": [
        "dickens_books = [\"AChristmasCarol.txt\", \"ATaleofTwoCities.txt\",\n",
        "                 \"BleakHouse.txt\", \"DavidCopperfield.txt\", \"OliverTwist.txt\"]\n",
        "modals = [\"cann't\", \"couldn't\", \"don't\", \"it's\", \"that's\"]\n",
        "\n",
        "cfdist_dickens = nltk.ConditionalFreqDist(\n",
        "              (book, word)\n",
        "              for book in dickens_books\n",
        "              for word in dickens_tagged.words(book)\n",
        "              if word in modals)\n",
        "\n",
        "dickens_counts = {}\n",
        "for book in dickens_books:\n",
        "  dickens_counts[book] = [cfdist_dickens[book][word] for word in modals]\n",
        "bar_chart(dickens_books, modals, dickens_counts)\n",
        "\n"
      ],
      "execution_count": null,
      "outputs": [
        {
          "output_type": "display_data",
          "data": {
            "image/png": "[encoded data removed]",
            "text/plain": [
              "<Figure size 432x288 with 1 Axes>"
            ]
          },
          "metadata": {
            "tags": []
          }
        }
      ]
    },
    {
      "cell_type": "markdown",
      "metadata": {
        "id": "FqqNOrnwTVQK"
      },
      "source": [
        "Bar Plot for Dickens texts first 30,000 words"
      ]
    },
    {
      "cell_type": "code",
      "metadata": {
        "id": "EiS1eYft63ty",
        "outputId": "64d51bcd-b4e7-4d83-8e06-374c3899dd44",
        "colab": {
          "base_uri": "https://localhost:8080/",
          "height": 281
        }
      },
      "source": [
        "modals_dickens_30 = [\"cann't\", \"couldn't\", \"don't\", \"it's\", \"that's\"]\n",
        "cfdist_dickens_30 = nltk.ConditionalFreqDist(\n",
        "              (book, word)\n",
        "              for book in dickens_books\n",
        "              for word in dickens_tagged.words(book)[:29250]\n",
        "              if word in modals_dickens_30)\n",
        "\n",
        "dickens_counts_30 = {}\n",
        "for book in dickens_books:\n",
        "     dickens_counts_30[book] = [cfdist_dickens_30[book][word] for word in modals_dickens_30]\n",
        "bar_chart(dickens_books, modals_dickens_30, dickens_counts_30)"
      ],
      "execution_count": null,
      "outputs": [
        {
          "output_type": "display_data",
          "data": {
            "image/png": "[encoded data removed]",
            "text/plain": [
              "<Figure size 432x288 with 1 Axes>"
            ]
          },
          "metadata": {
            "tags": []
          }
        }
      ]
    },
    {
      "cell_type": "markdown",
      "metadata": {
        "id": "_plzOlVsTakI"
      },
      "source": [
        "Bar Plots for Hawthorne Texts"
      ]
    },
    {
      "cell_type": "code",
      "metadata": {
        "id": "sDcqv5wKNwY0",
        "outputId": "725bad82-7973-4b4b-e8f4-dd0dd41f0b99",
        "colab": {
          "base_uri": "https://localhost:8080/",
          "height": 281
        }
      },
      "source": [
        "hawthorne_books = [\"AWonderBook.txt\", \"DoctorGrimshawesSecret.txt\",\n",
        "                   \"HouseoftheSevenGables.txt\", \"TheBlithedaleRomance.txt\",\n",
        "                   \"TheScarletLetter.txt\", \"TwiceToldTales.txt\"]\n",
        "cfdist_hawthorne = nltk.ConditionalFreqDist(\n",
        "              (book, word)\n",
        "              for book in hawthorne_books\n",
        "              for word in hawthorne_tagged.words(book)\n",
        "              if word in modals)\n",
        "hawthorne_counts = {}\n",
        "for book in hawthorne_books:\n",
        "  hawthorne_counts[book] = [cfdist_hawthorne[book] [word] for word in modals]\n",
        "bar_chart(hawthorne_books, modals, hawthorne_counts)"
      ],
      "execution_count": null,
      "outputs": [
        {
          "output_type": "display_data",
          "data": {
            "image/png": "[encoded data removed]",
            "text/plain": [
              "<Figure size 432x288 with 1 Axes>"
            ]
          },
          "metadata": {
            "tags": []
          }
        }
      ]
    },
    {
      "cell_type": "code",
      "metadata": {
        "id": "c8iSMbaTS3z5",
        "outputId": "b3e4eed1-8ebf-4923-a6d6-d518d8dd1c88",
        "colab": {
          "base_uri": "https://localhost:8080/",
          "height": 281
        }
      },
      "source": [
        "cfdist_hawthorne_30 = nltk.ConditionalFreqDist(\n",
        "              (book, word)\n",
        "              for book in hawthorne_books\n",
        "              for word in hawthorne_tagged.words(book)[:29250]\n",
        "              if word in modals)\n",
        "\n",
        "hawthorne_counts_30 = {}\n",
        "for book in hawthorne_books:\n",
        "     hawthorne_counts_30[book] = [cfdist_hawthorne_30[book][word] for word in modals]\n",
        "bar_chart(hawthorne_books, modals, hawthorne_counts_30)"
      ],
      "execution_count": null,
      "outputs": [
        {
          "output_type": "display_data",
          "data": {
            "image/png": "[encoded data removed]",
            "text/plain": [
              "<Figure size 432x288 with 1 Axes>"
            ]
          },
          "metadata": {
            "tags": []
          }
        }
      ]
    },
    {
      "cell_type": "code",
      "metadata": {
        "id": "Ixu6szS8a5M-",
        "outputId": "00ad8484-fa0e-44b8-a782-22a3cb3b2b99",
        "colab": {
          "base_uri": "https://localhost:8080/",
          "height": 1000
        }
      },
      "source": [
        "hawthorne_wordcount = nltk.FreqDist([w.lower() for w in hawthorne.words() if w.isalpha() or w.endswith(\"'s\") or w.endswith(\"n't\")])\n",
        "dickens_possibleword = set([w.lower() for w in dickens.words() if w.isalpha() or w.endswith(\"'s\") or w.endswith(\"n't\")])\n",
        "sorted([w for w in hawthorne_wordcount if w not in dickens_possibleword])"
      ],
      "execution_count": null,
      "outputs": [
        {
          "output_type": "execute_result",
          "data": {
            "text/plain": [
              "['aaron',\n",
              " 'abases',\n",
              " 'abasing',\n",
              " 'abc',\n",
              " 'abdicated',\n",
              " 'abercrombie',\n",
              " 'abhorred',\n",
              " 'abhorrent',\n",
              " 'abides',\n",
              " 'abidest',\n",
              " 'ablution',\n",
              " 'abnormal',\n",
              " 'abominably',\n",
              " 'abominations',\n",
              " 'aborigines',\n",
              " 'absconding',\n",
              " 'absented',\n",
              " 'absurdest',\n",
              " 'absurdities',\n",
              " 'abusiveness',\n",
              " 'acceptably',\n",
              " 'acclivity',\n",
              " 'accommodating',\n",
              " 'accommodations',\n",
              " 'accordant',\n",
              " 'accosting',\n",
              " 'accrue',\n",
              " 'accrued',\n",
              " 'accumulations',\n",
              " 'accurst',\n",
              " 'accustomance',\n",
              " 'achilles',\n",
              " 'acid',\n",
              " 'acidity',\n",
              " 'acme',\n",
              " 'acorn',\n",
              " 'acorns',\n",
              " 'acquaintanceship',\n",
              " 'acquirement',\n",
              " 'acrid',\n",
              " 'acrimonious',\n",
              " 'acrimony',\n",
              " 'actaeon',\n",
              " 'acti',\n",
              " 'actress',\n",
              " 'actuality',\n",
              " 'actuates',\n",
              " 'adaptations',\n",
              " 'adder',\n",
              " 'addicted',\n",
              " 'addle',\n",
              " 'adduced',\n",
              " 'adherents',\n",
              " 'adjourn',\n",
              " 'adjudged',\n",
              " 'administers',\n",
              " 'admirer',\n",
              " 'adolescence',\n",
              " 'adopting',\n",
              " 'adoption',\n",
              " 'adopts',\n",
              " 'adown',\n",
              " 'adulteress',\n",
              " 'adulterous',\n",
              " 'adventurers',\n",
              " 'adventurousness',\n",
              " 'adverse',\n",
              " 'advisers',\n",
              " 'advocacy',\n",
              " 'aeetes',\n",
              " 'aegeus',\n",
              " 'aeneas',\n",
              " 'aeolus',\n",
              " 'aerial',\n",
              " 'aerolite',\n",
              " 'aesculapius',\n",
              " 'aeson',\n",
              " 'aesthetic',\n",
              " 'aethra',\n",
              " 'aetna',\n",
              " 'affectionize',\n",
              " 'affiliation',\n",
              " 'affirmation',\n",
              " 'affirming',\n",
              " 'affirms',\n",
              " 'affixing',\n",
              " 'afflict',\n",
              " 'afflicting',\n",
              " 'affluence',\n",
              " 'affluent',\n",
              " 'affrighting',\n",
              " 'afield',\n",
              " 'afterward',\n",
              " 'agains',\n",
              " 'agassiz',\n",
              " 'agencies',\n",
              " 'agenor',\n",
              " 'aggregated',\n",
              " 'aggressive',\n",
              " 'agile',\n",
              " 'agitations',\n",
              " 'agog',\n",
              " 'agone',\n",
              " 'agonized',\n",
              " 'agriculture',\n",
              " 'agriculturists',\n",
              " 'ahah',\n",
              " 'ail',\n",
              " 'ailed',\n",
              " 'ailment',\n",
              " 'ailments',\n",
              " 'aimless',\n",
              " 'aimlessly',\n",
              " 'airier',\n",
              " 'airiest',\n",
              " 'alarum',\n",
              " 'albatross',\n",
              " 'alchemist',\n",
              " 'alchemy',\n",
              " 'alcoholic',\n",
              " 'alcoves',\n",
              " 'alertness',\n",
              " 'algebra',\n",
              " 'alhambra',\n",
              " 'alice',\n",
              " 'allayed',\n",
              " 'allegation',\n",
              " 'allegiance',\n",
              " 'allegoric',\n",
              " 'allegories',\n",
              " 'allegro',\n",
              " 'allot',\n",
              " 'alludes',\n",
              " 'alpine',\n",
              " 'alternatives',\n",
              " 'amain',\n",
              " 'amalgamated',\n",
              " 'amalgamating',\n",
              " 'amassed',\n",
              " 'amateurs',\n",
              " 'amazons',\n",
              " 'ambassador',\n",
              " 'ambiguity',\n",
              " 'ambiguous',\n",
              " 'ambitions',\n",
              " 'ambrosia',\n",
              " 'ameliorated',\n",
              " 'amended',\n",
              " 'amiableness',\n",
              " 'amonoosuck',\n",
              " 'amphibious',\n",
              " 'amphitheatrical',\n",
              " 'ampler',\n",
              " 'amplest',\n",
              " 'amplified',\n",
              " 'amplitude',\n",
              " 'amputation',\n",
              " 'amsterdam',\n",
              " 'analogous',\n",
              " 'analogy',\n",
              " 'analytic',\n",
              " 'analyze',\n",
              " 'analyzed',\n",
              " 'analyzing',\n",
              " 'anarchy',\n",
              " 'anathema',\n",
              " 'anatomists',\n",
              " 'ancestry',\n",
              " 'anchored',\n",
              " 'ancientest',\n",
              " 'andirons',\n",
              " 'andros',\n",
              " 'anecdotes',\n",
              " 'anemones',\n",
              " 'angelo',\n",
              " 'angler',\n",
              " 'anglo',\n",
              " 'angrier',\n",
              " 'angularity',\n",
              " 'animadversion',\n",
              " 'ann',\n",
              " 'annalists',\n",
              " 'annals',\n",
              " 'annually',\n",
              " 'annuals',\n",
              " 'annulling',\n",
              " 'ant',\n",
              " 'antaeus',\n",
              " 'antagonists',\n",
              " 'antelope',\n",
              " 'anthems',\n",
              " 'anthon',\n",
              " 'anthracite',\n",
              " 'anticipations',\n",
              " 'antics',\n",
              " 'antinomian',\n",
              " 'antiquarian',\n",
              " 'antiquary',\n",
              " 'antiquated',\n",
              " 'antiquely',\n",
              " 'antiquities',\n",
              " 'antlered',\n",
              " 'antlers',\n",
              " 'ants',\n",
              " 'anvil',\n",
              " 'anywise',\n",
              " 'aolus',\n",
              " 'apathy',\n",
              " 'aping',\n",
              " 'apollo',\n",
              " 'apologue',\n",
              " 'apostolic',\n",
              " 'apothegm',\n",
              " 'apotheosized',\n",
              " 'apparelled',\n",
              " 'appeasing',\n",
              " 'appellations',\n",
              " 'append',\n",
              " 'appended',\n",
              " 'appendix',\n",
              " 'appertain',\n",
              " 'appertains',\n",
              " 'applauses',\n",
              " 'applicances',\n",
              " 'apportioned',\n",
              " 'apposite',\n",
              " 'appositeness',\n",
              " 'apposition',\n",
              " 'appreciating',\n",
              " 'appropriateness',\n",
              " 'appropriating',\n",
              " 'apter',\n",
              " 'aptly',\n",
              " 'aptness',\n",
              " 'aqua',\n",
              " 'aqueduct',\n",
              " 'ara',\n",
              " 'arab',\n",
              " 'arabia',\n",
              " 'arachne',\n",
              " 'arbiter',\n",
              " 'arbors',\n",
              " 'arbutus',\n",
              " 'arcadia',\n",
              " 'arcadian',\n",
              " 'arcadians',\n",
              " 'archdeacon',\n",
              " 'archer',\n",
              " 'archers',\n",
              " 'archipelago',\n",
              " 'architect',\n",
              " 'arctic',\n",
              " 'arden',\n",
              " 'argo',\n",
              " 'argonauts',\n",
              " 'ariadne',\n",
              " 'arid',\n",
              " 'armchair',\n",
              " 'armies',\n",
              " 'armor',\n",
              " 'armorer',\n",
              " 'aroma',\n",
              " 'arousing',\n",
              " 'arraign',\n",
              " 'arrivals',\n",
              " 'arrowheads',\n",
              " 'artery',\n",
              " 'artesian',\n",
              " 'arthur',\n",
              " 'articulation',\n",
              " 'artisan',\n",
              " 'artisans',\n",
              " 'artistically',\n",
              " 'asbestos',\n",
              " 'ascetic',\n",
              " 'ascribe',\n",
              " 'ashen',\n",
              " 'asia',\n",
              " 'asiatic',\n",
              " 'askew',\n",
              " 'aslantwise',\n",
              " 'aslope',\n",
              " 'asparagus',\n",
              " 'aspiring',\n",
              " 'aspiringly',\n",
              " 'assailants',\n",
              " 'assailing',\n",
              " 'assails',\n",
              " 'assaulted',\n",
              " 'assaults',\n",
              " 'assignable',\n",
              " 'assigning',\n",
              " 'assimilate',\n",
              " 'assimilated',\n",
              " 'assimilates',\n",
              " 'assimilating',\n",
              " 'assimilation',\n",
              " 'assimilations',\n",
              " 'assortment',\n",
              " 'assortments',\n",
              " 'assuasive',\n",
              " 'astral',\n",
              " 'astride',\n",
              " 'ataghan',\n",
              " 'atalanta',\n",
              " 'atheist',\n",
              " 'athenian',\n",
              " 'athenians',\n",
              " 'athens',\n",
              " 'atlantic',\n",
              " 'atlas',\n",
              " 'atmospherical',\n",
              " 'atoned',\n",
              " 'attaches',\n",
              " 'attainment',\n",
              " 'attempered',\n",
              " 'attestation',\n",
              " 'attica',\n",
              " 'attiring',\n",
              " 'attractiveness',\n",
              " 'attributing',\n",
              " 'attrition',\n",
              " 'attuning',\n",
              " 'auction',\n",
              " 'auctioneer',\n",
              " 'audiences',\n",
              " 'auditress',\n",
              " 'aug',\n",
              " 'augury',\n",
              " 'austin',\n",
              " 'authenticity',\n",
              " 'authorize',\n",
              " 'authorized',\n",
              " 'autobiographic',\n",
              " 'autocrat',\n",
              " 'autograph',\n",
              " 'automatic',\n",
              " 'availability',\n",
              " 'avaunt',\n",
              " 'aver',\n",
              " 'averments',\n",
              " 'averred',\n",
              " 'avouch',\n",
              " 'awakeness',\n",
              " 'awarded',\n",
              " 'awarding',\n",
              " 'awards',\n",
              " 'aweary',\n",
              " 'awestruck',\n",
              " 'axis',\n",
              " 'axle',\n",
              " 'azure',\n",
              " 'baal',\n",
              " 'babbled',\n",
              " 'babyhood',\n",
              " 'bacchanals',\n",
              " 'bachelors',\n",
              " 'bachelorship',\n",
              " 'backbone',\n",
              " 'backlog',\n",
              " 'backside',\n",
              " 'backslider',\n",
              " 'backwardness',\n",
              " 'badges',\n",
              " 'baffling',\n",
              " 'bagging',\n",
              " 'baldwin',\n",
              " 'bale',\n",
              " 'bales',\n",
              " 'balked',\n",
              " 'balm',\n",
              " 'balmiest',\n",
              " 'bamboozle',\n",
              " 'ban',\n",
              " 'bandbox',\n",
              " 'bandboxes',\n",
              " 'bandied',\n",
              " 'banditti',\n",
              " 'bandy',\n",
              " 'bandying',\n",
              " 'baneful',\n",
              " 'banged',\n",
              " 'banish',\n",
              " 'banner',\n",
              " 'banners',\n",
              " 'banqueted',\n",
              " 'banqueting',\n",
              " 'baptismal',\n",
              " 'baptist',\n",
              " 'barbarians',\n",
              " 'barbaric',\n",
              " 'barbed',\n",
              " 'barberry',\n",
              " 'barcelona',\n",
              " 'bargained',\n",
              " 'bargains',\n",
              " 'barkless',\n",
              " 'barnacles',\n",
              " 'barnyard',\n",
              " 'barometers',\n",
              " 'barony',\n",
              " 'barrenness',\n",
              " 'bartering',\n",
              " 'bartlett',\n",
              " 'bas',\n",
              " 'baselessness',\n",
              " 'baser',\n",
              " 'bashfullest',\n",
              " 'bastinado',\n",
              " 'bathsheba',\n",
              " 'battened',\n",
              " 'battlefield',\n",
              " 'battlemented',\n",
              " 'battlements',\n",
              " 'battling',\n",
              " 'baucis',\n",
              " 'bavarian',\n",
              " 'bawbles',\n",
              " 'bays',\n",
              " 'beaches',\n",
              " 'beaker',\n",
              " 'beanstalk',\n",
              " 'beards',\n",
              " 'bearskin',\n",
              " 'beautify',\n",
              " 'bebbington',\n",
              " 'bedaubing',\n",
              " 'bedazzled',\n",
              " 'bedazzles',\n",
              " 'bedazzling',\n",
              " 'bedchambers',\n",
              " 'bedded',\n",
              " 'bedecked',\n",
              " 'bedevilled',\n",
              " 'bedew',\n",
              " 'bedfellows',\n",
              " 'bedimmed',\n",
              " 'bedizen',\n",
              " 'bedizened',\n",
              " 'bedlamite',\n",
              " 'bedraggle',\n",
              " 'bedraggled',\n",
              " 'bedridden',\n",
              " 'beech',\n",
              " 'beefiness',\n",
              " 'beehives',\n",
              " 'beet',\n",
              " 'beetles',\n",
              " 'beets',\n",
              " 'befalling',\n",
              " 'befalls',\n",
              " 'befell',\n",
              " 'befit',\n",
              " 'befits',\n",
              " 'begone',\n",
              " 'behaving',\n",
              " 'behavior',\n",
              " 'behest',\n",
              " 'beholdest',\n",
              " 'behooved',\n",
              " 'behooves',\n",
              " 'bejewelled',\n",
              " 'bela',\n",
              " 'belabored',\n",
              " 'belaboring',\n",
              " 'belched',\n",
              " 'belching',\n",
              " 'beldams',\n",
              " 'beleaguered',\n",
              " 'belial',\n",
              " 'belie',\n",
              " 'belied',\n",
              " 'beliefs',\n",
              " 'belies',\n",
              " 'believer',\n",
              " 'belike',\n",
              " 'bellamont',\n",
              " 'bellerophon',\n",
              " 'bellingham',\n",
              " 'bellow',\n",
              " 'belts',\n",
              " 'bemired',\n",
              " 'bemoan',\n",
              " 'bemoaning',\n",
              " 'bendings',\n",
              " 'benediction',\n",
              " 'beneficence',\n",
              " 'beneficiaries',\n",
              " 'beneficiary',\n",
              " 'benevolently',\n",
              " 'bengal',\n",
              " 'benign',\n",
              " 'benumbing',\n",
              " 'bepelted',\n",
              " 'bequests',\n",
              " 'beribboned',\n",
              " 'berkshire',\n",
              " 'bernard',\n",
              " 'beruffled',\n",
              " 'beseem',\n",
              " 'beshrew',\n",
              " 'besieging',\n",
              " 'besmirches',\n",
              " 'bespatter',\n",
              " 'bespoken',\n",
              " 'besprinkles',\n",
              " 'bestial',\n",
              " 'bestir',\n",
              " 'bestirred',\n",
              " 'bestrew',\n",
              " 'bestride',\n",
              " 'bestrides',\n",
              " 'betaken',\n",
              " 'bethink',\n",
              " 'bethlehem',\n",
              " 'betokening',\n",
              " 'bettermost',\n",
              " 'bewigged',\n",
              " 'bewilder',\n",
              " 'bewilders',\n",
              " 'bewitchingly',\n",
              " 'bibbers',\n",
              " 'bibliopolist',\n",
              " 'bickerings',\n",
              " 'bidder',\n",
              " 'biennial',\n",
              " 'bigelow',\n",
              " 'biggest',\n",
              " 'bigness',\n",
              " 'bigots',\n",
              " 'billings',\n",
              " 'bindings',\n",
              " 'biped',\n",
              " 'bipeds',\n",
              " 'birchen',\n",
              " 'birdlike',\n",
              " 'bitters',\n",
              " 'bivouac',\n",
              " 'blackberries',\n",
              " 'blackly',\n",
              " 'blackness',\n",
              " 'blacksmiths',\n",
              " 'blackstrap',\n",
              " 'bladder',\n",
              " 'blanc',\n",
              " 'blasphemies',\n",
              " 'blaspheming',\n",
              " 'blazoned',\n",
              " 'bleached',\n",
              " 'bleakest',\n",
              " 'bled',\n",
              " 'blenched',\n",
              " 'blenching',\n",
              " 'blend',\n",
              " 'blistering',\n",
              " 'blithedale',\n",
              " 'blockhead',\n",
              " 'blonde',\n",
              " 'bloodiest',\n",
              " 'bloodstain',\n",
              " 'bloodthirstiness',\n",
              " 'bloodthirsty',\n",
              " 'bloomy',\n",
              " 'blossoming',\n",
              " 'blouses',\n",
              " 'blowpipe',\n",
              " 'bluebeard',\n",
              " 'bluffly',\n",
              " 'blundered',\n",
              " 'bluntly',\n",
              " 'bluntness',\n",
              " 'blustered',\n",
              " 'blusterer',\n",
              " 'blustering',\n",
              " 'bo',\n",
              " 'boas',\n",
              " 'bode',\n",
              " 'bodiless',\n",
              " 'boding',\n",
              " 'bodkin',\n",
              " 'boeotian',\n",
              " 'boggle',\n",
              " 'boisterously',\n",
              " 'bolton',\n",
              " 'bonfire',\n",
              " 'bookcases',\n",
              " 'bookish',\n",
              " 'bookshelves',\n",
              " 'bookstore',\n",
              " 'bookworm',\n",
              " 'bookworms',\n",
              " 'boozy',\n",
              " 'bosomed',\n",
              " 'boston',\n",
              " 'bottomless',\n",
              " 'bough',\n",
              " 'boundary',\n",
              " 'bounteous',\n",
              " 'bountifully',\n",
              " 'bounty',\n",
              " 'bowelled',\n",
              " 'bowie',\n",
              " 'bowlder',\n",
              " 'bowlders',\n",
              " 'bowsprit',\n",
              " 'bowstrings',\n",
              " 'boylston',\n",
              " 'brace',\n",
              " 'brackets',\n",
              " 'brackett',\n",
              " 'brackish',\n",
              " 'bradstreet',\n",
              " 'brained',\n",
              " 'braithwaite',\n",
              " 'braithwaites',\n",
              " 'brand',\n",
              " 'brandished',\n",
              " 'brands',\n",
              " 'bravado',\n",
              " 'braver',\n",
              " 'bravest',\n",
              " 'brawler',\n",
              " 'brawls',\n",
              " 'bray',\n",
              " 'breakage',\n",
              " 'breakings',\n",
              " 'breastplate',\n",
              " 'breastplates',\n",
              " 'breastwork',\n",
              " 'brewage',\n",
              " 'brewed',\n",
              " 'brewer',\n",
              " 'brewhouses',\n",
              " 'briareus',\n",
              " 'bribing',\n",
              " 'brickwork',\n",
              " 'bridegrooms',\n",
              " 'bridemaid',\n",
              " 'bridemaids',\n",
              " 'brides',\n",
              " 'bridled',\n",
              " 'briefer',\n",
              " 'briefless',\n",
              " 'brightsomeness',\n",
              " 'brimming',\n",
              " 'brims',\n",
              " 'brindle',\n",
              " 'brindled',\n",
              " 'bringest',\n",
              " 'briny',\n",
              " 'briskness',\n",
              " 'bristles',\n",
              " 'britons',\n",
              " 'broadcloth',\n",
              " 'broadened',\n",
              " 'broadest',\n",
              " 'broadleafed',\n",
              " 'brobdignags',\n",
              " 'brocaded',\n",
              " 'brocades',\n",
              " 'broidered',\n",
              " 'broil',\n",
              " 'broods',\n",
              " 'brooklet',\n",
              " 'brookline',\n",
              " 'brookside',\n",
              " 'browned',\n",
              " 'brownish',\n",
              " 'browns',\n",
              " 'bruin',\n",
              " 'brushwood',\n",
              " 'brusque',\n",
              " 'brutish',\n",
              " 'bubbled',\n",
              " 'buckle',\n",
              " 'buckramed',\n",
              " 'buckwheat',\n",
              " 'budded',\n",
              " 'budding',\n",
              " 'buffoonery',\n",
              " 'bugbear',\n",
              " 'bugbears',\n",
              " 'bugles',\n",
              " 'bugs',\n",
              " 'builded',\n",
              " 'builds',\n",
              " 'bulb',\n",
              " 'bulkier',\n",
              " 'bulldog',\n",
              " 'bullion',\n",
              " 'bullivant',\n",
              " 'bulrushes',\n",
              " 'bumblebees',\n",
              " 'bumpkin',\n",
              " 'bunker',\n",
              " 'bunyan',\n",
              " 'buoyant',\n",
              " 'bur',\n",
              " 'burdock',\n",
              " 'burdocks',\n",
              " 'burgundy',\n",
              " 'burials',\n",
              " 'burlington',\n",
              " 'burnett',\n",
              " 'burnished',\n",
              " 'burroughs',\n",
              " 'burrow',\n",
              " 'burrs',\n",
              " 'businesses',\n",
              " 'bustlers',\n",
              " 'busybodies',\n",
              " 'buttercup',\n",
              " 'buttercups',\n",
              " 'buttermilk',\n",
              " 'buttonhole',\n",
              " 'buttonwood',\n",
              " 'buxom',\n",
              " 'byles',\n",
              " 'bypaths',\n",
              " 'byron',\n",
              " 'byword',\n",
              " 'cabalistic',\n",
              " 'cabbages',\n",
              " 'cabinets',\n",
              " 'cabman',\n",
              " 'cabs',\n",
              " 'cacaphodel',\n",
              " 'cachinnation',\n",
              " 'cackle',\n",
              " 'cackled',\n",
              " 'cackling',\n",
              " 'cadences',\n",
              " 'cadmus',\n",
              " 'cairn',\n",
              " 'caitiff',\n",
              " 'caitiffs',\n",
              " 'calash',\n",
              " 'calculable',\n",
              " 'calf',\n",
              " 'calicoes',\n",
              " 'california',\n",
              " 'callest',\n",
              " 'calumny',\n",
              " 'camels',\n",
              " 'campaign',\n",
              " 'candidacy',\n",
              " 'candide',\n",
              " 'candy',\n",
              " 'cannel',\n",
              " 'canoes',\n",
              " 'canon',\n",
              " 'canonically',\n",
              " 'canonized',\n",
              " 'canopied',\n",
              " 'canopy',\n",
              " 'cans',\n",
              " 'canvasback',\n",
              " 'canvass',\n",
              " 'capabilities',\n",
              " 'capered',\n",
              " 'capering',\n",
              " 'caperings',\n",
              " 'capes',\n",
              " 'capitalists',\n",
              " 'capitol',\n",
              " 'capitols',\n",
              " 'capons',\n",
              " 'caprioles',\n",
              " 'captains',\n",
              " 'carbuncle',\n",
              " 'carcass',\n",
              " 'carefulness',\n",
              " 'cargo',\n",
              " 'cargoes',\n",
              " 'caricature',\n",
              " 'carlyle',\n",
              " 'carnal',\n",
              " 'carnival',\n",
              " 'carpetless',\n",
              " 'carryall',\n",
              " 'cars',\n",
              " 'carted',\n",
              " 'cascade',\n",
              " 'cascades',\n",
              " 'cased',\n",
              " 'cassandra',\n",
              " 'casuistry',\n",
              " 'catarrh',\n",
              " 'catechisms',\n",
              " 'cates',\n",
              " 'catharine',\n",
              " 'cathay',\n",
              " 'catholic',\n",
              " 'catholicism',\n",
              " 'catholics',\n",
              " 'catnip',\n",
              " 'catskills',\n",
              " 'cauliflower',\n",
              " 'causeless',\n",
              " 'causelessly',\n",
              " 'cavaliers',\n",
              " 'cavities',\n",
              " 'cavity',\n",
              " 'cedar',\n",
              " 'cedre',\n",
              " 'celebrating',\n",
              " 'celeus',\n",
              " 'censors',\n",
              " 'censured',\n",
              " 'centaur',\n",
              " 'centipede',\n",
              " 'centrally',\n",
              " 'centred',\n",
              " 'centrifugal',\n",
              " 'cents',\n",
              " 'cerberus',\n",
              " 'ceremonial',\n",
              " 'ceremonials',\n",
              " 'ceres',\n",
              " 'certainties',\n",
              " 'chabbiquidick',\n",
              " 'chagrined',\n",
              " 'chaises',\n",
              " 'challenging',\n",
              " 'chambered',\n",
              " 'chambermaids',\n",
              " 'chameleon',\n",
              " 'chandelier',\n",
              " 'changeably',\n",
              " 'changeful',\n",
              " 'chanted',\n",
              " 'chanticleer',\n",
              " 'chanting',\n",
              " 'chaos',\n",
              " 'chaplet',\n",
              " 'characteristically',\n",
              " 'characterize',\n",
              " 'characterized',\n",
              " 'characterless',\n",
              " 'charades',\n",
              " 'charities',\n",
              " 'charleston',\n",
              " 'charriot',\n",
              " 'charter',\n",
              " 'charters',\n",
              " 'chasing',\n",
              " 'chasm',\n",
              " 'chasms',\n",
              " 'chastely',\n",
              " 'chastenings',\n",
              " 'chastising',\n",
              " 'chats',\n",
              " 'chatsworth',\n",
              " 'chebacco',\n",
              " 'checkerberries',\n",
              " 'checkered',\n",
              " 'cheerfulest',\n",
              " 'cheerfuller',\n",
              " 'cheerfullest',\n",
              " 'cheerier',\n",
              " 'cheeriest',\n",
              " 'cheeriness',\n",
              " 'cheltenham',\n",
              " 'chemical',\n",
              " 'chemicals',\n",
              " 'chemistry',\n",
              " 'cheops',\n",
              " 'cherub',\n",
              " 'cherubs',\n",
              " 'chestnut',\n",
              " 'chevy',\n",
              " 'chiding',\n",
              " 'chiefest',\n",
              " 'chieftain',\n",
              " 'chillest',\n",
              " 'chilliness',\n",
              " 'chillingworth',\n",
              " 'chills',\n",
              " 'chimaera',\n",
              " 'chimborazo',\n",
              " 'chimera',\n",
              " 'chimeras',\n",
              " 'chinaware',\n",
              " 'chintzes',\n",
              " 'chippings',\n",
              " 'chirography',\n",
              " 'chiron',\n",
              " 'chirurgical',\n",
              " 'chiselling',\n",
              " 'cholera',\n",
              " 'choral',\n",
              " 'chowder',\n",
              " 'christianity',\n",
              " 'christianize',\n",
              " 'christianized',\n",
              " 'chronicles',\n",
              " 'chronologically',\n",
              " 'chronometer',\n",
              " 'chrysalis',\n",
              " 'churchman',\n",
              " 'churchyards',\n",
              " 'churl',\n",
              " 'cider',\n",
              " 'cilix',\n",
              " 'cinctured',\n",
              " 'cipher',\n",
              " 'circe',\n",
              " 'circlet',\n",
              " 'circlets',\n",
              " 'circulate',\n",
              " 'circulating',\n",
              " 'circumfused',\n",
              " 'circumscribed',\n",
              " 'citadel',\n",
              " 'citizenship',\n",
              " 'cittern',\n",
              " 'civic',\n",
              " 'claimant',\n",
              " 'clairvoyant',\n",
              " 'clam',\n",
              " 'clamber',\n",
              " 'clambered',\n",
              " 'clambering',\n",
              " 'clamor',\n",
              " 'clamorously',\n",
              " 'clamped',\n",
              " 'clamps',\n",
              " 'clams',\n",
              " 'clangor',\n",
              " 'clapper',\n",
              " 'clarion',\n",
              " 'clarions',\n",
              " 'clark',\n",
              " 'clarke',\n",
              " 'classed',\n",
              " 'classical',\n",
              " 'classically',\n",
              " 'classified',\n",
              " 'classmate',\n",
              " 'claude',\n",
              " 'clawed',\n",
              " 'clayey',\n",
              " 'cleanse',\n",
              " 'cleansed',\n",
              " 'cleave',\n",
              " 'clenches',\n",
              " 'clergymen',\n",
              " 'clew',\n",
              " 'clews',\n",
              " 'click',\n",
              " 'climbs',\n",
              " 'climes',\n",
              " 'clinched',\n",
              " 'clinked',\n",
              " 'clinton',\n",
              " 'clipt',\n",
              " 'clockwork',\n",
              " 'clod',\n",
              " 'cloddish',\n",
              " 'clogging',\n",
              " 'clonk',\n",
              " 'clothe',\n",
              " 'cloven',\n",
              " 'clover',\n",
              " 'clown',\n",
              " 'cloying',\n",
              " 'cluck',\n",
              " 'clucking',\n",
              " 'clumps',\n",
              " 'clutter',\n",
              " 'coadjutor',\n",
              " 'cobble',\n",
              " 'cobwebbed',\n",
              " 'cobwebby',\n",
              " 'cockle',\n",
              " 'cockles',\n",
              " 'cocktails',\n",
              " 'cocoanut',\n",
              " 'codfish',\n",
              " 'codlines',\n",
              " 'coeur',\n",
              " 'coeval',\n",
              " 'coexist',\n",
              " 'coexisting',\n",
              " 'coextensive',\n",
              " 'cognizable',\n",
              " 'cognizance',\n",
              " 'coincide',\n",
              " 'coincided',\n",
              " 'coincides',\n",
              " 'coinciding',\n",
              " 'coined',\n",
              " 'colburn',\n",
              " 'colchis',\n",
              " 'colcord',\n",
              " 'coleridge',\n",
              " 'colleagues',\n",
              " 'collegian',\n",
              " 'collegiate',\n",
              " 'colloquists',\n",
              " ...]"
            ]
          },
          "metadata": {
            "tags": []
          },
          "execution_count": 96
        }
      ]
    },
    {
      "cell_type": "code",
      "metadata": {
        "id": "k7vv2v0WcNmw",
        "outputId": "30d28988-1355-46f1-9266-b3c57e68a448",
        "colab": {
          "base_uri": "https://localhost:8080/",
          "height": 1000
        }
      },
      "source": [
        "dickens_wordcount = nltk.FreqDist([w.lower() for w in dickens.words() if w.isalpha() or w.endswith(\"'s\") or w.endswith(\"n't\")])\n",
        "hawthorne_possibleword = set([w.lower() for w in hawthorne.words() if w.isalpha() or w.endswith(\"'s\") or w.endswith(\"n't\")])\n",
        "sorted([w for w in dickens_wordcount if w not in hawthorne_possibleword])"
      ],
      "execution_count": null,
      "outputs": [
        {
          "output_type": "execute_result",
          "data": {
            "text/plain": [
              "['abandon',\n",
              " 'abandonment',\n",
              " 'abandons',\n",
              " 'abase',\n",
              " 'abating',\n",
              " 'abbaye',\n",
              " 'abbess',\n",
              " 'abbey',\n",
              " 'abear',\n",
              " 'abels',\n",
              " 'aberration',\n",
              " 'abet',\n",
              " 'abets',\n",
              " 'abetting',\n",
              " 'abided',\n",
              " 'abit',\n",
              " 'abject',\n",
              " 'abjuration',\n",
              " 'abjure',\n",
              " 'abjured',\n",
              " 'ablutions',\n",
              " 'abnegating',\n",
              " 'aboardship',\n",
              " 'abolish',\n",
              " 'abolished',\n",
              " 'abolishing',\n",
              " 'abominate',\n",
              " 'aboot',\n",
              " 'abortion',\n",
              " 'abounding',\n",
              " 'abraham',\n",
              " 'abrahams',\n",
              " 'abreast',\n",
              " 'abridge',\n",
              " 'absconded',\n",
              " 'absences',\n",
              " 'absenting',\n",
              " 'absolves',\n",
              " 'absolving',\n",
              " 'absorbingly',\n",
              " 'abstain',\n",
              " 'abstained',\n",
              " 'abstinence',\n",
              " 'abstraction',\n",
              " 'abstracts',\n",
              " 'abt',\n",
              " 'abuses',\n",
              " 'abusive',\n",
              " 'abuts',\n",
              " 'abutted',\n",
              " 'abutting',\n",
              " 'abyssinia',\n",
              " 'academic',\n",
              " 'acause',\n",
              " 'accede',\n",
              " 'acceded',\n",
              " 'accelerated',\n",
              " 'acceleration',\n",
              " 'acceptability',\n",
              " 'acceptation',\n",
              " 'accepts',\n",
              " 'accessory',\n",
              " 'accidently',\n",
              " 'acclamations',\n",
              " 'accommodate',\n",
              " 'accompanyist',\n",
              " 'accomplices',\n",
              " 'accordin',\n",
              " 'accountabilities',\n",
              " 'accountant',\n",
              " 'accoutrements',\n",
              " 'accumulative',\n",
              " 'accusations',\n",
              " 'accusatory',\n",
              " 'accustom',\n",
              " 'ace',\n",
              " 'ached',\n",
              " 'aches',\n",
              " 'achievements',\n",
              " 'achieves',\n",
              " 'achieving',\n",
              " 'aching',\n",
              " 'ackney',\n",
              " 'acknowledgments',\n",
              " 'acos',\n",
              " 'acoustical',\n",
              " 'acoustics',\n",
              " 'acquaint',\n",
              " 'acquainting',\n",
              " 'acquiesced',\n",
              " 'acquiescent',\n",
              " 'acquiesces',\n",
              " 'acquit',\n",
              " 'acquitting',\n",
              " 'actionable',\n",
              " 'actly',\n",
              " 'actuate',\n",
              " 'ad',\n",
              " 'ada',\n",
              " 'adage',\n",
              " 'adages',\n",
              " 'adamant',\n",
              " 'adams',\n",
              " 'adaptability',\n",
              " 'adapts',\n",
              " 'adas',\n",
              " 'additionally',\n",
              " 'adelphi',\n",
              " 'adhere',\n",
              " 'adherent',\n",
              " 'adieus',\n",
              " 'adjective',\n",
              " 'adjoined',\n",
              " 'adjuration',\n",
              " 'adjurations',\n",
              " 'adjure',\n",
              " 'adjured',\n",
              " 'adjuring',\n",
              " 'adjusts',\n",
              " 'administering',\n",
              " 'administrative',\n",
              " 'administrator',\n",
              " 'administrators',\n",
              " 'admiral',\n",
              " 'admiralty',\n",
              " 'admires',\n",
              " 'admissions',\n",
              " 'admixture',\n",
              " 'admonish',\n",
              " 'admonition',\n",
              " 'admonitions',\n",
              " 'admonitory',\n",
              " 'adorable',\n",
              " 'adoration',\n",
              " 'adored',\n",
              " 'adulatory',\n",
              " 'adult',\n",
              " 'adulterated',\n",
              " 'adust',\n",
              " 'advantageously',\n",
              " 'adverbiously',\n",
              " 'adversary',\n",
              " 'adverting',\n",
              " 'advertised',\n",
              " 'advertiser',\n",
              " 'advertising',\n",
              " 'advisability',\n",
              " 'advisedly',\n",
              " 'advises',\n",
              " 'advocate',\n",
              " 'advocated',\n",
              " 'advocates',\n",
              " 'adwice',\n",
              " 'afeerd',\n",
              " 'affablest',\n",
              " 'affectingly',\n",
              " 'affidavits',\n",
              " 'affront',\n",
              " 'affronted',\n",
              " 'afire',\n",
              " 'afsd',\n",
              " 'aft',\n",
              " 'agen',\n",
              " 'aggerawayter',\n",
              " 'aggrandisement',\n",
              " 'aggravating',\n",
              " 'aggravation',\n",
              " 'aggravations',\n",
              " 'aggression',\n",
              " 'aggrieved',\n",
              " 'agicultooral',\n",
              " 'agin',\n",
              " 'agitate',\n",
              " 'agnes',\n",
              " 'agoing',\n",
              " 'agonised',\n",
              " 'agonising',\n",
              " 'agrees',\n",
              " 'agues',\n",
              " 'ailing',\n",
              " 'ailings',\n",
              " 'ain',\n",
              " 'aired',\n",
              " 'airiness',\n",
              " 'aits',\n",
              " 'ajax',\n",
              " 'akeady',\n",
              " 'al',\n",
              " 'alamode',\n",
              " 'alarming',\n",
              " 'alarmingly',\n",
              " 'alarms',\n",
              " 'albans',\n",
              " 'albums',\n",
              " 'alexandre',\n",
              " 'alguazil',\n",
              " 'ali',\n",
              " 'aliens',\n",
              " 'allan',\n",
              " 'allegations',\n",
              " 'alleviate',\n",
              " 'alligators',\n",
              " 'allotting',\n",
              " 'allowances',\n",
              " 'allured',\n",
              " 'alluring',\n",
              " 'allus',\n",
              " 'alluvial',\n",
              " 'almac',\n",
              " 'almond',\n",
              " 'almonds',\n",
              " 'almshouses',\n",
              " 'aloe',\n",
              " 'alow',\n",
              " 'alphabetical',\n",
              " 'alphabets',\n",
              " 'alphage',\n",
              " 'alps',\n",
              " 'altercation',\n",
              " 'altercations',\n",
              " 'alternation',\n",
              " 'alters',\n",
              " 'amanuensis',\n",
              " 'amaze',\n",
              " 'amazedly',\n",
              " 'amazes',\n",
              " 'ambassadors',\n",
              " 'amber',\n",
              " 'amble',\n",
              " 'ambling',\n",
              " 'ambuscade',\n",
              " 'ambush',\n",
              " 'amiability',\n",
              " 'amiably',\n",
              " 'amicable',\n",
              " 'amigoarawaysoo',\n",
              " 'amity',\n",
              " 'amorites',\n",
              " 'amorous',\n",
              " 'amost',\n",
              " 'amounts',\n",
              " 'ampial',\n",
              " 'amply',\n",
              " 'amselle',\n",
              " 'anadeers',\n",
              " 'analyse',\n",
              " 'anastasia',\n",
              " 'anathematised',\n",
              " 'anatomise',\n",
              " 'ancestress',\n",
              " 'anchorage',\n",
              " 'anchors',\n",
              " 'anchovies',\n",
              " 'anchovy',\n",
              " 'anciently',\n",
              " 'ancients',\n",
              " 'anddidn',\n",
              " 'andrews',\n",
              " 'angering',\n",
              " 'angriest',\n",
              " 'angular',\n",
              " 'animates',\n",
              " 'aniseed',\n",
              " 'anna',\n",
              " 'anniversaries',\n",
              " 'anno',\n",
              " 'annoucing',\n",
              " 'annoy',\n",
              " 'annoying',\n",
              " 'annuity',\n",
              " 'annum',\n",
              " 'anny',\n",
              " 'anoints',\n",
              " 'anomalous',\n",
              " 'anonymous',\n",
              " 'antagonism',\n",
              " 'antecedents',\n",
              " 'antechambers',\n",
              " 'anteroom',\n",
              " 'anti',\n",
              " 'anticipative',\n",
              " 'antimonial',\n",
              " 'antipodean',\n",
              " 'antipodes',\n",
              " 'antoine',\n",
              " 'anxieties',\n",
              " 'anyhow',\n",
              " 'anyone',\n",
              " 'anythink',\n",
              " 'anyway',\n",
              " 'anyways',\n",
              " 'anywheres',\n",
              " 'ap',\n",
              " 'aphorism',\n",
              " 'apocryphal',\n",
              " 'apologetically',\n",
              " 'apologise',\n",
              " 'apologised',\n",
              " 'apologize',\n",
              " 'apologizes',\n",
              " 'apologizing',\n",
              " 'apostles',\n",
              " 'apostrophe',\n",
              " 'apostrophise',\n",
              " 'apostrophising',\n",
              " 'apostrophized',\n",
              " 'apostrophizing',\n",
              " 'apothecaries',\n",
              " 'appalling',\n",
              " 'appealingly',\n",
              " 'appease',\n",
              " 'appeased',\n",
              " 'appendage',\n",
              " 'appiness',\n",
              " 'applauded',\n",
              " 'applauding',\n",
              " 'applicable',\n",
              " 'applications',\n",
              " 'appoint',\n",
              " 'appointing',\n",
              " 'appointments',\n",
              " 'appoints',\n",
              " 'appraised',\n",
              " 'appreciates',\n",
              " 'appreciative',\n",
              " 'apprenticed',\n",
              " 'apprenticeship',\n",
              " 'apprised',\n",
              " 'approve',\n",
              " 'approver',\n",
              " 'approvingly',\n",
              " 'appurtenance',\n",
              " 'appurtenances',\n",
              " 'appy',\n",
              " 'aprons',\n",
              " 'apropos',\n",
              " 'aps',\n",
              " 'aquiline',\n",
              " 'aquirements',\n",
              " 'aquitted',\n",
              " 'ar',\n",
              " 'arcana',\n",
              " 'archly',\n",
              " 'archness',\n",
              " 'archways',\n",
              " 'ard',\n",
              " 'ardent',\n",
              " 'ardently',\n",
              " 'ardour',\n",
              " 'arduous',\n",
              " 'aready',\n",
              " 'areas',\n",
              " 'argues',\n",
              " 'arguing',\n",
              " 'argumentative',\n",
              " 'argumentatively',\n",
              " 'aridity',\n",
              " 'ariel',\n",
              " 'arises',\n",
              " 'arithmetical',\n",
              " 'arithmeticians',\n",
              " 'arks',\n",
              " 'armour',\n",
              " 'armourer',\n",
              " 'armoury',\n",
              " 'arnest',\n",
              " 'arrear',\n",
              " 'arrears',\n",
              " 'arrize',\n",
              " 'arrngd',\n",
              " 'arrogance',\n",
              " 'arrogant',\n",
              " 'arsh',\n",
              " 'arter',\n",
              " 'arternoon',\n",
              " 'arterwards',\n",
              " 'artfull',\n",
              " 'artfulness',\n",
              " 'articled',\n",
              " 'artificially',\n",
              " 'artilleryman',\n",
              " 'artless',\n",
              " 'artlessness',\n",
              " 'ascendancy',\n",
              " 'ascents',\n",
              " 'ash',\n",
              " 'ashantee',\n",
              " 'ashford',\n",
              " 'askant',\n",
              " 'asperities',\n",
              " 'aspersion',\n",
              " 'aspersions',\n",
              " 'aspirant',\n",
              " 'aspires',\n",
              " 'assailant',\n",
              " 'assassin',\n",
              " 'assassinated',\n",
              " 'assassination',\n",
              " 'assassins',\n",
              " 'assemblages',\n",
              " 'assembles',\n",
              " 'assemblies',\n",
              " 'assents',\n",
              " 'asserts',\n",
              " 'asses',\n",
              " 'assets',\n",
              " 'asseveration',\n",
              " 'asseverations',\n",
              " 'assiduity',\n",
              " 'assiduously',\n",
              " 'assignation',\n",
              " 'assigns',\n",
              " 'assists',\n",
              " 'assize',\n",
              " 'assizes',\n",
              " 'associating',\n",
              " 'assort',\n",
              " 'assorted',\n",
              " 'assuaging',\n",
              " 'assumes',\n",
              " 'assumptions',\n",
              " 'assures',\n",
              " 'astern',\n",
              " 'asthma',\n",
              " 'asthmatic',\n",
              " 'astley',\n",
              " 'astonishes',\n",
              " 'astonishingly',\n",
              " 'astound',\n",
              " 'astounded',\n",
              " 'astrand',\n",
              " 'asunders',\n",
              " 'atheistical',\n",
              " 'atmospheric',\n",
              " 'atomics',\n",
              " 'atonement',\n",
              " 'atones',\n",
              " 'atop',\n",
              " 'atrociously',\n",
              " 'atrocity',\n",
              " 'attendances',\n",
              " 'attentions',\n",
              " 'attenuation',\n",
              " 'attest',\n",
              " 'attested',\n",
              " 'attesting',\n",
              " 'attorney',\n",
              " 'attorneys',\n",
              " 'attornies',\n",
              " 'attrapped',\n",
              " 'audaciously',\n",
              " 'augment',\n",
              " 'augmentation',\n",
              " 'augmented',\n",
              " 'augments',\n",
              " 'augur',\n",
              " 'augurs',\n",
              " 'augusta',\n",
              " 'auld',\n",
              " 'aulnais',\n",
              " 'auriferous',\n",
              " 'auspiciously',\n",
              " 'australey',\n",
              " 'australia',\n",
              " 'australian',\n",
              " 'authorised',\n",
              " 'auxiliary',\n",
              " 'availing',\n",
              " 'avails',\n",
              " 'avaricious',\n",
              " 'avenges',\n",
              " 'averaging',\n",
              " 'averring',\n",
              " 'averting',\n",
              " 'aviary',\n",
              " 'avidity',\n",
              " 'avignon',\n",
              " 'avocation',\n",
              " 'avoidable',\n",
              " 'avoidance',\n",
              " 'avoids',\n",
              " 'avow',\n",
              " 'avowing',\n",
              " 'awaricious',\n",
              " 'aways',\n",
              " 'aweer',\n",
              " 'awfullest',\n",
              " 'awkwardly',\n",
              " 'awning',\n",
              " 'axiom',\n",
              " 'axles',\n",
              " 'azackly',\n",
              " 'ba',\n",
              " 'baba',\n",
              " 'babby',\n",
              " 'babel',\n",
              " 'babley',\n",
              " 'baboo',\n",
              " 'bacchanal',\n",
              " 'bacheldore',\n",
              " 'backer',\n",
              " 'backgammon',\n",
              " 'backing',\n",
              " 'backslidings',\n",
              " 'backwards',\n",
              " 'backyard',\n",
              " 'badged',\n",
              " 'badger',\n",
              " 'badgered',\n",
              " 'badness',\n",
              " 'bagatelle',\n",
              " 'bagnet',\n",
              " 'bagnets',\n",
              " 'bagpipes',\n",
              " 'bah',\n",
              " 'bahd',\n",
              " 'bail',\n",
              " 'bailed',\n",
              " 'bailey',\n",
              " 'bailiff',\n",
              " 'bailiwick',\n",
              " 'bait',\n",
              " 'baited',\n",
              " 'baked',\n",
              " 'bakehouse',\n",
              " 'bakers',\n",
              " 'balances',\n",
              " 'baldness',\n",
              " 'baleful',\n",
              " 'balking',\n",
              " 'balks',\n",
              " 'ballast',\n",
              " 'balsam',\n",
              " 'bamboo',\n",
              " 'banded',\n",
              " 'bandit',\n",
              " 'bandmaster',\n",
              " 'banishing',\n",
              " 'banked',\n",
              " 'banker',\n",
              " 'bankers',\n",
              " 'bankrupt',\n",
              " 'bankruptcy',\n",
              " 'bankrupts',\n",
              " 'bannister',\n",
              " 'bannisters',\n",
              " 'banter',\n",
              " 'bantered',\n",
              " 'baptizing',\n",
              " 'barbarism',\n",
              " 'barbary',\n",
              " 'barbican',\n",
              " 'barcaroles',\n",
              " 'barclay',\n",
              " 'bareness',\n",
              " 'barer',\n",
              " 'barge',\n",
              " 'bargeman',\n",
              " 'barges',\n",
              " 'barker',\n",
              " 'barkers',\n",
              " 'barkis',\n",
              " 'barks',\n",
              " 'barmaid',\n",
              " 'barmecide',\n",
              " 'barnet',\n",
              " 'barney',\n",
              " 'baronet',\n",
              " 'baronetcy',\n",
              " 'baronets',\n",
              " 'barrack',\n",
              " 'barracks',\n",
              " 'barricades',\n",
              " 'barring',\n",
              " 'barristers',\n",
              " 'barrows',\n",
              " 'barsad',\n",
              " 'bart',\n",
              " 'bartlemy',\n",
              " 'baseness',\n",
              " 'bases',\n",
              " 'bashfuller',\n",
              " 'bashfully',\n",
              " 'basilisk',\n",
              " 'basinful',\n",
              " 'basked',\n",
              " 'basks',\n",
              " 'bason',\n",
              " 'bassoon',\n",
              " 'bastard',\n",
              " 'bastille',\n",
              " 'batch',\n",
              " 'bates',\n",
              " 'baths',\n",
              " 'batter',\n",
              " 'batteries',\n",
              " 'battlebridge',\n",
              " 'battledore',\n",
              " 'bauble',\n",
              " 'baudi',\n",
              " 'baulk',\n",
              " 'baulked',\n",
              " 'baulking',\n",
              " 'bawling',\n",
              " 'bawls',\n",
              " 'bayham',\n",
              " 'bayton',\n",
              " 'beaded',\n",
              " 'beadlehood',\n",
              " 'beadles',\n",
              " 'beadleship',\n",
              " 'beadwood',\n",
              " 'beak',\n",
              " 'beamingly',\n",
              " 'beastly',\n",
              " 'beaters',\n",
              " 'beau',\n",
              " 'beauvais',\n",
              " 'beaux',\n",
              " 'beckons',\n",
              " 'becky',\n",
              " 'becomingly',\n",
              " 'bedding',\n",
              " 'bedevilment',\n",
              " 'bedight',\n",
              " 'bedpost',\n",
              " 'bedrooms',\n",
              " 'bedstead',\n",
              " 'bedwin',\n",
              " 'beein',\n",
              " 'beery',\n",
              " 'beetling',\n",
              " 'befel',\n",
              " 'befriended',\n",
              " 'befriending',\n",
              " 'begat',\n",
              " 'begets',\n",
              " 'beggared',\n",
              " 'beggary',\n",
              " 'beginner',\n",
              " 'begirt',\n",
              " 'begludship',\n",
              " 'begrimes',\n",
              " 'begs',\n",
              " 'begum',\n",
              " 'behaviour',\n",
              " 'beholden',\n",
              " 'behoves',\n",
              " 'beknown',\n",
              " 'belated',\n",
              " 'beldame',\n",
              " 'believers',\n",
              " 'believeth',\n",
              " 'belinda',\n",
              " 'belle',\n",
              " 'belligerent',\n",
              " 'bellses',\n",
              " 'belongings',\n",
              " 'belshazzars',\n",
              " 'benchers',\n",
              " 'bended',\n",
              " 'benjamin',\n",
              " 'berrid',\n",
              " 'berried',\n",
              " 'berrin',\n",
              " 'berryin',\n",
              " 'berths',\n",
              " 'beseeches',\n",
              " 'beseechingly',\n",
              " 'besieged',\n",
              " 'besmeared',\n",
              " 'besmirched',\n",
              " 'bespeaks',\n",
              " 'bestowal',\n",
              " 'bestriding',\n",
              " 'bethnal',\n",
              " 'betides',\n",
              " 'betrothal',\n",
              " 'betsey',\n",
              " 'betsy',\n",
              " 'betted',\n",
              " 'bettering',\n",
              " 'betweenwhiles',\n",
              " 'bewail',\n",
              " 'bewailing',\n",
              " 'bianchini',\n",
              " 'bib',\n",
              " 'bibo',\n",
              " 'bibs',\n",
              " 'bide',\n",
              " 'biding',\n",
              " 'biffins',\n",
              " 'bile',\n",
              " 'biled',\n",
              " 'bileing',\n",
              " 'biling',\n",
              " 'bilious',\n",
              " 'billet',\n",
              " 'billets',\n",
              " 'billiards',\n",
              " 'billowy',\n",
              " 'binn',\n",
              " 'binns',\n",
              " 'biographical',\n",
              " 'birdcage',\n",
              " 'birdcages',\n",
              " 'birthdays',\n",
              " 'bisness',\n",
              " 'biss',\n",
              " 'bistaked',\n",
              " 'bister',\n",
              " 'bivouacked',\n",
              " 'blab',\n",
              " 'blackboy',\n",
              " 'blackens',\n",
              " 'blackfriars',\n",
              " 'blackguardly',\n",
              " 'blackhearted',\n",
              " 'blackheath',\n",
              " 'blackin',\n",
              " 'blacking',\n",
              " 'blacklead',\n",
              " 'blameable',\n",
              " 'blamelessly',\n",
              " 'blaming',\n",
              " 'blandishments',\n",
              " 'blandly',\n",
              " 'blandness',\n",
              " 'blankly',\n",
              " 'blanks',\n",
              " 'blaring',\n",
              " 'blasphemed',\n",
              " 'blatant',\n",
              " 'blathers',\n",
              " 'ble',\n",
              " 'bleeds',\n",
              " 'blemish',\n",
              " 'blights',\n",
              " 'blinder',\n",
              " 'blinding',\n",
              " 'blindnesses',\n",
              " 'blink',\n",
              " 'blinkers',\n",
              " 'blinking',\n",
              " 'blinks',\n",
              " 'blithesome',\n",
              " 'blithest',\n",
              " 'bloater',\n",
              " 'bloaters',\n",
              " 'blockade',\n",
              " 'bloodhound',\n",
              " 'bloods',\n",
              " 'bloodshot',\n",
              " 'bloonderstone',\n",
              " 'blot',\n",
              " 'blotch',\n",
              " 'blotches',\n",
              " 'blots',\n",
              " 'blotting',\n",
              " 'blowed',\n",
              " 'blower',\n",
              " 'blowers',\n",
              " 'blowings',\n",
              " 'blubbered',\n",
              " 'bluchers',\n",
              " 'bluer',\n",
              " 'blues',\n",
              " 'bluffy',\n",
              " 'bluish',\n",
              " 'blunder',\n",
              " 'blunderbus',\n",
              " 'blunderbuss',\n",
              " 'blunderbusses',\n",
              " 'blunderer',\n",
              " 'blundering',\n",
              " 'blunderings',\n",
              " 'blunderstone',\n",
              " 'blunted',\n",
              " 'blunting',\n",
              " 'blurted',\n",
              " 'blushingly',\n",
              " 'blusterers',\n",
              " 'boar',\n",
              " 'boarder',\n",
              " 'boastful',\n",
              " 'boastfully',\n",
              " 'boastfulness',\n",
              " 'boasting',\n",
              " 'boasts',\n",
              " 'boathouse',\n",
              " 'boating',\n",
              " 'boatman',\n",
              " 'bob',\n",
              " 'boddices',\n",
              " 'boded',\n",
              " 'bodgers',\n",
              " 'bodkins',\n",
              " 'bodyguard',\n",
              " 'bog',\n",
              " 'bogsby',\n",
              " 'boguey',\n",
              " 'boh',\n",
              " 'boiler',\n",
              " 'boilers',\n",
              " 'boldface',\n",
              " 'bolster',\n",
              " 'bolter',\n",
              " 'bolting',\n",
              " 'bombazeen',\n",
              " 'boned',\n",
              " 'bonneted',\n",
              " 'bonnets',\n",
              " 'boodle',\n",
              " 'booked',\n",
              " 'booking',\n",
              " 'bookstall',\n",
              " 'bookstalls',\n",
              " 'booths',\n",
              " 'booting',\n",
              " 'bootjack',\n",
              " 'bootless',\n",
              " 'bootmaker',\n",
              " 'booty',\n",
              " 'bor',\n",
              " 'bordeaux',\n",
              " 'bored',\n",
              " 'boredom',\n",
              " 'bores',\n",
              " 'borough',\n",
              " 'boroughs',\n",
              " 'borrioboola',\n",
              " 'borrioboolan',\n",
              " 'borrowings',\n",
              " 'borrows',\n",
              " 'bosh',\n",
              " 'bosses',\n",
              " 'botanizing',\n",
              " 'bother',\n",
              " 'bothered',\n",
              " 'boulogne',\n",
              " 'bounceable',\n",
              " 'bounceably',\n",
              " 'bounces',\n",
              " 'bourne',\n",
              " 'bowels',\n",
              " 'bowling',\n",
              " 'boxing',\n",
              " 'boythorn',\n",
              " 'braced',\n",
              " 'bracelet',\n",
              " 'bracelets',\n",
              " 'braces',\n",
              " 'bracing',\n",
              " 'braes',\n",
              " 'brag',\n",
              " 'braided',\n",
              " 'brainless',\n",
              " 'brake',\n",
              " 'brambles',\n",
              " 'brans',\n",
              " 'brasses',\n",
              " 'braved',\n",
              " 'bravery',\n",
              " 'braves',\n",
              " 'bravo',\n",
              " 'brawling',\n",
              " 'brawn',\n",
              " 'brazier',\n",
              " 'brazil',\n",
              " 'breaded',\n",
              " 'breadless',\n",
              " 'breads',\n",
              " 'breaker',\n",
              " 'breakers',\n",
              " 'breakfasted',\n",
              " 'breathlessly',\n",
              " 'breathlessness',\n",
              " 'breeds',\n",
              " 'brentford',\n",
              " 'brewers',\n",
              " 'brewery',\n",
              " 'brewing',\n",
              " 'briar',\n",
              " 'bribe',\n",
              " 'bribed',\n",
              " 'bribery',\n",
              " 'brickbat',\n",
              " 'bricklayer',\n",
              " 'brickmaker',\n",
              " 'brickmakers',\n",
              " 'bridesmaid',\n",
              " 'bridesmaids',\n",
              " 'bridewell',\n",
              " 'bridges',\n",
              " 'bridles',\n",
              " 'briefs',\n",
              " 'brier',\n",
              " 'brigand',\n",
              " 'brigands',\n",
              " 'brigs',\n",
              " 'brile',\n",
              " 'brimmy',\n",
              " 'brimstone',\n",
              " 'brinks',\n",
              " 'bristled',\n",
              " 'bristling',\n",
              " 'britannia',\n",
              " 'briton',\n",
              " 'brittles',\n",
              " 'broaching',\n",
              " 'broadsides',\n",
              " 'broadwise',\n",
              " 'broiling',\n",
              " 'brokery',\n",
              " 'broking',\n",
              " 'bronchitis',\n",
              " 'broo',\n",
              " 'brooches',\n",
              " 'brooked',\n",
              " 'brooms',\n",
              " 'broomy',\n",
              " 'broth',\n",
              " 'browlow',\n",
              " 'browner',\n",
              " 'brownlow',\n",
              " 'bruise',\n",
              " 'brushes',\n",
              " 'brutus',\n",
              " 'bu',\n",
              " 'buccaneering',\n",
              " 'buckets',\n",
              " 'buckingham',\n",
              " 'buckram',\n",
              " 'buckskins',\n",
              " 'buffer',\n",
              " 'buffeted',\n",
              " 'buffetting',\n",
              " 'buffy',\n",
              " 'buildin',\n",
              " 'bulbous',\n",
              " 'bulged',\n",
              " 'bulging',\n",
              " 'bulks',\n",
              " 'bullets',\n",
              " 'bullied',\n",
              " 'bullies',\n",
              " 'bullock',\n",
              " 'bullocks',\n",
              " 'bully',\n",
              " 'bullying',\n",
              " 'bulrush',\n",
              " 'bulwark',\n",
              " 'bulwarks',\n",
              " 'bum',\n",
              " 'bumble',\n",
              " 'bump',\n",
              " 'bumped',\n",
              " 'bumper',\n",
              " 'bumpers',\n",
              " 'bumping',\n",
              " 'bumps',\n",
              " 'bumptious',\n",
              " 'bun',\n",
              " 'bungle',\n",
              " 'buoyed',\n",
              " 'burglaries',\n",
              " 'burglarious',\n",
              " 'burglars',\n",
              " 'burglary',\n",
              " 'buries',\n",
              " 'burke',\n",
              " 'burly',\n",
              " 'burrowed',\n",
              " 'buryin',\n",
              " 'bus',\n",
              " 'busies',\n",
              " 'busted',\n",
              " 'busting',\n",
              " 'bustled',\n",
              " 'butchered',\n",
              " 'butcherly',\n",
              " 'butchery',\n",
              " 'butlers',\n",
              " 'butted',\n",
              " 'buttered',\n",
              " 'buttering',\n",
              " 'butterman',\n",
              " 'butting',\n",
              " 'buttoned',\n",
              " 'buttonless',\n",
              " 'butts',\n",
              " 'buxton',\n",
              " 'buyer',\n",
              " 'buyers',\n",
              " 'bygones',\n",
              " 'byway',\n",
              " 'byways',\n",
              " 'cabins',\n",
              " 'cable',\n",
              " 'cabooses',\n",
              " ...]"
            ]
          },
          "metadata": {
            "tags": []
          },
          "execution_count": 97
        }
      ]
    }
  ]
}