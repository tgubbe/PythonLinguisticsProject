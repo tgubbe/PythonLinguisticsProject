{
  "nbformat": 4,
  "nbformat_minor": 0,
  "metadata": {
    "colab": {
      "provenance": [],
      "include_colab_link": true
    },
    "kernelspec": {
      "name": "python3",
      "display_name": "Python 3"
    }
  },
  "cells": [
    {
      "cell_type": "markdown",
      "metadata": {
        "id": "view-in-github",
        "colab_type": "text"
      },
      "source": [
        "<a href=\"https://colab.research.google.com/github/tgubbe/PythonLinguisticsProject/blob/main/LinguisticsProject.ipynb\" target=\"_parent\"><img src=\"https://colab.research.google.com/assets/colab-badge.svg\" alt=\"Open In Colab\"/></a>"
      ]
    },
    {
      "cell_type": "markdown",
      "source": [
        "# **Readability of the Works of Charles Dickens and Nathaniel Hawthorne**\n",
        "\n",
        "### **by: Travis Gubbe**"
      ],
      "metadata": {
        "id": "3FbBPfDMrfzx"
      }
    },
    {
      "cell_type": "code",
      "source": [
        "from google.colab import files\n",
        "uploaded = files.upload()"
      ],
      "metadata": {
        "colab": {
          "base_uri": "https://localhost:8080/",
          "height": 73
        },
        "id": "dVNX8Xe0C5u_",
        "outputId": "6e7250a2-5e75-4b31-cd02-d7fc03fd488e"
      },
      "execution_count": null,
      "outputs": [
        {
          "output_type": "display_data",
          "data": {
            "text/plain": [
              "<IPython.core.display.HTML object>"
            ],
            "text/html": [
              "\n",
              "     <input type=\"file\" id=\"files-4687b0f6-067a-4110-87cc-9dc8ac3d17a4\" name=\"files[]\" multiple disabled\n",
              "        style=\"border:none\" />\n",
              "     <output id=\"result-4687b0f6-067a-4110-87cc-9dc8ac3d17a4\">\n",
              "      Upload widget is only available when the cell has been executed in the\n",
              "      current browser session. Please rerun this cell to enable.\n",
              "      </output>\n",
              "      <script>// Copyright 2017 Google LLC\n",
              "//\n",
              "// Licensed under the Apache License, Version 2.0 (the \"License\");\n",
              "// you may not use this file except in compliance with the License.\n",
              "// You may obtain a copy of the License at\n",
              "//\n",
              "//      http://www.apache.org/licenses/LICENSE-2.0\n",
              "//\n",
              "// Unless required by applicable law or agreed to in writing, software\n",
              "// distributed under the License is distributed on an \"AS IS\" BASIS,\n",
              "// WITHOUT WARRANTIES OR CONDITIONS OF ANY KIND, either express or implied.\n",
              "// See the License for the specific language governing permissions and\n",
              "// limitations under the License.\n",
              "\n",
              "/**\n",
              " * @fileoverview Helpers for google.colab Python module.\n",
              " */\n",
              "(function(scope) {\n",
              "function span(text, styleAttributes = {}) {\n",
              "  const element = document.createElement('span');\n",
              "  element.textContent = text;\n",
              "  for (const key of Object.keys(styleAttributes)) {\n",
              "    element.style[key] = styleAttributes[key];\n",
              "  }\n",
              "  return element;\n",
              "}\n",
              "\n",
              "// Max number of bytes which will be uploaded at a time.\n",
              "const MAX_PAYLOAD_SIZE = 100 * 1024;\n",
              "\n",
              "function _uploadFiles(inputId, outputId) {\n",
              "  const steps = uploadFilesStep(inputId, outputId);\n",
              "  const outputElement = document.getElementById(outputId);\n",
              "  // Cache steps on the outputElement to make it available for the next call\n",
              "  // to uploadFilesContinue from Python.\n",
              "  outputElement.steps = steps;\n",
              "\n",
              "  return _uploadFilesContinue(outputId);\n",
              "}\n",
              "\n",
              "// This is roughly an async generator (not supported in the browser yet),\n",
              "// where there are multiple asynchronous steps and the Python side is going\n",
              "// to poll for completion of each step.\n",
              "// This uses a Promise to block the python side on completion of each step,\n",
              "// then passes the result of the previous step as the input to the next step.\n",
              "function _uploadFilesContinue(outputId) {\n",
              "  const outputElement = document.getElementById(outputId);\n",
              "  const steps = outputElement.steps;\n",
              "\n",
              "  const next = steps.next(outputElement.lastPromiseValue);\n",
              "  return Promise.resolve(next.value.promise).then((value) => {\n",
              "    // Cache the last promise value to make it available to the next\n",
              "    // step of the generator.\n",
              "    outputElement.lastPromiseValue = value;\n",
              "    return next.value.response;\n",
              "  });\n",
              "}\n",
              "\n",
              "/**\n",
              " * Generator function which is called between each async step of the upload\n",
              " * process.\n",
              " * @param {string} inputId Element ID of the input file picker element.\n",
              " * @param {string} outputId Element ID of the output display.\n",
              " * @return {!Iterable<!Object>} Iterable of next steps.\n",
              " */\n",
              "function* uploadFilesStep(inputId, outputId) {\n",
              "  const inputElement = document.getElementById(inputId);\n",
              "  inputElement.disabled = false;\n",
              "\n",
              "  const outputElement = document.getElementById(outputId);\n",
              "  outputElement.innerHTML = '';\n",
              "\n",
              "  const pickedPromise = new Promise((resolve) => {\n",
              "    inputElement.addEventListener('change', (e) => {\n",
              "      resolve(e.target.files);\n",
              "    });\n",
              "  });\n",
              "\n",
              "  const cancel = document.createElement('button');\n",
              "  inputElement.parentElement.appendChild(cancel);\n",
              "  cancel.textContent = 'Cancel upload';\n",
              "  const cancelPromise = new Promise((resolve) => {\n",
              "    cancel.onclick = () => {\n",
              "      resolve(null);\n",
              "    };\n",
              "  });\n",
              "\n",
              "  // Wait for the user to pick the files.\n",
              "  const files = yield {\n",
              "    promise: Promise.race([pickedPromise, cancelPromise]),\n",
              "    response: {\n",
              "      action: 'starting',\n",
              "    }\n",
              "  };\n",
              "\n",
              "  cancel.remove();\n",
              "\n",
              "  // Disable the input element since further picks are not allowed.\n",
              "  inputElement.disabled = true;\n",
              "\n",
              "  if (!files) {\n",
              "    return {\n",
              "      response: {\n",
              "        action: 'complete',\n",
              "      }\n",
              "    };\n",
              "  }\n",
              "\n",
              "  for (const file of files) {\n",
              "    const li = document.createElement('li');\n",
              "    li.append(span(file.name, {fontWeight: 'bold'}));\n",
              "    li.append(span(\n",
              "        `(${file.type || 'n/a'}) - ${file.size} bytes, ` +\n",
              "        `last modified: ${\n",
              "            file.lastModifiedDate ? file.lastModifiedDate.toLocaleDateString() :\n",
              "                                    'n/a'} - `));\n",
              "    const percent = span('0% done');\n",
              "    li.appendChild(percent);\n",
              "\n",
              "    outputElement.appendChild(li);\n",
              "\n",
              "    const fileDataPromise = new Promise((resolve) => {\n",
              "      const reader = new FileReader();\n",
              "      reader.onload = (e) => {\n",
              "        resolve(e.target.result);\n",
              "      };\n",
              "      reader.readAsArrayBuffer(file);\n",
              "    });\n",
              "    // Wait for the data to be ready.\n",
              "    let fileData = yield {\n",
              "      promise: fileDataPromise,\n",
              "      response: {\n",
              "        action: 'continue',\n",
              "      }\n",
              "    };\n",
              "\n",
              "    // Use a chunked sending to avoid message size limits. See b/62115660.\n",
              "    let position = 0;\n",
              "    do {\n",
              "      const length = Math.min(fileData.byteLength - position, MAX_PAYLOAD_SIZE);\n",
              "      const chunk = new Uint8Array(fileData, position, length);\n",
              "      position += length;\n",
              "\n",
              "      const base64 = btoa(String.fromCharCode.apply(null, chunk));\n",
              "      yield {\n",
              "        response: {\n",
              "          action: 'append',\n",
              "          file: file.name,\n",
              "          data: base64,\n",
              "        },\n",
              "      };\n",
              "\n",
              "      let percentDone = fileData.byteLength === 0 ?\n",
              "          100 :\n",
              "          Math.round((position / fileData.byteLength) * 100);\n",
              "      percent.textContent = `${percentDone}% done`;\n",
              "\n",
              "    } while (position < fileData.byteLength);\n",
              "  }\n",
              "\n",
              "  // All done.\n",
              "  yield {\n",
              "    response: {\n",
              "      action: 'complete',\n",
              "    }\n",
              "  };\n",
              "}\n",
              "\n",
              "scope.google = scope.google || {};\n",
              "scope.google.colab = scope.google.colab || {};\n",
              "scope.google.colab._files = {\n",
              "  _uploadFiles,\n",
              "  _uploadFilesContinue,\n",
              "};\n",
              "})(self);\n",
              "</script> "
            ]
          },
          "metadata": {}
        },
        {
          "output_type": "stream",
          "name": "stdout",
          "text": [
            "Saving charles_dickens.zip to charles_dickens.zip\n"
          ]
        }
      ]
    },
    {
      "cell_type": "code",
      "source": [
        "from google.colab import files\n",
        "uploaded1 = files.upload()"
      ],
      "metadata": {
        "colab": {
          "base_uri": "https://localhost:8080/",
          "height": 73
        },
        "id": "RaisDRqJEb-A",
        "outputId": "66fff71a-0066-4fa1-deb9-8250ff25a7f5"
      },
      "execution_count": null,
      "outputs": [
        {
          "output_type": "display_data",
          "data": {
            "text/plain": [
              "<IPython.core.display.HTML object>"
            ],
            "text/html": [
              "\n",
              "     <input type=\"file\" id=\"files-d2069074-0304-446d-b3fa-4bbdbdbf4515\" name=\"files[]\" multiple disabled\n",
              "        style=\"border:none\" />\n",
              "     <output id=\"result-d2069074-0304-446d-b3fa-4bbdbdbf4515\">\n",
              "      Upload widget is only available when the cell has been executed in the\n",
              "      current browser session. Please rerun this cell to enable.\n",
              "      </output>\n",
              "      <script>// Copyright 2017 Google LLC\n",
              "//\n",
              "// Licensed under the Apache License, Version 2.0 (the \"License\");\n",
              "// you may not use this file except in compliance with the License.\n",
              "// You may obtain a copy of the License at\n",
              "//\n",
              "//      http://www.apache.org/licenses/LICENSE-2.0\n",
              "//\n",
              "// Unless required by applicable law or agreed to in writing, software\n",
              "// distributed under the License is distributed on an \"AS IS\" BASIS,\n",
              "// WITHOUT WARRANTIES OR CONDITIONS OF ANY KIND, either express or implied.\n",
              "// See the License for the specific language governing permissions and\n",
              "// limitations under the License.\n",
              "\n",
              "/**\n",
              " * @fileoverview Helpers for google.colab Python module.\n",
              " */\n",
              "(function(scope) {\n",
              "function span(text, styleAttributes = {}) {\n",
              "  const element = document.createElement('span');\n",
              "  element.textContent = text;\n",
              "  for (const key of Object.keys(styleAttributes)) {\n",
              "    element.style[key] = styleAttributes[key];\n",
              "  }\n",
              "  return element;\n",
              "}\n",
              "\n",
              "// Max number of bytes which will be uploaded at a time.\n",
              "const MAX_PAYLOAD_SIZE = 100 * 1024;\n",
              "\n",
              "function _uploadFiles(inputId, outputId) {\n",
              "  const steps = uploadFilesStep(inputId, outputId);\n",
              "  const outputElement = document.getElementById(outputId);\n",
              "  // Cache steps on the outputElement to make it available for the next call\n",
              "  // to uploadFilesContinue from Python.\n",
              "  outputElement.steps = steps;\n",
              "\n",
              "  return _uploadFilesContinue(outputId);\n",
              "}\n",
              "\n",
              "// This is roughly an async generator (not supported in the browser yet),\n",
              "// where there are multiple asynchronous steps and the Python side is going\n",
              "// to poll for completion of each step.\n",
              "// This uses a Promise to block the python side on completion of each step,\n",
              "// then passes the result of the previous step as the input to the next step.\n",
              "function _uploadFilesContinue(outputId) {\n",
              "  const outputElement = document.getElementById(outputId);\n",
              "  const steps = outputElement.steps;\n",
              "\n",
              "  const next = steps.next(outputElement.lastPromiseValue);\n",
              "  return Promise.resolve(next.value.promise).then((value) => {\n",
              "    // Cache the last promise value to make it available to the next\n",
              "    // step of the generator.\n",
              "    outputElement.lastPromiseValue = value;\n",
              "    return next.value.response;\n",
              "  });\n",
              "}\n",
              "\n",
              "/**\n",
              " * Generator function which is called between each async step of the upload\n",
              " * process.\n",
              " * @param {string} inputId Element ID of the input file picker element.\n",
              " * @param {string} outputId Element ID of the output display.\n",
              " * @return {!Iterable<!Object>} Iterable of next steps.\n",
              " */\n",
              "function* uploadFilesStep(inputId, outputId) {\n",
              "  const inputElement = document.getElementById(inputId);\n",
              "  inputElement.disabled = false;\n",
              "\n",
              "  const outputElement = document.getElementById(outputId);\n",
              "  outputElement.innerHTML = '';\n",
              "\n",
              "  const pickedPromise = new Promise((resolve) => {\n",
              "    inputElement.addEventListener('change', (e) => {\n",
              "      resolve(e.target.files);\n",
              "    });\n",
              "  });\n",
              "\n",
              "  const cancel = document.createElement('button');\n",
              "  inputElement.parentElement.appendChild(cancel);\n",
              "  cancel.textContent = 'Cancel upload';\n",
              "  const cancelPromise = new Promise((resolve) => {\n",
              "    cancel.onclick = () => {\n",
              "      resolve(null);\n",
              "    };\n",
              "  });\n",
              "\n",
              "  // Wait for the user to pick the files.\n",
              "  const files = yield {\n",
              "    promise: Promise.race([pickedPromise, cancelPromise]),\n",
              "    response: {\n",
              "      action: 'starting',\n",
              "    }\n",
              "  };\n",
              "\n",
              "  cancel.remove();\n",
              "\n",
              "  // Disable the input element since further picks are not allowed.\n",
              "  inputElement.disabled = true;\n",
              "\n",
              "  if (!files) {\n",
              "    return {\n",
              "      response: {\n",
              "        action: 'complete',\n",
              "      }\n",
              "    };\n",
              "  }\n",
              "\n",
              "  for (const file of files) {\n",
              "    const li = document.createElement('li');\n",
              "    li.append(span(file.name, {fontWeight: 'bold'}));\n",
              "    li.append(span(\n",
              "        `(${file.type || 'n/a'}) - ${file.size} bytes, ` +\n",
              "        `last modified: ${\n",
              "            file.lastModifiedDate ? file.lastModifiedDate.toLocaleDateString() :\n",
              "                                    'n/a'} - `));\n",
              "    const percent = span('0% done');\n",
              "    li.appendChild(percent);\n",
              "\n",
              "    outputElement.appendChild(li);\n",
              "\n",
              "    const fileDataPromise = new Promise((resolve) => {\n",
              "      const reader = new FileReader();\n",
              "      reader.onload = (e) => {\n",
              "        resolve(e.target.result);\n",
              "      };\n",
              "      reader.readAsArrayBuffer(file);\n",
              "    });\n",
              "    // Wait for the data to be ready.\n",
              "    let fileData = yield {\n",
              "      promise: fileDataPromise,\n",
              "      response: {\n",
              "        action: 'continue',\n",
              "      }\n",
              "    };\n",
              "\n",
              "    // Use a chunked sending to avoid message size limits. See b/62115660.\n",
              "    let position = 0;\n",
              "    do {\n",
              "      const length = Math.min(fileData.byteLength - position, MAX_PAYLOAD_SIZE);\n",
              "      const chunk = new Uint8Array(fileData, position, length);\n",
              "      position += length;\n",
              "\n",
              "      const base64 = btoa(String.fromCharCode.apply(null, chunk));\n",
              "      yield {\n",
              "        response: {\n",
              "          action: 'append',\n",
              "          file: file.name,\n",
              "          data: base64,\n",
              "        },\n",
              "      };\n",
              "\n",
              "      let percentDone = fileData.byteLength === 0 ?\n",
              "          100 :\n",
              "          Math.round((position / fileData.byteLength) * 100);\n",
              "      percent.textContent = `${percentDone}% done`;\n",
              "\n",
              "    } while (position < fileData.byteLength);\n",
              "  }\n",
              "\n",
              "  // All done.\n",
              "  yield {\n",
              "    response: {\n",
              "      action: 'complete',\n",
              "    }\n",
              "  };\n",
              "}\n",
              "\n",
              "scope.google = scope.google || {};\n",
              "scope.google.colab = scope.google.colab || {};\n",
              "scope.google.colab._files = {\n",
              "  _uploadFiles,\n",
              "  _uploadFilesContinue,\n",
              "};\n",
              "})(self);\n",
              "</script> "
            ]
          },
          "metadata": {}
        },
        {
          "output_type": "stream",
          "name": "stdout",
          "text": [
            "Saving hawthorne.zip to hawthorne.zip\n"
          ]
        }
      ]
    },
    {
      "cell_type": "code",
      "metadata": {
        "id": "4c555s_BELI4",
        "outputId": "e8ba84e7-80da-49ec-e7b5-95aeeb6472ce",
        "colab": {
          "base_uri": "https://localhost:8080/"
        }
      },
      "source": [
        "!unzip  /content/hawthorne.zip"
      ],
      "execution_count": null,
      "outputs": [
        {
          "output_type": "stream",
          "name": "stdout",
          "text": [
            "Archive:  /content/hawthorne.zip\n",
            "  inflating: hawthorne/TheSnowImageAChildishMiraclebyNathanielHawthorne30376.txt  \n",
            "  inflating: hawthorne/TwiceToldTalesbyNathanielHawthorne13707.txt  \n",
            "  inflating: hawthorne/TheBlithedaleRomancebyNathanielHawthorne2081.txt  \n",
            "  inflating: hawthorne/TheGreatStoneFacebyNathanielHawthorne1916.txt  \n",
            "  inflating: hawthorne/TrueStoriesofHistoryandBiographybyNathanielHawthor15697.txt  \n",
            "  inflating: hawthorne/TheAncestralFootstepfragmentOutlinesofanEnglishRom8429.txt  \n",
            "  inflating: hawthorne/TheHallofFantasyFromMossesfromanOldMansebyNathanie9226.txt  \n",
            "  inflating: hawthorne/TheMarbleFaunVolume2TheRomanceofMonteBenibyNathani2182.txt  \n",
            "  inflating: hawthorne/TheParadiseofChildrenFromAWonderBookforGirlsandBoy9256.txt  \n",
            "  inflating: hawthorne/TheManofAdamantFromTheSnowImageandOtherTwiceToldTa9240.txt  \n",
            "  inflating: hawthorne/TheMarbleFaunVolume1TheRomanceofMonteBenibyNathani2181.txt  \n",
            "  inflating: hawthorne/TheIntelligenceOfficeFromMossesfromanOldMansebyNat9229.txt  \n",
            "  inflating: hawthorne/TanglewoodTalesbyNathanielHawthorne976.txt  \n",
            "  inflating: hawthorne/TheScarletLetterbyNathanielHawthorne25344.txt  \n",
            "  inflating: hawthorne/TheThreeGoldenApplesFromAWonderBookforGirlsandBoys9257.txt  \n",
            "  inflating: hawthorne/SylphEtheregeFromTheSnowImageandOtherTwiceToldTale9238.txt  \n",
            "  inflating: hawthorne/TheSnowImageandotherstoriesbyNathanielHawthorne513.txt  \n",
            "  inflating: hawthorne/TheWivesoftheDeadFromTheSnowImageandOtherTwiceTold9243.txt  \n",
            "  inflating: hawthorne/TheThreefoldDestinyFromTwiceToldTalesbyNathanielHa9220.txt  \n",
            "  inflating: hawthorne/TanglewoodTalesbyNathanielHawthorne51995.txt  \n",
            "  inflating: hawthorne/TheWhiteOldMaidFromTwiceToldTalesbyNathanielHawtho9214.txt  \n",
            "  inflating: hawthorne/TheVisionoftheFountainFromTwiceToldTalesbyNathanie9207.txt  \n",
            "  inflating: hawthorne/TheMiraculousPitcherFromAWonderBookforGirlsandBoys9258.txt  \n",
            "  inflating: hawthorne/TheDolliverRomancebyNathanielHawthorne7119.txt  \n",
            "  inflating: hawthorne/TheLilysQuestFromTwiceToldTalesbyNathanielHawthorn9217.txt  \n",
            "  inflating: hawthorne/ThePropheticPicturesFromTwiceToldTalesbyNathanielH9204.txt  \n",
            "  inflating: hawthorne/TheSevenVagabondsFromTwiceToldTalesbyNathanielHawt9213.txt  \n",
            "  inflating: hawthorne/TheNewAdamandEveFromMossesfromanOldMansebyNathanie9227.txt  \n",
            "  inflating: hawthorne/LittleDaffydowndillyFromTheSnowImageandOtherTwiceT9244.txt  \n",
            "  inflating: hawthorne/TheGorgonsHeadFromAWonderBookforGirlsandBoysbyNath9255.txt  \n",
            "  inflating: hawthorne/PassagesfromaRelinquisedWorkFromMossesfromanOldMan9232.txt  \n",
            "  inflating: hawthorne/AVirtuososCollectionFromMossesfromanOldMansebyNath9235.txt  \n",
            "  inflating: hawthorne/DoctorGrimshawesSecretaRomancebyNathanielHawthorne7183.txt  \n",
            "  inflating: hawthorne/EdwardFanesRosebudFromTwiceToldTalesbyNathanielHaw9219.txt  \n",
            "  inflating: hawthorne/JohnInglefieldsThanksgivingFromTheSnowImageandOthe9241.txt  \n",
            "  inflating: hawthorne/ASelectPartybyNathanielHawthorne9222.txt  \n",
            "  inflating: hawthorne/FanshawebyNathanielHawthorne7085.txt  \n",
            "  inflating: hawthorne/MossesfromanOldManseandotherstoriesbyNathanielHawt512.txt  \n",
            "  inflating: hawthorne/EarthsHolocaustFromMossesfromanOldMansebyNathaniel9231.txt  \n",
            "  inflating: hawthorne/NathanielHawthornebyNathanielHawthorne39716.txt  \n",
            "  inflating: hawthorne/SundayatHomeFromTwiceToldTalesbyNathanielHawthorne9201.txt  \n",
            "  inflating: hawthorne/AWonderBookandTanglewoodTalesforGirlsandBoysbyNath35377.txt  \n",
            "  inflating: hawthorne/TheScarletLetterbyNathanielHawthorne33.txt  \n",
            "  inflating: hawthorne/AWonderBookforGirlsampBoysbyNathanielHawthorne32242.txt  \n",
            "  inflating: hawthorne/SeptimiusFeltonortheElixirofLifebyNathanielHawthor7372.txt  \n",
            "  inflating: hawthorne/OtherTalesandSketchesFromTheDoliverRomanceandOther9248.txt  \n",
            "  inflating: hawthorne/TheSisterYearsFromTwiceToldTalesbyNathanielHawthor9211.txt  \n",
            "  inflating: hawthorne/HouseoftheSevenGablesbyNathanielHawthorne77.txt  \n",
            "  inflating: hawthorne/BiographicalStoriesFromTrueStoriesofHistoryandBiog9254.txt  \n",
            "  inflating: hawthorne/TheChristmasBanquetFromMossesfromanOldMansebyNatha9228.txt  \n",
            "  inflating: hawthorne/ChippingswithaChiselFromTwiceToldTalesbyNathanielH9215.txt  \n"
          ]
        }
      ]
    },
    {
      "cell_type": "code",
      "metadata": {
        "id": "niPd1VfFshNw",
        "outputId": "c282c8e6-94e1-43cc-a85d-13bcd3efdac0",
        "colab": {
          "base_uri": "https://localhost:8080/"
        }
      },
      "source": [
        "!unzip  /content/charles_dickens.zip"
      ],
      "execution_count": null,
      "outputs": [
        {
          "output_type": "stream",
          "name": "stdout",
          "text": [
            "Archive:  /content/charles_dickens.zip\n",
            "  inflating: charles_dickens/TheSevenPoorTravellersbyCharlesDickens1392.txt  \n",
            "  inflating: charles_dickens/TheHauntedManandtheGhostsBargainbyCharlesDickens644.txt  \n",
            "  inflating: charles_dickens/SketchesofYoungGentlemenbyCharlesDickens918.txt  \n",
            "  inflating: charles_dickens/TheBattleofLifebyCharlesDickens676.txt  \n",
            "  inflating: charles_dickens/TheHollyTreebyCharlesDickens1394.txt  \n",
            "  inflating: charles_dickens/PerilsofCertainEnglishPrisonersbyCharlesDickens1406.txt  \n",
            "  inflating: charles_dickens/PearlFishingChoiceStoriesfromDickensHouseholdWords50334.txt  \n",
            "  inflating: charles_dickens/TheCricketontheHearthAFairyTaleofHomebyCharlesDick37581.txt  \n",
            "  inflating: charles_dickens/TomTiddlersGroundbyCharlesDickens1413.txt  \n",
            "  inflating: charles_dickens/ReprintedPiecesbyCharlesDickens872.txt  \n",
            "  inflating: charles_dickens/TheMagicFishboneAHolidayRomancefromthePenofMissAli23344.txt  \n",
            "  inflating: charles_dickens/TheLamplighterafarceinoneactbyCharlesDickens927.txt  \n",
            "  inflating: charles_dickens/OliverTwistVol3of3byCharlesDickens47531.txt  \n",
            "  inflating: charles_dickens/WreckoftheGoldenMarybyCharlesDickens1465.txt  \n",
            "  inflating: charles_dickens/TheCricketontheHearthbyCharlesDickens678.txt  \n",
            "  inflating: charles_dickens/TheTrialofWilliamTinklingWrittenbyHimselfattheAgeo23452.txt  \n",
            "  inflating: charles_dickens/TheMysteryofEdwinDroodbyCharlesDickens564.txt  \n",
            "  inflating: charles_dickens/ToBeReadatDuskbyCharlesDickens924.txt  \n",
            "  inflating: charles_dickens/TheChimesbyCharlesDickens653.txt  \n",
            "  inflating: charles_dickens/TheCricketontheHearthbyCharlesDickens20795.txt  \n",
            "  inflating: charles_dickens/PearlFishingChoiceStoriesfromDickensHouseholdWords49927.txt  \n",
            "  inflating: charles_dickens/ThePosthumousPapersofthePickwickClubv1of2byCharles47534.txt  \n",
            "  inflating: charles_dickens/TheUncommercialTravellerbyCharlesDickens914.txt  \n",
            "  inflating: charles_dickens/MudfogandOtherSketchesbyCharlesDickens912.txt  \n",
            "  inflating: charles_dickens/MrsLirripersLodgingsbyCharlesDickens1416.txt  \n",
            "  inflating: charles_dickens/TheBattleofLifeALoveStorybyCharlesDickens40723.txt  \n",
            "  inflating: charles_dickens/ThePosthumousPapersofthePickwickClubv2of2byCharles47535.txt  \n",
            "  inflating: charles_dickens/SketchesofYoungCouplesbyCharlesDickens916.txt  \n",
            "  inflating: charles_dickens/SomeChristmasStoriesbyCharlesDickens1467.txt  \n",
            "  inflating: charles_dickens/OurMutualFriendbyCharlesDickens883.txt  \n",
            "  inflating: charles_dickens/SomebodysLuggagebyCharlesDickens1414.txt  \n",
            "  inflating: charles_dickens/OliverTwistVol1of3byCharlesDickens47529.txt  \n",
            "  inflating: charles_dickens/OliverTwistbyCharlesDickens730.txt  \n",
            "  inflating: charles_dickens/OliverTwistVol2of3byCharlesDickens47530.txt  \n",
            "  inflating: charles_dickens/ThePickwickPapersbyCharlesDickens580.txt  \n",
            "  inflating: charles_dickens/NoThoroughfarebyWilkieCollins1423.txt  \n",
            "  inflating: charles_dickens/MugbyJunctionbyCharlesDickens27924.txt  \n",
            "  inflating: charles_dickens/ChristmasTidebyElizabethHarrison41894.txt  \n",
            "  inflating: charles_dickens/HolidayRomancebyCharlesDickens809.txt  \n",
            "  inflating: charles_dickens/MrsLirripersLegacybyCharlesDickens1421.txt  \n",
            "  inflating: charles_dickens/SketchesbyBozillustrativeofeverydaylifeandeveryday882.txt  \n",
            "  inflating: charles_dickens/BardellvPickwickbyCharlesDickens25985.txt  \n",
            "  inflating: charles_dickens/MugbyJunctionbyCharlesDickens1419.txt  \n",
            "  inflating: charles_dickens/GeorgeSilvermansExplanationbyCharlesDickens810.txt  \n",
            "  inflating: charles_dickens/OliverTwistIllustratedorTheParishBoysProgressbyCha46675.txt  \n",
            "  inflating: charles_dickens/NicholasNicklebybyCharlesDickens967.txt  \n",
            "  inflating: charles_dickens/HardTimesbyCharlesDickens786.txt  \n",
            "  inflating: charles_dickens/ThePersonalHistoryofDavidCopperfieldbyCharlesDicke43111.txt  \n",
            "  inflating: charles_dickens/DickensStoriesAboutChildrenEveryChildCanReadbyChar32241.txt  \n",
            "  inflating: charles_dickens/LazyTourofTwoIdleApprenticesbyWilkieCollins888.txt  \n",
            "  inflating: charles_dickens/GreatExpectationsbyCharlesDickens1400.txt  \n",
            "  inflating: charles_dickens/TheOldCuriosityShopbyCharlesDickens700.txt  \n",
            "  inflating: charles_dickens/CharlesDickensChildrenStoriesbyCharlesDickens37121.txt  \n",
            "  inflating: charles_dickens/AMessagefromtheSeabyCharlesDickens1407.txt  \n",
            "  inflating: charles_dickens/MartinChuzzlewitbyCharlesDickens968.txt  \n",
            "  inflating: charles_dickens/GoingintoSocietybyCharlesDickens1422.txt  \n",
            "  inflating: charles_dickens/AHousetoLetbyAdelaideAnneProcter2324.txt  \n",
            "  inflating: charles_dickens/DoctorMarigoldbyCharlesDickens1415.txt  \n",
            "  inflating: charles_dickens/DavidCopperfieldbyCharlesDickens766.txt  \n",
            "  inflating: charles_dickens/AChristmasCarolbyCharlesDickens24022.txt  \n",
            "  inflating: charles_dickens/AChristmasCarolTheoriginalmanuscriptbyCharlesDicke30368.txt  \n",
            "  inflating: charles_dickens/AChildsDreamofaStarbyCharlesDickens42232.txt  \n",
            "  inflating: charles_dickens/CaptainBoldhearttheLatinGrammarMasterAHolidayRoman23765.txt  \n",
            "  inflating: charles_dickens/AChristmasCarolbyCharlesDickens19337.txt  \n",
            "  inflating: charles_dickens/AChristmasCarolbyCharlesDickens46.txt  \n",
            "  inflating: charles_dickens/LittleDorritbyCharlesDickens963.txt  \n",
            "  inflating: charles_dickens/ATaleofTwoCitiesbyCharlesDickens98.txt  \n",
            "  inflating: charles_dickens/BleakHousebyCharlesDickens1023.txt  \n",
            "  inflating: charles_dickens/BarnabyRudgeataleoftheRiotsofeightybyCharlesDicken917.txt  \n",
            "  inflating: charles_dickens/DombeyandSonbyCharlesDickens821.txt  \n"
          ]
        }
      ]
    },
    {
      "cell_type": "code",
      "metadata": {
        "id": "nGDLFvPnvQfw",
        "outputId": "a787d24d-33ba-43cc-81a7-407e773f989b",
        "colab": {
          "base_uri": "https://localhost:8080/"
        }
      },
      "source": [
        "import nltk\n",
        "import re\n",
        "from toolz import *\n",
        "nltk.download('book',quiet=True)\n",
        "nltk.download('punkt')"
      ],
      "execution_count": null,
      "outputs": [
        {
          "output_type": "stream",
          "name": "stderr",
          "text": [
            "[nltk_data] Downloading package punkt to /root/nltk_data...\n",
            "[nltk_data]   Package punkt is already up-to-date!\n"
          ]
        },
        {
          "output_type": "execute_result",
          "data": {
            "text/plain": [
              "True"
            ]
          },
          "metadata": {},
          "execution_count": 8
        }
      ]
    },
    {
      "cell_type": "code",
      "metadata": {
        "id": "dcynCnfpAbd6"
      },
      "source": [
        "dickens = nltk.corpus.reader.plaintext.PlaintextCorpusReader('charles_dickens', r'.*\\.txt')\n",
        "hawthorne = nltk.corpus.reader.plaintext.PlaintextCorpusReader('hawthorne', r'.*\\.txt')"
      ],
      "execution_count": null,
      "outputs": []
    },
    {
      "cell_type": "code",
      "metadata": {
        "id": "vGk6zEnF4VmJ"
      },
      "source": [
        "dickens_words = [w.lower() for w in dickens.words() if w.isalpha() or w.endswith(\"'s\") or w.endswith(\"n't\")]\n",
        "hawthorne_words = [w.lower() for w in hawthorne.words() if w.isalpha() or w.endswith(\"'s\") or w.endswith(\"n't\")]"
      ],
      "execution_count": null,
      "outputs": []
    },
    {
      "cell_type": "code",
      "metadata": {
        "id": "xnM8r2ar5kYe",
        "outputId": "992b10fd-45a4-48e3-e3ec-41f54b5fcd52",
        "colab": {
          "base_uri": "https://localhost:8080/",
          "height": 309
        }
      },
      "source": [
        "freq_dickens = nltk.FreqDist(dickens_words)\n",
        "freq_dickens.plot(20)"
      ],
      "execution_count": null,
      "outputs": [
        {
          "output_type": "display_data",
          "data": {
            "text/plain": [
              "<Figure size 432x288 with 1 Axes>"
            ],
            "image/png": "[encoded data removed]"
          },
          "metadata": {
            "needs_background": "light"
          }
        },
        {
          "output_type": "execute_result",
          "data": {
            "text/plain": [
              "<matplotlib.axes._subplots.AxesSubplot at 0x7fcfee10ea10>"
            ]
          },
          "metadata": {},
          "execution_count": 15
        }
      ]
    },
    {
      "cell_type": "code",
      "source": [
        "freq_hawthorne = nltk.FreqDist(hawthorne_words)\n",
        "freq_hawthorne.plot(20)"
      ],
      "metadata": {
        "colab": {
          "base_uri": "https://localhost:8080/",
          "height": 317
        },
        "id": "7cgJuAouuTD2",
        "outputId": "ec29132d-bded-41be-9522-4625fee04136"
      },
      "execution_count": null,
      "outputs": [
        {
          "output_type": "display_data",
          "data": {
            "text/plain": [
              "<Figure size 432x288 with 1 Axes>"
            ],
            "image/png": "[encoded data removed]"
          },
          "metadata": {
            "needs_background": "light"
          }
        },
        {
          "output_type": "execute_result",
          "data": {
            "text/plain": [
              "<matplotlib.axes._subplots.AxesSubplot at 0x7fcfe4a7a5d0>"
            ]
          },
          "metadata": {},
          "execution_count": 16
        }
      ]
    },
    {
      "cell_type": "code",
      "metadata": {
        "id": "ZEMtotWPjk_q"
      },
      "source": [
        "bleak = [w.lower() for w in dickens.words('BleakHousebyCharlesDickens1023.txt') if w.isalpha() \n",
        "or w.endswith(\"'s\") or w.endswith(\"n't\") or w.endswith(\"'ll\") or w.endswith(\"'ve\")]\n",
        "carol = [w.lower() for w in dickens.words('AChristmasCarolbyCharlesDickens46.txt') if w.isalpha() \n",
        "or w.endswith(\"'s\") or w.endswith(\"n't\") or w.endswith(\"'ll\") or w.endswith(\"'ve\")]\n",
        "cities = [w.lower() for w in dickens.words('ATaleofTwoCitiesbyCharlesDickens98.txt') if w.isalpha() \n",
        "or w.endswith(\"'s\") or w.endswith(\"n't\") or w.endswith(\"'ll\") or w.endswith(\"'ve\")]\n",
        "copper = [w.lower() for w in dickens.words('DavidCopperfieldbyCharlesDickens766.txt') if w.isalpha() \n",
        "or w.endswith(\"'s\") or w.endswith(\"n't\") or w.endswith(\"'ll\") or w.endswith(\"'ve\")]\n",
        "twist = [w.lower() for w in dickens.words('OliverTwistbyCharlesDickens730.txt') if w.isalpha() \n",
        "or w.endswith(\"'s\") or w.endswith(\"n't\") or w.endswith(\"'ll\") or w.endswith(\"'ve\")]"
      ],
      "execution_count": null,
      "outputs": []
    },
    {
      "cell_type": "code",
      "metadata": {
        "id": "-YywFefyW8yB",
        "colab": {
          "base_uri": "https://localhost:8080/"
        },
        "outputId": "734173a8-8385-40d0-a435-9baab8f7a9d7"
      },
      "source": [
        "print(\"The length of Bleak House words:\", len(bleak))\n",
        "print(\"The amount of Bleak House sentences:\", len(dickens.sents(\"BleakHousebyCharlesDickens1023.txt\")))\n",
        "print(\"The average amount of  words in sentence in Bleak House:\", 363344/20467)\n",
        "\n",
        "print(\"The length of A Christmas Carol words:\", len(carol))\n",
        "print(\"The amount of A Christmas Carol sentences:\", len(dickens.sents(\"AChristmasCarolbyCharlesDickens46.txt\")))\n",
        "print(\"The average amount of  words in sentence in A Christmas Carol:\", 29358/1940)\n",
        "\n",
        "print(\"The length of A Tale of Two Cities words:\", len(cities))\n",
        "print(\"The amount of A Tale of Two Cities sentences:\", len(dickens.sents(\"ATaleofTwoCitiesbyCharlesDickens98.txt\")))\n",
        "print(\"The average amount of  words in sentence in A Tale of Two Cities:\", 138435/7770)\n",
        "\n",
        "print(\"The length of David Copperfield words:\", len(copper))\n",
        "print(\"The amount of David Copperfield sentences:\", len(dickens.sents(\"DavidCopperfieldbyCharlesDickens766.txt\")))\n",
        "print(\"The average amount of  words in sentence in David Copperfield:\", 365145/19435)\n",
        "\n",
        "print(\"The length of Oliver Twist words:\", len(twist))\n",
        "print(\"The amount of Oliver Twist sentences:\", len(dickens.sents(\"OliverTwistbyCharlesDickens730.txt\")))\n",
        "print(\"The average amount of  words in sentence in Oliver Twist:\", 162969/9150)"
      ],
      "execution_count": null,
      "outputs": [
        {
          "output_type": "stream",
          "name": "stdout",
          "text": [
            "The length of Bleak House words: 363344\n",
            "The amount of Bleak House sentences: 20467\n",
            "The average amount of Bleak House sentences: 17.75267503786583\n",
            "The length of A Christmas Carol words: 29358\n",
            "The amount of A Christmas Carol sentences: 1940\n",
            "The average amount of A Christmas Carol sentences: 15.132989690721649\n",
            "The length of A Tale of Two Cities words: 138435\n",
            "The amount of A Tale of Two Cities sentences: 7770\n",
            "The average amount of A Tale of Two Cities sentences: 17.816602316602317\n",
            "The length of David Copperfield words: 365145\n",
            "The amount of David Copperfield sentences: 19435\n",
            "The average amount of David Copperfield sentences: 18.788011319783894\n",
            "The length of Oliver Twist words: 162969\n",
            "The amount of Oliver Twist sentences: 9150\n",
            "The average amount of Oliver Twist sentences: 17.810819672131146\n"
          ]
        }
      ]
    },
    {
      "cell_type": "code",
      "metadata": {
        "id": "Cu_ncc2H2JB0"
      },
      "source": [
        "blithe = [w.lower() for w in hawthorne.words('TheBlithedaleRomancebyNathanielHawthorne2081.txt') if w.isalpha() \n",
        "or w.endswith(\"'s\") or w.endswith(\"n't\") or w.endswith(\"'ll\") or w.endswith(\"'ve\")]\n",
        "doctor = [w.lower() for w in hawthorne.words('DoctorGrimshawesSecretaRomancebyNathanielHawthorne7183.txt') if w.isalpha() \n",
        "or w.endswith(\"'s\") or w.endswith(\"n't\") or w.endswith(\"'ll\") or w.endswith(\"'ve\")]\n",
        "house = [w.lower() for w in hawthorne.words('HouseoftheSevenGablesbyNathanielHawthorne77.txt') if w.isalpha() \n",
        "or w.endswith(\"'s\") or w.endswith(\"n't\") or w.endswith(\"'ll\") or w.endswith(\"'ve\")]\n",
        "letter = [w.lower() for w in hawthorne.words('TheScarletLetterbyNathanielHawthorne25344.txt') if w.isalpha() \n",
        "or w.endswith(\"'s\") or w.endswith(\"n't\") or w.endswith(\"'ll\") or w.endswith(\"'ve\")]\n",
        "tales = [w.lower() for w in hawthorne.words('TwiceToldTalesbyNathanielHawthorne13707.txt') if w.isalpha() \n",
        "or w.endswith(\"'s\") or w.endswith(\"n't\") or w.endswith(\"'ll\") or w.endswith(\"'ve\")]\n",
        "wood = [w.lower() for w in hawthorne.words('TanglewoodTalesbyNathanielHawthorne976.txt') if w.isalpha() \n",
        "or w.endswith(\"'s\") or w.endswith(\"n't\") or w.endswith(\"'ll\") or w.endswith(\"'ve\")]"
      ],
      "execution_count": null,
      "outputs": []
    },
    {
      "cell_type": "code",
      "metadata": {
        "id": "z_HpS0tlYRnu",
        "colab": {
          "base_uri": "https://localhost:8080/"
        },
        "outputId": "bd0c8f2b-7c13-4953-bdbd-fc5bba62e4b5"
      },
      "source": [
        "print(\"The length of The Blithedale Romance words:\", len(blithe))\n",
        "print(\"The amount of The Blithedale Romance sentences:\", len(hawthorne.sents(\"TheBlithedaleRomancebyNathanielHawthorne2081.txt\")))\n",
        "print(\"The average amount of  words in sentence in Blithedale Romance:\", len(blithe)/3597)\n",
        "\n",
        "print(\"The length of Doctor Grimshawe's words:\", len(doctor))\n",
        "print(\"The amount of Doctor Grimshawe's sentences:\", len(hawthorne.sents(\"DoctorGrimshawesSecretaRomancebyNathanielHawthorne7183.txt\")))\n",
        "print(\"The average amount of  words in sentence in Doctor Grimshawe's:\", len(doctor)/3232)\n",
        "\n",
        "print(\"The length of House of the Seven Gables words:\", len(house))\n",
        "print(\"The amount of House of the Seven Gables sentences:\", len(hawthorne.sents(\"HouseoftheSevenGablesbyNathanielHawthorne77.txt\")))\n",
        "print(\"The average amount of  words in sentence in House of the Seven Gables:\", len(house)/4617)\n",
        "\n",
        "print(\"The length of The Scarlet Letter words:\", len(letter))\n",
        "print(\"The amount of The Scarlet Letter sentences:\", len(hawthorne.sents(\"TheScarletLetterbyNathanielHawthorne25344.txt\")))\n",
        "print(\"The average amount of  words in sentence in The Scarlet Letter:\", len(letter)/3098)\n",
        "\n",
        "print(\"The length of Twice Told Tales words:\", len(tales))\n",
        "print(\"The amount of Twice Told Tales sentences:\", len(hawthorne.sents(\"TwiceToldTalesbyNathanielHawthorne13707.txt\")))\n",
        "print(\"The average amount of  words in sentence in Twice Told Tales:\", len(tales)/6073)\n",
        "\n",
        "print(\"The length of Tanglewood Tales words:\", len(wood))\n",
        "print(\"The amount of Tanglewood Tales sentences:\", len(hawthorne.sents(\"TanglewoodTalesbyNathanielHawthorne976.txt\")))\n",
        "print(\"The average amount of  words in sentence in Tanglewood Tales:\", len(wood)/2764)"
      ],
      "execution_count": null,
      "outputs": [
        {
          "output_type": "stream",
          "name": "stdout",
          "text": [
            "The length of The Blithedale Romance words: 77325\n",
            "The amount of The Blithedale Romance sentences: 3597\n",
            "The average amount of  words in sentence in Blithedale Romance: 21.497080900750625\n",
            "The length of Doctor Grimshawe's words: 94696\n",
            "The amount of Doctor Grimshawe's sentences: 3287\n",
            "The average amount of  words in sentence in Doctor Grimshawe's: 29.29950495049505\n",
            "The length of House of the Seven Gables words: 107866\n",
            "The amount of House of the Seven Gables sentences: 4617\n",
            "The average amount of  words in sentence in House of the Seven Gables: 23.362789690275072\n",
            "The length of The Scarlet Letter words: 85634\n",
            "The amount of The Scarlet Letter sentences: 3098\n",
            "The average amount of  words in sentence in The Scarlet Letter: 27.641704325371208\n",
            "The length of Twice Told Tales words: 149095\n",
            "The amount of Twice Told Tales sentences: 6073\n",
            "The average amount of  words in sentence in Twice Told Tales: 24.550469290301333\n",
            "The length of Tanglewood Tales words: 66204\n",
            "The amount of Tanglewood Tales sentences: 2764\n",
            "The average amount of  words in sentence in Tanglewood Tales: 23.952243125904488\n"
          ]
        }
      ]
    },
    {
      "cell_type": "code",
      "metadata": {
        "id": "JBEj28yZoCLJ",
        "outputId": "b2ef6d5d-ba47-4587-b7fc-86c9914fa729",
        "colab": {
          "base_uri": "https://localhost:8080/",
          "height": 326
        }
      },
      "source": [
        "freq_carol = nltk.FreqDist(carol)\n",
        "freq_carol.plot(20)"
      ],
      "execution_count": null,
      "outputs": [
        {
          "output_type": "display_data",
          "data": {
            "text/plain": [
              "<Figure size 432x288 with 1 Axes>"
            ],
            "image/png": "[encoded data removed]"
          },
          "metadata": {
            "needs_background": "light"
          }
        },
        {
          "output_type": "execute_result",
          "data": {
            "text/plain": [
              "<matplotlib.axes._subplots.AxesSubplot at 0x7fd03406f9d0>"
            ]
          },
          "metadata": {},
          "execution_count": 38
        }
      ]
    },
    {
      "cell_type": "code",
      "metadata": {
        "id": "L57XRjCSosT5",
        "outputId": "43dd85a6-e05d-4a8c-8e8d-bb6fd4f8374a",
        "colab": {
          "base_uri": "https://localhost:8080/",
          "height": 309
        }
      },
      "source": [
        "freq_cities = nltk.FreqDist(cities)\n",
        "freq_cities.plot(20)"
      ],
      "execution_count": null,
      "outputs": [
        {
          "output_type": "display_data",
          "data": {
            "text/plain": [
              "<Figure size 432x288 with 1 Axes>"
            ],
            "image/png": "[encoded data removed]"
          },
          "metadata": {
            "needs_background": "light"
          }
        },
        {
          "output_type": "execute_result",
          "data": {
            "text/plain": [
              "<matplotlib.axes._subplots.AxesSubplot at 0x7fd0328f4550>"
            ]
          },
          "metadata": {},
          "execution_count": 39
        }
      ]
    },
    {
      "cell_type": "code",
      "metadata": {
        "id": "eZ3lzGVjo3Wf",
        "outputId": "c3454ef0-b965-4c9f-dcf0-a3a6dc568414",
        "colab": {
          "base_uri": "https://localhost:8080/",
          "height": 309
        }
      },
      "source": [
        "freq_copper = nltk.FreqDist(copper)\n",
        "freq_copper.plot(20)"
      ],
      "execution_count": null,
      "outputs": [
        {
          "output_type": "display_data",
          "data": {
            "text/plain": [
              "<Figure size 432x288 with 1 Axes>"
            ],
            "image/png": "[encoded data removed]"
          },
          "metadata": {
            "needs_background": "light"
          }
        },
        {
          "output_type": "execute_result",
          "data": {
            "text/plain": [
              "<matplotlib.axes._subplots.AxesSubplot at 0x7fd022661cd0>"
            ]
          },
          "metadata": {},
          "execution_count": 40
        }
      ]
    },
    {
      "cell_type": "code",
      "metadata": {
        "id": "11ltTqT5o96b",
        "outputId": "37ca54d2-54ea-4485-b3a4-afabcc7ab723",
        "colab": {
          "base_uri": "https://localhost:8080/",
          "height": 311
        }
      },
      "source": [
        "freq_twist = nltk.FreqDist(twist)\n",
        "freq_twist.plot(20)"
      ],
      "execution_count": null,
      "outputs": [
        {
          "output_type": "display_data",
          "data": {
            "text/plain": [
              "<Figure size 432x288 with 1 Axes>"
            ],
            "image/png": "[encoded data removed]"
          },
          "metadata": {
            "needs_background": "light"
          }
        },
        {
          "output_type": "execute_result",
          "data": {
            "text/plain": [
              "<matplotlib.axes._subplots.AxesSubplot at 0x7fd01ffb1a90>"
            ]
          },
          "metadata": {},
          "execution_count": 41
        }
      ]
    },
    {
      "cell_type": "markdown",
      "metadata": {
        "id": "aoCkTNewroIj"
      },
      "source": [
        "Lengths of selected Dickens and Hawthorne texts"
      ]
    },
    {
      "cell_type": "code",
      "metadata": {
        "id": "ZJSRjSGJlNgR",
        "outputId": "2ad0c945-e457-4dcc-c1ce-5ff4d3d0045f",
        "colab": {
          "base_uri": "https://localhost:8080/"
        }
      },
      "source": [
        "print('Length of Dickens texts:')\n",
        "print(len(bleak))\n",
        "print(len(carol))\n",
        "print(len(cities))\n",
        "print(len(copper))\n",
        "print(len(twist))\n",
        "print('Length of Hawthorne texts:')\n",
        "print(len(blithe))\n",
        "print(len(doctor))\n",
        "print(len(house))\n",
        "print(len(letter))\n",
        "print(len(tales))\n",
        "print(len(wood))"
      ],
      "execution_count": null,
      "outputs": [
        {
          "output_type": "stream",
          "name": "stdout",
          "text": [
            "Length of Dickens texts:\n",
            "363344\n",
            "29358\n",
            "138435\n",
            "365145\n",
            "162969\n",
            "Length of Hawthorne texts:\n",
            "77325\n",
            "94696\n",
            "107866\n",
            "85634\n",
            "149095\n",
            "66204\n"
          ]
        }
      ]
    },
    {
      "cell_type": "markdown",
      "metadata": {
        "id": "nCSgs3jyUAX4"
      },
      "source": [
        "## **CFD Plot of Word length frequency in the Dickens Texts**"
      ]
    },
    {
      "cell_type": "code",
      "metadata": {
        "id": "2eASi8GlM90E",
        "outputId": "942e4326-2a7f-497c-95fc-4df5f1c176dd",
        "colab": {
          "base_uri": "https://localhost:8080/",
          "height": 302
        }
      },
      "source": [
        "#Word length frequency for Dickens texts with at least 100,000 words\n",
        "dickens_100 = ['BleakHousebyCharlesDickens1023.txt', 'ATaleofTwoCitiesbyCharlesDickens98.txt', \n",
        "               'DavidCopperfieldbyCharlesDickens766.txt', 'OliverTwistbyCharlesDickens730.txt']\n",
        "cfd_dickens_full = nltk.ConditionalFreqDist(\n",
        "        (book, len(word))\n",
        "        for book in dickens_100\n",
        "        for word in dickens.words(book)\n",
        ")\n",
        "cfd_dickens_full.plot()"
      ],
      "execution_count": null,
      "outputs": [
        {
          "output_type": "display_data",
          "data": {
            "text/plain": [
              "<Figure size 432x288 with 1 Axes>"
            ],
            "image/png": "[encoded data removed]"
          },
          "metadata": {
            "needs_background": "light"
          }
        },
        {
          "output_type": "execute_result",
          "data": {
            "text/plain": [
              "<matplotlib.axes._subplots.AxesSubplot at 0x7fd02b2ebf10>"
            ]
          },
          "metadata": {},
          "execution_count": 49
        }
      ]
    },
    {
      "cell_type": "markdown",
      "metadata": {
        "id": "Oi7BYtwtDp9F"
      },
      "source": [
        "CFD Plot of Word length frequency in the Hawthorne Texts"
      ]
    },
    {
      "cell_type": "code",
      "metadata": {
        "id": "NwQwq5rWL3VR",
        "outputId": "765ae224-4c60-4dce-85d3-b61b3140148b",
        "colab": {
          "base_uri": "https://localhost:8080/",
          "height": 301
        }
      },
      "source": [
        "#Word length frequency for Hawthorne texts with at least 100,000 words\n",
        "hawthorne_100 = ['HouseoftheSevenGablesbyNathanielHawthorne77.txt', 'TwiceToldTalesbyNathanielHawthorne13707.txt']\n",
        "cfd_hawthorne_full = nltk.ConditionalFreqDist(\n",
        "        (book, len(word))\n",
        "        for book in hawthorne_100\n",
        "        for word in hawthorne.words(book)\n",
        ")\n",
        "cfd_hawthorne_full.plot()"
      ],
      "execution_count": null,
      "outputs": [
        {
          "output_type": "display_data",
          "data": {
            "text/plain": [
              "<Figure size 432x288 with 1 Axes>"
            ],
            "image/png": "[encoded data removed]"
          },
          "metadata": {
            "needs_background": "light"
          }
        },
        {
          "output_type": "execute_result",
          "data": {
            "text/plain": [
              "<matplotlib.axes._subplots.AxesSubplot at 0x7fd032427a10>"
            ]
          },
          "metadata": {},
          "execution_count": 50
        }
      ]
    },
    {
      "cell_type": "markdown",
      "metadata": {
        "id": "Vq1USZze0zJ4"
      },
      "source": [
        "## **Automated Readability Index (ARI)**\n"
      ]
    },
    {
      "cell_type": "markdown",
      "metadata": {
        "id": "jXMqeQzRm8Ea"
      },
      "source": [
        "ARI for all of the Dickens texts"
      ]
    },
    {
      "cell_type": "code",
      "source": [
        "dickens_texts = ['BleakHousebyCharlesDickens1023.txt', 'AChristmasCarolbyCharlesDickens46.txt',\n",
        "                 'ATaleofTwoCitiesbyCharlesDickens98.txt', 'DavidCopperfieldbyCharlesDickens766.txt', 'OliverTwistbyCharlesDickens730.txt']"
      ],
      "metadata": {
        "id": "kPirQKr56rSL"
      },
      "execution_count": null,
      "outputs": []
    },
    {
      "cell_type": "code",
      "metadata": {
        "id": "PIoSMglgl6uJ"
      },
      "source": [
        "def ari_dickens(fileid):\n",
        "  sents = len(dickens.sents(fileid))\n",
        "  words = len([w for w in dickens.words(fileid) if w.isalpha()])\n",
        "  chars = sum([len(w) for w in dickens.words(fileid) if w.isalpha()])\n",
        "  return 4.71*(chars/words) + 0.5*(words/sents) - 21.43"
      ],
      "execution_count": null,
      "outputs": []
    },
    {
      "cell_type": "code",
      "metadata": {
        "id": "s5CLjfxAmo4N",
        "outputId": "9b6900d9-8b2b-473d-c05e-71883d83a22b",
        "colab": {
          "base_uri": "https://localhost:8080/"
        }
      },
      "source": [
        "for fileid in dickens_texts:\n",
        "  print(f'{fileid:18} {ari_dickens(fileid):5.2f}')"
      ],
      "execution_count": null,
      "outputs": [
        {
          "output_type": "stream",
          "name": "stdout",
          "text": [
            "BleakHousebyCharlesDickens1023.txt  6.82\n",
            "AChristmasCarolbyCharlesDickens46.txt  5.65\n",
            "ATaleofTwoCitiesbyCharlesDickens98.txt  7.34\n",
            "DavidCopperfieldbyCharlesDickens766.txt  7.05\n",
            "OliverTwistbyCharlesDickens730.txt  7.33\n"
          ]
        }
      ]
    },
    {
      "cell_type": "markdown",
      "metadata": {
        "id": "8kv0L1YJI3zX"
      },
      "source": [
        "ARI for the Hawthorne texts"
      ]
    },
    {
      "cell_type": "code",
      "source": [
        "hawthorne_texts = ['TheBlithedaleRomancebyNathanielHawthorne2081.txt', 'DoctorGrimshawesSecretaRomancebyNathanielHawthorne7183.txt',\n",
        "                 'HouseoftheSevenGablesbyNathanielHawthorne77.txt', 'TheScarletLetterbyNathanielHawthorne25344.txt',\n",
        "                  'TwiceToldTalesbyNathanielHawthorne13707.txt', 'TanglewoodTalesbyNathanielHawthorne976.txt']"
      ],
      "metadata": {
        "id": "jae-pqh87Jt0"
      },
      "execution_count": null,
      "outputs": []
    },
    {
      "cell_type": "code",
      "metadata": {
        "id": "bVB10GubGUUA"
      },
      "source": [
        "def ari_hawthorne(fileid):\n",
        "  sents = len(hawthorne.sents(fileid))\n",
        "  words = len([w for w in hawthorne.words(fileid) if w.isalpha()])\n",
        "  chars = sum([len(w) for w in hawthorne.words(fileid) if w.isalpha()])\n",
        "  return 4.71*(chars/words) + 0.5*(words/sents) - 21.43"
      ],
      "execution_count": null,
      "outputs": []
    },
    {
      "cell_type": "code",
      "metadata": {
        "id": "2Eeval16Gc1h",
        "outputId": "9ab7cfd8-2a5f-4ceb-9c0a-ac16451d4cd4",
        "colab": {
          "base_uri": "https://localhost:8080/"
        }
      },
      "source": [
        "for fileid in hawthorne_texts:\n",
        "  print(f'{fileid:18} {ari_hawthorne(fileid):5.2f}')"
      ],
      "execution_count": null,
      "outputs": [
        {
          "output_type": "stream",
          "name": "stdout",
          "text": [
            "TheBlithedaleRomancebyNathanielHawthorne2081.txt 10.11\n",
            "DoctorGrimshawesSecretaRomancebyNathanielHawthorne7183.txt 13.74\n",
            "HouseoftheSevenGablesbyNathanielHawthorne77.txt 11.38\n",
            "TheScarletLetterbyNathanielHawthorne25344.txt 13.52\n",
            "TwiceToldTalesbyNathanielHawthorne13707.txt 11.84\n",
            "TanglewoodTalesbyNathanielHawthorne976.txt 10.59\n"
          ]
        }
      ]
    },
    {
      "cell_type": "markdown",
      "metadata": {
        "id": "lFHgxqyO6IZA"
      },
      "source": [
        "## **CL (Coleman-Liau Index)**"
      ]
    },
    {
      "cell_type": "markdown",
      "metadata": {
        "id": "a8HyPfZjI7qW"
      },
      "source": [
        "CL for the Dickens texts"
      ]
    },
    {
      "cell_type": "code",
      "metadata": {
        "id": "IHX4qXqi6OZ8"
      },
      "source": [
        "def cl_dickens(fileid):\n",
        "  sents = len(dickens.sents(fileid))\n",
        "  words = len([w for w in dickens.words(fileid) if w.isalpha()])\n",
        "  chars = sum([len(w) for w in dickens.words(fileid) if w.isalpha()])\n",
        "  return 0.0588*(chars/words*100) - 0.296*(sents/words*100) - 15.8"
      ],
      "execution_count": null,
      "outputs": []
    },
    {
      "cell_type": "code",
      "metadata": {
        "id": "g4LZGGBM6aGF",
        "outputId": "ddc629c5-3f7c-48c5-adb2-51ec9063d636",
        "colab": {
          "base_uri": "https://localhost:8080/"
        }
      },
      "source": [
        "for fileid in dickens_texts:\n",
        "  print(f'{fileid:18} {cl_dickens(fileid):5.2f}')"
      ],
      "execution_count": null,
      "outputs": [
        {
          "output_type": "stream",
          "name": "stdout",
          "text": [
            "BleakHousebyCharlesDickens1023.txt  6.72\n",
            "AChristmasCarolbyCharlesDickens46.txt  6.61\n",
            "ATaleofTwoCitiesbyCharlesDickens98.txt  7.34\n",
            "DavidCopperfieldbyCharlesDickens766.txt  6.45\n",
            "OliverTwistbyCharlesDickens730.txt  7.32\n"
          ]
        }
      ]
    },
    {
      "cell_type": "code",
      "metadata": {
        "id": "-dvNupeh7E_f"
      },
      "source": [
        "def cl_hawthorne(fileid):\n",
        "  sents = len(hawthorne.sents(fileid))\n",
        "  words = len([w for w in hawthorne.words(fileid) if w.isalpha()])\n",
        "  chars = sum([len(w) for w in hawthorne.words(fileid) if w.isalpha()])\n",
        "  return 0.0588*(chars/words*100) - 0.296*(sents/words*100) - 15.8"
      ],
      "execution_count": null,
      "outputs": []
    },
    {
      "cell_type": "code",
      "metadata": {
        "id": "juihq43t7NXR",
        "outputId": "fd547cb4-accf-4a1f-8a09-f14157e48719",
        "colab": {
          "base_uri": "https://localhost:8080/"
        }
      },
      "source": [
        "for fileid in hawthorne_texts:\n",
        "  print(f'{fileid:18} {cl_hawthorne(fileid):5.2f}')"
      ],
      "execution_count": null,
      "outputs": [
        {
          "output_type": "stream",
          "name": "stdout",
          "text": [
            "TheBlithedaleRomancebyNathanielHawthorne2081.txt  8.78\n",
            "DoctorGrimshawesSecretaRomancebyNathanielHawthorne7183.txt  9.09\n",
            "HouseoftheSevenGablesbyNathanielHawthorne77.txt  9.31\n",
            "TheScarletLetterbyNathanielHawthorne25344.txt  9.51\n",
            "TwiceToldTalesbyNathanielHawthorne13707.txt  9.21\n",
            "TanglewoodTalesbyNathanielHawthorne976.txt  7.99\n"
          ]
        }
      ]
    },
    {
      "cell_type": "markdown",
      "metadata": {
        "id": "Bf1Oqv1UKn3P"
      },
      "source": [
        "ARI-CL Plot for Dickens"
      ]
    },
    {
      "cell_type": "code",
      "metadata": {
        "id": "h3GQyCDX7wWS"
      },
      "source": [
        "from matplotlib import pyplot"
      ],
      "execution_count": null,
      "outputs": []
    },
    {
      "cell_type": "code",
      "metadata": {
        "id": "bVjgedIN8iyO"
      },
      "source": [
        "x_dickens = [ari_dickens(fileid) for fileid in dickens_texts]\n",
        "y_dickens = [cl_dickens(fileid) for fileid in dickens_texts]"
      ],
      "execution_count": null,
      "outputs": []
    },
    {
      "cell_type": "code",
      "metadata": {
        "id": "H6kXNNEd8vYp",
        "outputId": "45161744-8cbe-4f30-9d0d-64ee9ce2b237",
        "colab": {
          "base_uri": "https://localhost:8080/",
          "height": 313
        }
      },
      "source": [
        "pyplot.scatter(x_dickens,y_dickens)\n",
        "pyplot.xlabel('Automated Readability Index')\n",
        "pyplot.ylabel('Coleman-Liau Index')\n",
        "pyplot.title('Comparing Readability Metrics for Dickens Texts')"
      ],
      "execution_count": null,
      "outputs": [
        {
          "output_type": "execute_result",
          "data": {
            "text/plain": [
              "Text(0.5, 1.0, 'Comparing Readability Metrics for Dickens Texts')"
            ]
          },
          "metadata": {},
          "execution_count": 67
        },
        {
          "output_type": "display_data",
          "data": {
            "text/plain": [
              "<Figure size 432x288 with 1 Axes>"
            ],
            "image/png": "[encoded data removed]"
          },
          "metadata": {
            "needs_background": "light"
          }
        }
      ]
    },
    {
      "cell_type": "markdown",
      "metadata": {
        "id": "jUQrkrY2KtC6"
      },
      "source": [
        "ARI-CL Plot for Hawthorne"
      ]
    },
    {
      "cell_type": "code",
      "metadata": {
        "id": "ddivKa678DCu"
      },
      "source": [
        "x_hawthorne = [ari_hawthorne(fileid) for fileid in hawthorne_texts]\n",
        "y_hawthorne = [cl_hawthorne(fileid) for fileid in hawthorne_texts]"
      ],
      "execution_count": null,
      "outputs": []
    },
    {
      "cell_type": "code",
      "metadata": {
        "id": "C1_tkSdn8PFj",
        "outputId": "f93cbdfc-c712-4509-fb62-8ea858244088",
        "colab": {
          "base_uri": "https://localhost:8080/",
          "height": 313
        }
      },
      "source": [
        "pyplot.scatter(x_hawthorne,y_hawthorne)\n",
        "pyplot.xlabel('Automated Readability Index')\n",
        "pyplot.ylabel('Coleman-Liau Index')\n",
        "pyplot.title('Comparing Readability Metrics for Hawthorne Texts')"
      ],
      "execution_count": null,
      "outputs": [
        {
          "output_type": "execute_result",
          "data": {
            "text/plain": [
              "Text(0.5, 1.0, 'Comparing Readability Metrics for Hawthorne Texts')"
            ]
          },
          "metadata": {},
          "execution_count": 69
        },
        {
          "output_type": "display_data",
          "data": {
            "text/plain": [
              "<Figure size 432x288 with 1 Axes>"
            ],
            "image/png": "[encoded data removed]"
          },
          "metadata": {
            "needs_background": "light"
          }
        }
      ]
    },
    {
      "cell_type": "markdown",
      "metadata": {
        "id": "-TAyC6HIWewf"
      },
      "source": [
        "## **FK (Flesh-Kincaid)**"
      ]
    },
    {
      "cell_type": "code",
      "metadata": {
        "id": "AlymZvZeWqUB"
      },
      "source": [
        "import nltk\n",
        "\n",
        "cmudict = nltk.corpus.cmudict.dict()\n",
        "\n",
        "def stress(pron):\n",
        "  return [char for phone in pron for char in phone if char.isdigit()]\n",
        "\n",
        "def w_syllables(word):\n",
        "  word = word.lower()\n",
        "  if word in cmudict:\n",
        "    return len(stress(cmudict[word][0]))\n",
        "  else:\n",
        "    s = len(re.findall(r'[aeiou]+', word))\n",
        "    if re.search(r'[aeiou][^aeioulr]+e$', word):\n",
        "      s = s - 1\n",
        "    return s"
      ],
      "execution_count": null,
      "outputs": []
    },
    {
      "cell_type": "markdown",
      "metadata": {
        "id": "cqjEuHzmWovy"
      },
      "source": [
        "FK for Dickens"
      ]
    },
    {
      "cell_type": "code",
      "metadata": {
        "id": "h4TrXLvSX_On"
      },
      "source": [
        "def fk_dickens(fileid):\n",
        "  sents = len(dickens.sents(fileid))\n",
        "  words = len([w for w in dickens.words(fileid) if w.isalpha()])\n",
        "  sylls = sum([w_syllables(w) for w in dickens.words(fileid) if w.isalpha()])\n",
        "  return 0.39*(words/sents) + 11.8*(sylls/words) - 15.59"
      ],
      "execution_count": null,
      "outputs": []
    },
    {
      "cell_type": "code",
      "metadata": {
        "id": "Bmm8B-m1YLBn",
        "outputId": "66ad4089-7841-43ec-d637-c976db2dcc7f",
        "colab": {
          "base_uri": "https://localhost:8080/"
        }
      },
      "source": [
        "for fileid in dickens_texts:\n",
        "  print(f'{fileid:18} {fk_dickens(fileid):5.2f}')"
      ],
      "execution_count": null,
      "outputs": [
        {
          "output_type": "stream",
          "name": "stdout",
          "text": [
            "BleakHousebyCharlesDickens1023.txt  7.43\n",
            "AChristmasCarolbyCharlesDickens46.txt  5.71\n",
            "ATaleofTwoCitiesbyCharlesDickens98.txt  7.46\n",
            "DavidCopperfieldbyCharlesDickens766.txt  7.66\n",
            "OliverTwistbyCharlesDickens730.txt  7.51\n"
          ]
        }
      ]
    },
    {
      "cell_type": "markdown",
      "metadata": {
        "id": "Qusa5HDcY1c4"
      },
      "source": [
        "FK for Hawthorne"
      ]
    },
    {
      "cell_type": "code",
      "metadata": {
        "id": "DS0ep7jAYvXJ"
      },
      "source": [
        "def fk_hawthorne(fileid):\n",
        "  sents = len(hawthorne.sents(fileid))\n",
        "  words = len([w for w in hawthorne.words(fileid) if w.isalpha()])\n",
        "  sylls = sum([w_syllables(w) for w in hawthorne.words(fileid) if w.isalpha()])\n",
        "  return 0.39*(words/sents) + 11.8*(sylls/words) - 15.59"
      ],
      "execution_count": null,
      "outputs": []
    },
    {
      "cell_type": "code",
      "metadata": {
        "id": "Lclgq9aPZAR6",
        "outputId": "288ea996-a735-468d-915a-8c90dc735f54",
        "colab": {
          "base_uri": "https://localhost:8080/"
        }
      },
      "source": [
        "for fileid in hawthorne_texts:\n",
        "  print(f'{fileid:18} {fk_hawthorne(fileid):5.2f}')"
      ],
      "execution_count": null,
      "outputs": [
        {
          "output_type": "stream",
          "name": "stdout",
          "text": [
            "TheBlithedaleRomancebyNathanielHawthorne2081.txt  9.98\n",
            "DoctorGrimshawesSecretaRomancebyNathanielHawthorne7183.txt 12.44\n",
            "HouseoftheSevenGablesbyNathanielHawthorne77.txt 10.70\n",
            "TheScarletLetterbyNathanielHawthorne25344.txt 12.34\n",
            "TwiceToldTalesbyNathanielHawthorne13707.txt 10.74\n",
            "TanglewoodTalesbyNathanielHawthorne976.txt  9.71\n"
          ]
        }
      ]
    },
    {
      "cell_type": "markdown",
      "metadata": {
        "id": "48puMlDwKyZq"
      },
      "source": [
        "Comparison of ARI, CL, and FK for Dickens and Hawthorne texts"
      ]
    },
    {
      "cell_type": "code",
      "metadata": {
        "id": "5R_pOavwZNPc",
        "outputId": "ee63f3a5-eca2-407d-dc92-ccc2efa3c44c",
        "colab": {
          "base_uri": "https://localhost:8080/"
        }
      },
      "source": [
        "print(f'{\"\":10} {\"ARI\":>5} {\"CL\":>5} {\"FK\":>5}')\n",
        "for fileid in dickens_texts:\n",
        "  print(f'{fileid:10} {ari_dickens(fileid):5.2f} {cl_dickens(fileid):5.2f} {fk_dickens(fileid):5.2f}')\n",
        "for fileid in hawthorne_texts:\n",
        "  print(f'{fileid:10} {ari_hawthorne(fileid):5.2f} {cl_hawthorne(fileid):5.2f} {fk_hawthorne(fileid):5.2f}')"
      ],
      "execution_count": null,
      "outputs": [
        {
          "output_type": "stream",
          "name": "stdout",
          "text": [
            "             ARI    CL    FK\n",
            "BleakHousebyCharlesDickens1023.txt  6.82  6.72  7.43\n",
            "AChristmasCarolbyCharlesDickens46.txt  5.65  6.61  5.71\n",
            "ATaleofTwoCitiesbyCharlesDickens98.txt  7.34  7.34  7.46\n",
            "DavidCopperfieldbyCharlesDickens766.txt  7.05  6.45  7.66\n",
            "OliverTwistbyCharlesDickens730.txt  7.33  7.32  7.51\n",
            "TheBlithedaleRomancebyNathanielHawthorne2081.txt 10.11  8.78  9.98\n",
            "DoctorGrimshawesSecretaRomancebyNathanielHawthorne7183.txt 13.74  9.09 12.44\n",
            "HouseoftheSevenGablesbyNathanielHawthorne77.txt 11.38  9.31 10.70\n",
            "TheScarletLetterbyNathanielHawthorne25344.txt 13.52  9.51 12.34\n",
            "TwiceToldTalesbyNathanielHawthorne13707.txt 11.84  9.21 10.74\n",
            "TanglewoodTalesbyNathanielHawthorne976.txt 10.59  7.99  9.71\n"
          ]
        }
      ]
    },
    {
      "cell_type": "markdown",
      "metadata": {
        "id": "Sweuf8gz6MPF"
      },
      "source": [
        "## **Type Token Ratio**"
      ]
    },
    {
      "cell_type": "markdown",
      "metadata": {
        "id": "wp75UuVknwv6"
      },
      "source": [
        "MSTTR for the Dickens texts"
      ]
    },
    {
      "cell_type": "code",
      "metadata": {
        "id": "hDl-k4Q2Xr65"
      },
      "source": [
        "from math import log2"
      ],
      "execution_count": null,
      "outputs": []
    },
    {
      "cell_type": "code",
      "metadata": {
        "id": "Bpg2G6ucnzNV"
      },
      "source": [
        "def msttr_dickens(fileid):\n",
        "  toks = list(dickens.words(fileid))\n",
        "  norm = [t.lower() for t in toks if t.isalpha() or t.endswith(\"'s\") or t.endswith(\"n't\")]\n",
        "  ttr = [len(set(s)) / len(s) for s in partition(2000,norm)]\n",
        "  return sum(ttr) / len(ttr)"
      ],
      "execution_count": null,
      "outputs": []
    },
    {
      "cell_type": "code",
      "metadata": {
        "id": "-QEym2gkn7xU",
        "outputId": "3435c24c-933d-4851-8cad-8a732d4dde33",
        "colab": {
          "base_uri": "https://localhost:8080/"
        }
      },
      "source": [
        "for fileid in dickens_texts:\n",
        "  print(f'{fileid:20} {msttr_dickens(fileid):5.3f}')"
      ],
      "execution_count": null,
      "outputs": [
        {
          "output_type": "stream",
          "name": "stdout",
          "text": [
            "BleakHousebyCharlesDickens1023.txt 0.334\n",
            "AChristmasCarolbyCharlesDickens46.txt 0.354\n",
            "ATaleofTwoCitiesbyCharlesDickens98.txt 0.342\n",
            "DavidCopperfieldbyCharlesDickens766.txt 0.330\n",
            "OliverTwistbyCharlesDickens730.txt 0.357\n"
          ]
        }
      ]
    },
    {
      "cell_type": "markdown",
      "metadata": {
        "id": "U71_-X6BnrT7"
      },
      "source": [
        "MSTTR for the Hawthorne texts"
      ]
    },
    {
      "cell_type": "code",
      "metadata": {
        "id": "ETLGOeJBznht"
      },
      "source": [
        "def msttr_hawthorne(fileid):\n",
        "  toks = list(hawthorne.words(fileid))\n",
        "  norm = [t.lower() for t in toks if t.isalpha() or t.endswith(\"'s\") or t.endswith(\"n't\")]\n",
        "  ttr = [len(set(s)) / len(s) for s in partition(2000,norm)]\n",
        "  return sum(ttr) / len(ttr)"
      ],
      "execution_count": null,
      "outputs": []
    },
    {
      "cell_type": "code",
      "metadata": {
        "id": "DaEcJS3bz0zx",
        "outputId": "ef4360f5-4246-484c-a5b4-7e562463c6cd",
        "colab": {
          "base_uri": "https://localhost:8080/"
        }
      },
      "source": [
        "for fileid in hawthorne_texts:\n",
        "  print(f'{fileid:20} {msttr_hawthorne(fileid):5.3f}')"
      ],
      "execution_count": null,
      "outputs": [
        {
          "output_type": "stream",
          "name": "stdout",
          "text": [
            "TheBlithedaleRomancebyNathanielHawthorne2081.txt 0.398\n",
            "DoctorGrimshawesSecretaRomancebyNathanielHawthorne7183.txt 0.364\n",
            "HouseoftheSevenGablesbyNathanielHawthorne77.txt 0.400\n",
            "TheScarletLetterbyNathanielHawthorne25344.txt 0.394\n",
            "TwiceToldTalesbyNathanielHawthorne13707.txt 0.406\n",
            "TanglewoodTalesbyNathanielHawthorne976.txt 0.353\n"
          ]
        }
      ]
    },
    {
      "cell_type": "markdown",
      "metadata": {
        "id": "28Yf5Tvk1U4K"
      },
      "source": [
        "## **Bigrams**"
      ]
    },
    {
      "cell_type": "code",
      "metadata": {
        "id": "yXMueBosukil",
        "outputId": "ad3a58ff-6ee3-4f71-b2bc-e65e8e8cf4b8",
        "colab": {
          "base_uri": "https://localhost:8080/"
        }
      },
      "source": [
        "%precision 3\n",
        "bleak_bank = [w.lower() for w in dickens.words('BleakHousebyCharlesDickens1023.txt') if w.isalpha()]\n",
        "nltk.bigrams(bleak_bank)\n",
        "bleak_bigrams = nltk.FreqDist(nltk.bigrams(bleak_bank))\n",
        "bleak_unigrams = nltk.FreqDist(bleak_bank)\n",
        "bleak_pmi = nltk.FreqDist()\n",
        "for w1,w2 in bleak_bigrams:\n",
        "  if bleak_bigrams[(w1,w2)] > 10:\n",
        "    bleak_pmi[(w1,w2)] = log2((bleak_bigrams[(w1,w2)]*bleak_unigrams.N())/(bleak_unigrams[w1]*bleak_unigrams[w2]))\n",
        "bleak_pmi.most_common(10)"
      ],
      "execution_count": null,
      "outputs": [
        {
          "output_type": "execute_result",
          "data": {
            "text/plain": [
              "[(('borrioboola', 'gha'), 14.664),\n",
              " (('guv', 'ner'), 14.564),\n",
              " (('professor', 'dingo'), 14.024),\n",
              " (('dame', 'durden'), 13.113),\n",
              " (('captain', 'swosser'), 12.852),\n",
              " (('fashionable', 'intelligence'), 12.533),\n",
              " (('shooting', 'gallery'), 12.401),\n",
              " (('ve', 'ry'), 12.228),\n",
              " (('mademoiselle', 'hortense'), 12.149),\n",
              " (('bayham', 'badger'), 12.079)]"
            ]
          },
          "metadata": {},
          "execution_count": 91
        }
      ]
    },
    {
      "cell_type": "code",
      "metadata": {
        "id": "qsIrt6g81Ws7",
        "outputId": "60d2ca3e-a3e7-43e5-dd32-7fa97ab86e72",
        "colab": {
          "base_uri": "https://localhost:8080/"
        }
      },
      "source": [
        "%precision 3\n",
        "carol_bank = [w.lower() for w in dickens.words('AChristmasCarolbyCharlesDickens46.txt') if w.isalpha()]\n",
        "nltk.bigrams(carol_bank)\n",
        "carol_bigrams = nltk.FreqDist(nltk.bigrams(carol_bank))\n",
        "carol_unigrams = nltk.FreqDist(carol_bank)\n",
        "carol_pmi = nltk.FreqDist()\n",
        "for w1,w2 in carol_bigrams:\n",
        "  if carol_bigrams[(w1,w2)] > 10:\n",
        "    carol_pmi[(w1,w2)] = log2((carol_bigrams[(w1,w2)]*carol_unigrams.N())/(carol_unigrams[w1]*carol_unigrams[w2]))\n",
        "carol_pmi.most_common(10)"
      ],
      "execution_count": null,
      "outputs": [
        {
          "output_type": "execute_result",
          "data": {
            "text/plain": [
              "[(('tiny', 'tim'), 10.131),\n",
              " (('young', 'cratchits'), 9.739),\n",
              " (('ha', 'ha'), 9.672),\n",
              " (('each', 'other'), 9.091),\n",
              " (('mrs', 'cratchit'), 9.022),\n",
              " (('n', 't'), 8.073),\n",
              " (('my', 'dear'), 7.737),\n",
              " (('merry', 'christmas'), 7.720),\n",
              " (('do', 'n'), 6.807),\n",
              " (('s', 'niece'), 6.736)]"
            ]
          },
          "metadata": {},
          "execution_count": 88
        }
      ]
    },
    {
      "cell_type": "code",
      "metadata": {
        "id": "IKnSTxFG2eDD",
        "outputId": "4864395b-5bbb-49b8-d44b-62217ed837b9",
        "colab": {
          "base_uri": "https://localhost:8080/"
        }
      },
      "source": [
        "cities_bank = [w.lower() for w in dickens.words('ATaleofTwoCitiesbyCharlesDickens98.txt') if w.isalpha()]\n",
        "nltk.bigrams(cities_bank)\n",
        "cities_bigrams = nltk.FreqDist(nltk.bigrams(cities_bank))\n",
        "cities_unigrams = nltk.FreqDist(cities_bank)\n",
        "\n",
        "cities_pmi = nltk.FreqDist()\n",
        "for w1,w2 in cities_bigrams:\n",
        "  if cities_bigrams[(w1,w2)] > 10:\n",
        "    cities_pmi[(w1,w2)] = log2((cities_bigrams[(w1,w2)]*cities_unigrams.N())/(cities_unigrams[w1]*cities_unigrams[w2]))\n",
        "\n",
        "cities_pmi.most_common(10)"
      ],
      "execution_count": null,
      "outputs": [
        {
          "output_type": "execute_result",
          "data": {
            "text/plain": [
              "[(('plane', 'tree'), 12.909),\n",
              " (('honest', 'tradesman'), 12.370),\n",
              " (('north', 'tower'), 12.281),\n",
              " (('wood', 'sawyer'), 12.014),\n",
              " (('temple', 'bar'), 11.632),\n",
              " (('la', 'force'), 11.484),\n",
              " (('attorney', 'general'), 11.378),\n",
              " (('blue', 'cap'), 11.260),\n",
              " (('thousand', 'seven'), 11.194),\n",
              " (('saint', 'antoine'), 11.164)]"
            ]
          },
          "metadata": {},
          "execution_count": 89
        }
      ]
    },
    {
      "cell_type": "code",
      "metadata": {
        "id": "lpXPzqRB2bIm",
        "outputId": "005c560f-b2a2-48e2-dc5d-7cd22ac6bd41",
        "colab": {
          "base_uri": "https://localhost:8080/"
        }
      },
      "source": [
        "copper_bank = [w.lower() for w in dickens.words('DavidCopperfieldbyCharlesDickens766.txt') if w.isalpha()]\n",
        "nltk.bigrams(copper_bank)\n",
        "copper_bigrams = nltk.FreqDist(nltk.bigrams(copper_bank))\n",
        "copper_unigrams = nltk.FreqDist(copper_bank)\n",
        "\n",
        "copper_pmi = nltk.FreqDist()\n",
        "for w1,w2 in copper_bigrams:\n",
        "  if copper_bigrams[(w1,w2)] > 10:\n",
        "    copper_pmi[(w1,w2)] = log2((copper_bigrams[(w1,w2)]*copper_unigrams.N())/(copper_unigrams[w1]*copper_unigrams[w2]))\n",
        "%precision 3\n",
        "copper_pmi.most_common(10)"
      ],
      "execution_count": null,
      "outputs": [
        {
          "output_type": "execute_result",
          "data": {
            "text/plain": [
              "[(('st', 'paul'), 13.893),\n",
              " (('captain', 'hopkins'), 13.834),\n",
              " (('king', 'charles'), 13.654),\n",
              " (('dan', 'l'), 13.174),\n",
              " (('shirt', 'collar'), 12.855),\n",
              " (('jack', 'maldon'), 12.332),\n",
              " (('wooden', 'leg'), 12.188),\n",
              " (('chimney', 'piece'), 12.163),\n",
              " (('ha', 'ha'), 12.086),\n",
              " (('brother', 'francis'), 12.023)]"
            ]
          },
          "metadata": {},
          "execution_count": 90
        }
      ]
    },
    {
      "cell_type": "code",
      "metadata": {
        "id": "o2Tm_RoQ2bo7",
        "outputId": "bcf8bcc4-5d50-41e8-d536-1568bad541fc",
        "colab": {
          "base_uri": "https://localhost:8080/"
        }
      },
      "source": [
        "twist_bank = [w.lower() for w in dickens.words('OliverTwistbyCharlesDickens730.txt') if w.isalpha()]\n",
        "nltk.bigrams(twist_bank)\n",
        "twist_bigrams = nltk.FreqDist(nltk.bigrams(twist_bank))\n",
        "twist_unigrams = nltk.FreqDist(twist_bank)\n",
        "\n",
        "twist_pmi = nltk.FreqDist()\n",
        "for w1,w2 in twist_bigrams:\n",
        "  if twist_bigrams[(w1,w2)] > 10:\n",
        "    twist_pmi[(w1,w2)] = log2((twist_bigrams[(w1,w2)]*twist_unigrams.N())/(twist_unigrams[w1]*twist_unigrams[w2]))\n",
        "%precision 3\n",
        "twist_pmi.most_common(10)"
      ],
      "execution_count": null,
      "outputs": [
        {
          "output_type": "execute_result",
          "data": {
            "text/plain": [
              "[(('o', 'clock'), 12.107),\n",
              " (('cocked', 'hat'), 11.096),\n",
              " (('toby', 'crackit'), 10.636),\n",
              " (('white', 'waistcoat'), 10.508),\n",
              " (('stop', 'thief'), 10.363),\n",
              " (('ha', 'ha'), 10.091),\n",
              " (('ma', 'am'), 9.628),\n",
              " (('charley', 'bates'), 9.555),\n",
              " (('master', 'bates'), 9.546),\n",
              " (('mrs', 'mann'), 9.240)]"
            ]
          },
          "metadata": {},
          "execution_count": 92
        }
      ]
    },
    {
      "cell_type": "markdown",
      "metadata": {
        "id": "j7LawwUp0kOe"
      },
      "source": [
        "## **Bar Plots**"
      ]
    },
    {
      "cell_type": "code",
      "metadata": {
        "id": "ZAjBwmV21v4X"
      },
      "source": [
        "dickens_tagged = nltk.corpus.TaggedCorpusReader('charles_dickens', r'.*\\.txt')\n",
        "hawthorne_tagged = nltk.corpus.TaggedCorpusReader('hawthorne', r'.*\\.txt')\n"
      ],
      "execution_count": null,
      "outputs": []
    },
    {
      "cell_type": "code",
      "metadata": {
        "id": "otZQPq5r044p"
      },
      "source": [
        "from numpy import arange\n",
        "from matplotlib import pyplot\n",
        "\n",
        "colors = 'rgbcmyk'\n",
        "\n",
        "def bar_chart(book, word, counts):\n",
        "    \"Plot a bar chart showing counts for each word by category\"\n",
        "    ind = arange(len(word))\n",
        "    width = 1 / (len(book) + 1)\n",
        "    bar_groups = []\n",
        "    for c in range(len(book)):\n",
        "        bars = pyplot.bar(ind+c*width, counts[book[c]], width,\n",
        "                         color=colors[c % len(colors)])\n",
        "        bar_groups.append(bars)\n",
        "    pyplot.xticks(ind+width, word)\n",
        "    pyplot.legend([b[0] for b in bar_groups], book, loc='upper left')\n",
        "    pyplot.ylabel('Frequency')\n",
        "    pyplot.title('Frequency of Five Modal Contractions by Book')\n",
        "    pyplot.show()"
      ],
      "execution_count": null,
      "outputs": []
    },
    {
      "cell_type": "markdown",
      "metadata": {
        "id": "lM5X575wTQGo"
      },
      "source": [
        "Bar Plots for Dickens Texts"
      ]
    },
    {
      "cell_type": "code",
      "metadata": {
        "id": "9uUNZ9-L1LZu",
        "outputId": "d2f457ff-f8da-4cd9-97b2-97574d55fab5",
        "colab": {
          "base_uri": "https://localhost:8080/",
          "height": 281
        }
      },
      "source": [
        "dickens_books = ['BleakHousebyCharlesDickens1023.txt', 'AChristmasCarolbyCharlesDickens46.txt',\n",
        "                 'ATaleofTwoCitiesbyCharlesDickens98.txt', 'DavidCopperfieldbyCharlesDickens766.txt', 'OliverTwistbyCharlesDickens730.txt']\n",
        "modals = [\"cann't\", \"couldn't\", \"don't\", \"it's\", \"that's\"]\n",
        "\n",
        "cfdist_dickens = nltk.ConditionalFreqDist(\n",
        "              (book, word)\n",
        "              for book in dickens_books\n",
        "              for word in dickens_tagged.words(book)\n",
        "              if word in modals)\n",
        "\n",
        "dickens_counts = {}\n",
        "for book in dickens_books:\n",
        "  dickens_counts[book] = [cfdist_dickens[book][word] for word in modals]\n",
        "bar_chart(dickens_books, modals, dickens_counts)\n",
        "\n"
      ],
      "execution_count": null,
      "outputs": [
        {
          "output_type": "display_data",
          "data": {
            "text/plain": [
              "<Figure size 432x288 with 1 Axes>"
            ],
            "image/png": "[encoded data removed]"
          },
          "metadata": {
            "needs_background": "light"
          }
        }
      ]
    },
    {
      "cell_type": "code",
      "source": [
        "dickens_tagged.fileids()"
      ],
      "metadata": {
        "colab": {
          "base_uri": "https://localhost:8080/"
        },
        "id": "KxAtT6odF_MD",
        "outputId": "d32dd403-301e-4ac3-ff0b-e6f67fd60646"
      },
      "execution_count": null,
      "outputs": [
        {
          "output_type": "execute_result",
          "data": {
            "text/plain": [
              "['AChildsDreamofaStarbyCharlesDickens42232.txt',\n",
              " 'AChristmasCarolTheoriginalmanuscriptbyCharlesDicke30368.txt',\n",
              " 'AChristmasCarolbyCharlesDickens19337.txt',\n",
              " 'AChristmasCarolbyCharlesDickens24022.txt',\n",
              " 'AChristmasCarolbyCharlesDickens46.txt',\n",
              " 'AHousetoLetbyAdelaideAnneProcter2324.txt',\n",
              " 'AMessagefromtheSeabyCharlesDickens1407.txt',\n",
              " 'ATaleofTwoCitiesbyCharlesDickens98.txt',\n",
              " 'BardellvPickwickbyCharlesDickens25985.txt',\n",
              " 'BarnabyRudgeataleoftheRiotsofeightybyCharlesDicken917.txt',\n",
              " 'BleakHousebyCharlesDickens1023.txt',\n",
              " 'CaptainBoldhearttheLatinGrammarMasterAHolidayRoman23765.txt',\n",
              " 'CharlesDickensChildrenStoriesbyCharlesDickens37121.txt',\n",
              " 'ChristmasTidebyElizabethHarrison41894.txt',\n",
              " 'DavidCopperfieldbyCharlesDickens766.txt',\n",
              " 'DickensStoriesAboutChildrenEveryChildCanReadbyChar32241.txt',\n",
              " 'DoctorMarigoldbyCharlesDickens1415.txt',\n",
              " 'DombeyandSonbyCharlesDickens821.txt',\n",
              " 'GeorgeSilvermansExplanationbyCharlesDickens810.txt',\n",
              " 'GoingintoSocietybyCharlesDickens1422.txt',\n",
              " 'GreatExpectationsbyCharlesDickens1400.txt',\n",
              " 'HardTimesbyCharlesDickens786.txt',\n",
              " 'HolidayRomancebyCharlesDickens809.txt',\n",
              " 'LazyTourofTwoIdleApprenticesbyWilkieCollins888.txt',\n",
              " 'LittleDorritbyCharlesDickens963.txt',\n",
              " 'MartinChuzzlewitbyCharlesDickens968.txt',\n",
              " 'MrsLirripersLegacybyCharlesDickens1421.txt',\n",
              " 'MrsLirripersLodgingsbyCharlesDickens1416.txt',\n",
              " 'MudfogandOtherSketchesbyCharlesDickens912.txt',\n",
              " 'MugbyJunctionbyCharlesDickens1419.txt',\n",
              " 'MugbyJunctionbyCharlesDickens27924.txt',\n",
              " 'NicholasNicklebybyCharlesDickens967.txt',\n",
              " 'NoThoroughfarebyWilkieCollins1423.txt',\n",
              " 'OliverTwistIllustratedorTheParishBoysProgressbyCha46675.txt',\n",
              " 'OliverTwistVol1of3byCharlesDickens47529.txt',\n",
              " 'OliverTwistVol2of3byCharlesDickens47530.txt',\n",
              " 'OliverTwistVol3of3byCharlesDickens47531.txt',\n",
              " 'OliverTwistbyCharlesDickens730.txt',\n",
              " 'OurMutualFriendbyCharlesDickens883.txt',\n",
              " 'PearlFishingChoiceStoriesfromDickensHouseholdWords49927.txt',\n",
              " 'PearlFishingChoiceStoriesfromDickensHouseholdWords50334.txt',\n",
              " 'PerilsofCertainEnglishPrisonersbyCharlesDickens1406.txt',\n",
              " 'ReprintedPiecesbyCharlesDickens872.txt',\n",
              " 'SketchesbyBozillustrativeofeverydaylifeandeveryday882.txt',\n",
              " 'SketchesofYoungCouplesbyCharlesDickens916.txt',\n",
              " 'SketchesofYoungGentlemenbyCharlesDickens918.txt',\n",
              " 'SomeChristmasStoriesbyCharlesDickens1467.txt',\n",
              " 'SomebodysLuggagebyCharlesDickens1414.txt',\n",
              " 'TheBattleofLifeALoveStorybyCharlesDickens40723.txt',\n",
              " 'TheBattleofLifebyCharlesDickens676.txt',\n",
              " 'TheChimesbyCharlesDickens653.txt',\n",
              " 'TheCricketontheHearthAFairyTaleofHomebyCharlesDick37581.txt',\n",
              " 'TheCricketontheHearthbyCharlesDickens20795.txt',\n",
              " 'TheCricketontheHearthbyCharlesDickens678.txt',\n",
              " 'TheHauntedManandtheGhostsBargainbyCharlesDickens644.txt',\n",
              " 'TheHollyTreebyCharlesDickens1394.txt',\n",
              " 'TheLamplighterafarceinoneactbyCharlesDickens927.txt',\n",
              " 'TheMagicFishboneAHolidayRomancefromthePenofMissAli23344.txt',\n",
              " 'TheMysteryofEdwinDroodbyCharlesDickens564.txt',\n",
              " 'TheOldCuriosityShopbyCharlesDickens700.txt',\n",
              " 'ThePersonalHistoryofDavidCopperfieldbyCharlesDicke43111.txt',\n",
              " 'ThePickwickPapersbyCharlesDickens580.txt',\n",
              " 'ThePosthumousPapersofthePickwickClubv1of2byCharles47534.txt',\n",
              " 'ThePosthumousPapersofthePickwickClubv2of2byCharles47535.txt',\n",
              " 'TheSevenPoorTravellersbyCharlesDickens1392.txt',\n",
              " 'TheTrialofWilliamTinklingWrittenbyHimselfattheAgeo23452.txt',\n",
              " 'TheUncommercialTravellerbyCharlesDickens914.txt',\n",
              " 'ToBeReadatDuskbyCharlesDickens924.txt',\n",
              " 'TomTiddlersGroundbyCharlesDickens1413.txt',\n",
              " 'WreckoftheGoldenMarybyCharlesDickens1465.txt']"
            ]
          },
          "metadata": {},
          "execution_count": 100
        }
      ]
    },
    {
      "cell_type": "markdown",
      "metadata": {
        "id": "FqqNOrnwTVQK"
      },
      "source": [
        "Bar Plot for Dickens texts first 30,000 words"
      ]
    },
    {
      "cell_type": "code",
      "metadata": {
        "id": "EiS1eYft63ty",
        "outputId": "b35568fd-ba33-40b6-c449-015d9a7d6257",
        "colab": {
          "base_uri": "https://localhost:8080/",
          "height": 281
        }
      },
      "source": [
        "modals_dickens_30 = [\"cann't\", \"couldn't\", \"don't\", \"it's\", \"that's\"]\n",
        "cfdist_dickens_30 = nltk.ConditionalFreqDist(\n",
        "              (book, word)\n",
        "              for book in dickens_books\n",
        "              for word in dickens_tagged.words(book)[:29250]\n",
        "              if word in modals_dickens_30)\n",
        "\n",
        "dickens_counts_30 = {}\n",
        "for book in dickens_books:\n",
        "     dickens_counts_30[book] = [cfdist_dickens_30[book][word] for word in modals_dickens_30]\n",
        "bar_chart(dickens_books, modals_dickens_30, dickens_counts_30)"
      ],
      "execution_count": null,
      "outputs": [
        {
          "output_type": "display_data",
          "data": {
            "text/plain": [
              "<Figure size 432x288 with 1 Axes>"
            ],
            "image/png": "[encoded data removed]"
          },
          "metadata": {
            "needs_background": "light"
          }
        }
      ]
    },
    {
      "cell_type": "markdown",
      "metadata": {
        "id": "_plzOlVsTakI"
      },
      "source": [
        "Bar Plots for Hawthorne Texts"
      ]
    },
    {
      "cell_type": "code",
      "metadata": {
        "id": "sDcqv5wKNwY0"
      },
      "source": [
        "hawthorne_books = [\"AWonderBook.txt\", \"DoctorGrimshawesSecret.txt\",\n",
        "                   \"HouseoftheSevenGables.txt\", \"TheBlithedaleRomance.txt\",\n",
        "                   \"TheScarletLetter.txt\", \"TwiceToldTales.txt\"]\n",
        "cfdist_hawthorne = nltk.ConditionalFreqDist(\n",
        "              (book, word)\n",
        "              for book in hawthorne_books\n",
        "              for word in hawthorne_tagged.words(book)\n",
        "              if word in modals)\n",
        "hawthorne_counts = {}\n",
        "for book in hawthorne_books:\n",
        "  hawthorne_counts[book] = [cfdist_hawthorne[book] [word] for word in modals]\n",
        "bar_chart(hawthorne_books, modals, hawthorne_counts)"
      ],
      "execution_count": null,
      "outputs": []
    },
    {
      "cell_type": "code",
      "metadata": {
        "id": "c8iSMbaTS3z5"
      },
      "source": [
        "cfdist_hawthorne_30 = nltk.ConditionalFreqDist(\n",
        "              (book, word)\n",
        "              for book in hawthorne_books\n",
        "              for word in hawthorne_tagged.words(book)[:29250]\n",
        "              if word in modals)\n",
        "\n",
        "hawthorne_counts_30 = {}\n",
        "for book in hawthorne_books:\n",
        "     hawthorne_counts_30[book] = [cfdist_hawthorne_30[book][word] for word in modals]\n",
        "bar_chart(hawthorne_books, modals, hawthorne_counts_30)"
      ],
      "execution_count": null,
      "outputs": []
    },
    {
      "cell_type": "code",
      "metadata": {
        "id": "Ixu6szS8a5M-"
      },
      "source": [
        "hawthorne_wordcount = nltk.FreqDist([w.lower() for w in hawthorne.words() if w.isalpha() or w.endswith(\"'s\") or w.endswith(\"n't\")])\n",
        "dickens_possibleword = set([w.lower() for w in dickens.words() if w.isalpha() or w.endswith(\"'s\") or w.endswith(\"n't\")])\n",
        "sorted([w for w in hawthorne_wordcount if w not in dickens_possibleword])"
      ],
      "execution_count": null,
      "outputs": []
    },
    {
      "cell_type": "code",
      "metadata": {
        "id": "k7vv2v0WcNmw"
      },
      "source": [
        "dickens_wordcount = nltk.FreqDist([w.lower() for w in dickens.words() if w.isalpha() or w.endswith(\"'s\") or w.endswith(\"n't\")])\n",
        "hawthorne_possibleword = set([w.lower() for w in hawthorne.words() if w.isalpha() or w.endswith(\"'s\") or w.endswith(\"n't\")])\n",
        "sorted([w for w in dickens_wordcount if w not in hawthorne_possibleword])"
      ],
      "execution_count": null,
      "outputs": []
    }
  ]
}